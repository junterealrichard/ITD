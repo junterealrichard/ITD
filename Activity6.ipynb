{
 "cells": [
  {
   "cell_type": "code",
   "execution_count": 1,
   "id": "f6077f90-bddc-44ce-bb35-e53463e2cb3a",
   "metadata": {},
   "outputs": [
    {
     "name": "stdout",
     "output_type": "stream",
     "text": [
      "Requirement already satisfied: folium in c:\\users\\up\\appdata\\local\\programs\\python\\python313\\lib\\site-packages (0.19.5)\n",
      "Requirement already satisfied: branca>=0.6.0 in c:\\users\\up\\appdata\\local\\programs\\python\\python313\\lib\\site-packages (from folium) (0.8.1)\n",
      "Requirement already satisfied: jinja2>=2.9 in c:\\users\\up\\appdata\\local\\programs\\python\\python313\\lib\\site-packages (from folium) (3.1.5)\n",
      "Requirement already satisfied: numpy in c:\\users\\up\\appdata\\local\\programs\\python\\python313\\lib\\site-packages (from folium) (2.2.3)\n",
      "Requirement already satisfied: requests in c:\\users\\up\\appdata\\local\\programs\\python\\python313\\lib\\site-packages (from folium) (2.32.3)\n",
      "Requirement already satisfied: xyzservices in c:\\users\\up\\appdata\\local\\programs\\python\\python313\\lib\\site-packages (from folium) (2025.1.0)\n",
      "Requirement already satisfied: MarkupSafe>=2.0 in c:\\users\\up\\appdata\\local\\programs\\python\\python313\\lib\\site-packages (from jinja2>=2.9->folium) (3.0.2)\n",
      "Requirement already satisfied: charset-normalizer<4,>=2 in c:\\users\\up\\appdata\\local\\programs\\python\\python313\\lib\\site-packages (from requests->folium) (3.4.1)\n",
      "Requirement already satisfied: idna<4,>=2.5 in c:\\users\\up\\appdata\\local\\programs\\python\\python313\\lib\\site-packages (from requests->folium) (3.10)\n",
      "Requirement already satisfied: urllib3<3,>=1.21.1 in c:\\users\\up\\appdata\\local\\programs\\python\\python313\\lib\\site-packages (from requests->folium) (2.3.0)\n",
      "Requirement already satisfied: certifi>=2017.4.17 in c:\\users\\up\\appdata\\local\\programs\\python\\python313\\lib\\site-packages (from requests->folium) (2025.1.31)\n",
      "Note: you may need to restart the kernel to use updated packages.\n"
     ]
    }
   ],
   "source": [
    "pip install folium"
   ]
  },
  {
   "cell_type": "code",
   "execution_count": 2,
   "id": "3bbba4c2-91db-4a4d-8541-04bbce017e89",
   "metadata": {},
   "outputs": [],
   "source": [
    "import numpy as np\n",
    "import pandas as pd \n",
    "import seaborn as sns \n",
    "import matplotlib.pyplot as plt \n",
    "import warnings \n",
    "warnings.filterwarnings('ignore')"
   ]
  },
  {
   "cell_type": "code",
   "execution_count": 3,
   "id": "89b70c1e-c8be-4f6f-b95a-958a31b2655a",
   "metadata": {},
   "outputs": [],
   "source": [
    "\n",
    "\n",
    "# Load the dataset with the correct encoding\n",
    "df = pd.read_csv('Global_terrorist.csv', encoding='ISO-8859-1')\n",
    "\n"
   ]
  },
  {
   "cell_type": "code",
   "execution_count": 4,
   "id": "b54d601b-0b95-4902-b301-786fbd02cb3e",
   "metadata": {},
   "outputs": [
    {
     "data": {
      "text/html": [
       "<div>\n",
       "<style scoped>\n",
       "    .dataframe tbody tr th:only-of-type {\n",
       "        vertical-align: middle;\n",
       "    }\n",
       "\n",
       "    .dataframe tbody tr th {\n",
       "        vertical-align: top;\n",
       "    }\n",
       "\n",
       "    .dataframe thead th {\n",
       "        text-align: right;\n",
       "    }\n",
       "</style>\n",
       "<table border=\"1\" class=\"dataframe\">\n",
       "  <thead>\n",
       "    <tr style=\"text-align: right;\">\n",
       "      <th></th>\n",
       "      <th>eventid</th>\n",
       "      <th>iyear</th>\n",
       "      <th>imonth</th>\n",
       "      <th>iday</th>\n",
       "      <th>approxdate</th>\n",
       "      <th>extended</th>\n",
       "      <th>resolution</th>\n",
       "      <th>country</th>\n",
       "      <th>country_txt</th>\n",
       "      <th>region</th>\n",
       "      <th>...</th>\n",
       "      <th>addnotes</th>\n",
       "      <th>scite1</th>\n",
       "      <th>scite2</th>\n",
       "      <th>scite3</th>\n",
       "      <th>dbsource</th>\n",
       "      <th>INT_LOG</th>\n",
       "      <th>INT_IDEO</th>\n",
       "      <th>INT_MISC</th>\n",
       "      <th>INT_ANY</th>\n",
       "      <th>related</th>\n",
       "    </tr>\n",
       "  </thead>\n",
       "  <tbody>\n",
       "    <tr>\n",
       "      <th>0</th>\n",
       "      <td>197000000001</td>\n",
       "      <td>1970</td>\n",
       "      <td>7</td>\n",
       "      <td>2</td>\n",
       "      <td>NaN</td>\n",
       "      <td>0</td>\n",
       "      <td>NaN</td>\n",
       "      <td>58</td>\n",
       "      <td>Dominican Republic</td>\n",
       "      <td>2</td>\n",
       "      <td>...</td>\n",
       "      <td>NaN</td>\n",
       "      <td>NaN</td>\n",
       "      <td>NaN</td>\n",
       "      <td>NaN</td>\n",
       "      <td>PGIS</td>\n",
       "      <td>0</td>\n",
       "      <td>0</td>\n",
       "      <td>0</td>\n",
       "      <td>0</td>\n",
       "      <td>NaN</td>\n",
       "    </tr>\n",
       "    <tr>\n",
       "      <th>1</th>\n",
       "      <td>197000000002</td>\n",
       "      <td>1970</td>\n",
       "      <td>0</td>\n",
       "      <td>0</td>\n",
       "      <td>NaN</td>\n",
       "      <td>0</td>\n",
       "      <td>NaN</td>\n",
       "      <td>130</td>\n",
       "      <td>Mexico</td>\n",
       "      <td>1</td>\n",
       "      <td>...</td>\n",
       "      <td>NaN</td>\n",
       "      <td>NaN</td>\n",
       "      <td>NaN</td>\n",
       "      <td>NaN</td>\n",
       "      <td>PGIS</td>\n",
       "      <td>0</td>\n",
       "      <td>1</td>\n",
       "      <td>1</td>\n",
       "      <td>1</td>\n",
       "      <td>NaN</td>\n",
       "    </tr>\n",
       "    <tr>\n",
       "      <th>2</th>\n",
       "      <td>197001000001</td>\n",
       "      <td>1970</td>\n",
       "      <td>1</td>\n",
       "      <td>0</td>\n",
       "      <td>NaN</td>\n",
       "      <td>0</td>\n",
       "      <td>NaN</td>\n",
       "      <td>160</td>\n",
       "      <td>Philippines</td>\n",
       "      <td>5</td>\n",
       "      <td>...</td>\n",
       "      <td>NaN</td>\n",
       "      <td>NaN</td>\n",
       "      <td>NaN</td>\n",
       "      <td>NaN</td>\n",
       "      <td>PGIS</td>\n",
       "      <td>-9</td>\n",
       "      <td>-9</td>\n",
       "      <td>1</td>\n",
       "      <td>1</td>\n",
       "      <td>NaN</td>\n",
       "    </tr>\n",
       "    <tr>\n",
       "      <th>3</th>\n",
       "      <td>197001000002</td>\n",
       "      <td>1970</td>\n",
       "      <td>1</td>\n",
       "      <td>0</td>\n",
       "      <td>NaN</td>\n",
       "      <td>0</td>\n",
       "      <td>NaN</td>\n",
       "      <td>78</td>\n",
       "      <td>Greece</td>\n",
       "      <td>8</td>\n",
       "      <td>...</td>\n",
       "      <td>NaN</td>\n",
       "      <td>NaN</td>\n",
       "      <td>NaN</td>\n",
       "      <td>NaN</td>\n",
       "      <td>PGIS</td>\n",
       "      <td>-9</td>\n",
       "      <td>-9</td>\n",
       "      <td>1</td>\n",
       "      <td>1</td>\n",
       "      <td>NaN</td>\n",
       "    </tr>\n",
       "    <tr>\n",
       "      <th>4</th>\n",
       "      <td>197001000003</td>\n",
       "      <td>1970</td>\n",
       "      <td>1</td>\n",
       "      <td>0</td>\n",
       "      <td>NaN</td>\n",
       "      <td>0</td>\n",
       "      <td>NaN</td>\n",
       "      <td>101</td>\n",
       "      <td>Japan</td>\n",
       "      <td>4</td>\n",
       "      <td>...</td>\n",
       "      <td>NaN</td>\n",
       "      <td>NaN</td>\n",
       "      <td>NaN</td>\n",
       "      <td>NaN</td>\n",
       "      <td>PGIS</td>\n",
       "      <td>-9</td>\n",
       "      <td>-9</td>\n",
       "      <td>1</td>\n",
       "      <td>1</td>\n",
       "      <td>NaN</td>\n",
       "    </tr>\n",
       "    <tr>\n",
       "      <th>...</th>\n",
       "      <td>...</td>\n",
       "      <td>...</td>\n",
       "      <td>...</td>\n",
       "      <td>...</td>\n",
       "      <td>...</td>\n",
       "      <td>...</td>\n",
       "      <td>...</td>\n",
       "      <td>...</td>\n",
       "      <td>...</td>\n",
       "      <td>...</td>\n",
       "      <td>...</td>\n",
       "      <td>...</td>\n",
       "      <td>...</td>\n",
       "      <td>...</td>\n",
       "      <td>...</td>\n",
       "      <td>...</td>\n",
       "      <td>...</td>\n",
       "      <td>...</td>\n",
       "      <td>...</td>\n",
       "      <td>...</td>\n",
       "      <td>...</td>\n",
       "    </tr>\n",
       "    <tr>\n",
       "      <th>181686</th>\n",
       "      <td>201712310022</td>\n",
       "      <td>2017</td>\n",
       "      <td>12</td>\n",
       "      <td>31</td>\n",
       "      <td>NaN</td>\n",
       "      <td>0</td>\n",
       "      <td>NaN</td>\n",
       "      <td>182</td>\n",
       "      <td>Somalia</td>\n",
       "      <td>11</td>\n",
       "      <td>...</td>\n",
       "      <td>NaN</td>\n",
       "      <td>\"Somalia: Al-Shabaab Militants Attack Army Che...</td>\n",
       "      <td>\"Highlights: Somalia Daily Media Highlights 2 ...</td>\n",
       "      <td>\"Highlights: Somalia Daily Media Highlights 1 ...</td>\n",
       "      <td>START Primary Collection</td>\n",
       "      <td>0</td>\n",
       "      <td>0</td>\n",
       "      <td>0</td>\n",
       "      <td>0</td>\n",
       "      <td>NaN</td>\n",
       "    </tr>\n",
       "    <tr>\n",
       "      <th>181687</th>\n",
       "      <td>201712310029</td>\n",
       "      <td>2017</td>\n",
       "      <td>12</td>\n",
       "      <td>31</td>\n",
       "      <td>NaN</td>\n",
       "      <td>0</td>\n",
       "      <td>NaN</td>\n",
       "      <td>200</td>\n",
       "      <td>Syria</td>\n",
       "      <td>10</td>\n",
       "      <td>...</td>\n",
       "      <td>NaN</td>\n",
       "      <td>\"Putin's 'victory' in Syria has turned into a ...</td>\n",
       "      <td>\"Two Russian soldiers killed at Hmeymim base i...</td>\n",
       "      <td>\"Two Russian servicemen killed in Syria mortar...</td>\n",
       "      <td>START Primary Collection</td>\n",
       "      <td>-9</td>\n",
       "      <td>-9</td>\n",
       "      <td>1</td>\n",
       "      <td>1</td>\n",
       "      <td>NaN</td>\n",
       "    </tr>\n",
       "    <tr>\n",
       "      <th>181688</th>\n",
       "      <td>201712310030</td>\n",
       "      <td>2017</td>\n",
       "      <td>12</td>\n",
       "      <td>31</td>\n",
       "      <td>NaN</td>\n",
       "      <td>0</td>\n",
       "      <td>NaN</td>\n",
       "      <td>160</td>\n",
       "      <td>Philippines</td>\n",
       "      <td>5</td>\n",
       "      <td>...</td>\n",
       "      <td>NaN</td>\n",
       "      <td>\"Maguindanao clashes trap tribe members,\" Phil...</td>\n",
       "      <td>NaN</td>\n",
       "      <td>NaN</td>\n",
       "      <td>START Primary Collection</td>\n",
       "      <td>0</td>\n",
       "      <td>0</td>\n",
       "      <td>0</td>\n",
       "      <td>0</td>\n",
       "      <td>NaN</td>\n",
       "    </tr>\n",
       "    <tr>\n",
       "      <th>181689</th>\n",
       "      <td>201712310031</td>\n",
       "      <td>2017</td>\n",
       "      <td>12</td>\n",
       "      <td>31</td>\n",
       "      <td>NaN</td>\n",
       "      <td>0</td>\n",
       "      <td>NaN</td>\n",
       "      <td>92</td>\n",
       "      <td>India</td>\n",
       "      <td>6</td>\n",
       "      <td>...</td>\n",
       "      <td>NaN</td>\n",
       "      <td>\"Trader escapes grenade attack in Imphal,\" Bus...</td>\n",
       "      <td>NaN</td>\n",
       "      <td>NaN</td>\n",
       "      <td>START Primary Collection</td>\n",
       "      <td>-9</td>\n",
       "      <td>-9</td>\n",
       "      <td>0</td>\n",
       "      <td>-9</td>\n",
       "      <td>NaN</td>\n",
       "    </tr>\n",
       "    <tr>\n",
       "      <th>181690</th>\n",
       "      <td>201712310032</td>\n",
       "      <td>2017</td>\n",
       "      <td>12</td>\n",
       "      <td>31</td>\n",
       "      <td>NaN</td>\n",
       "      <td>0</td>\n",
       "      <td>NaN</td>\n",
       "      <td>160</td>\n",
       "      <td>Philippines</td>\n",
       "      <td>5</td>\n",
       "      <td>...</td>\n",
       "      <td>NaN</td>\n",
       "      <td>\"Security tightened in Cotabato following IED ...</td>\n",
       "      <td>\"Security tightened in Cotabato City,\" Manila ...</td>\n",
       "      <td>NaN</td>\n",
       "      <td>START Primary Collection</td>\n",
       "      <td>-9</td>\n",
       "      <td>-9</td>\n",
       "      <td>0</td>\n",
       "      <td>-9</td>\n",
       "      <td>NaN</td>\n",
       "    </tr>\n",
       "  </tbody>\n",
       "</table>\n",
       "<p>181691 rows × 135 columns</p>\n",
       "</div>"
      ],
      "text/plain": [
       "             eventid  iyear  imonth  iday approxdate  extended resolution  \\\n",
       "0       197000000001   1970       7     2        NaN         0        NaN   \n",
       "1       197000000002   1970       0     0        NaN         0        NaN   \n",
       "2       197001000001   1970       1     0        NaN         0        NaN   \n",
       "3       197001000002   1970       1     0        NaN         0        NaN   \n",
       "4       197001000003   1970       1     0        NaN         0        NaN   \n",
       "...              ...    ...     ...   ...        ...       ...        ...   \n",
       "181686  201712310022   2017      12    31        NaN         0        NaN   \n",
       "181687  201712310029   2017      12    31        NaN         0        NaN   \n",
       "181688  201712310030   2017      12    31        NaN         0        NaN   \n",
       "181689  201712310031   2017      12    31        NaN         0        NaN   \n",
       "181690  201712310032   2017      12    31        NaN         0        NaN   \n",
       "\n",
       "        country         country_txt  region  ... addnotes  \\\n",
       "0            58  Dominican Republic       2  ...      NaN   \n",
       "1           130              Mexico       1  ...      NaN   \n",
       "2           160         Philippines       5  ...      NaN   \n",
       "3            78              Greece       8  ...      NaN   \n",
       "4           101               Japan       4  ...      NaN   \n",
       "...         ...                 ...     ...  ...      ...   \n",
       "181686      182             Somalia      11  ...      NaN   \n",
       "181687      200               Syria      10  ...      NaN   \n",
       "181688      160         Philippines       5  ...      NaN   \n",
       "181689       92               India       6  ...      NaN   \n",
       "181690      160         Philippines       5  ...      NaN   \n",
       "\n",
       "                                                   scite1  \\\n",
       "0                                                     NaN   \n",
       "1                                                     NaN   \n",
       "2                                                     NaN   \n",
       "3                                                     NaN   \n",
       "4                                                     NaN   \n",
       "...                                                   ...   \n",
       "181686  \"Somalia: Al-Shabaab Militants Attack Army Che...   \n",
       "181687  \"Putin's 'victory' in Syria has turned into a ...   \n",
       "181688  \"Maguindanao clashes trap tribe members,\" Phil...   \n",
       "181689  \"Trader escapes grenade attack in Imphal,\" Bus...   \n",
       "181690  \"Security tightened in Cotabato following IED ...   \n",
       "\n",
       "                                                   scite2  \\\n",
       "0                                                     NaN   \n",
       "1                                                     NaN   \n",
       "2                                                     NaN   \n",
       "3                                                     NaN   \n",
       "4                                                     NaN   \n",
       "...                                                   ...   \n",
       "181686  \"Highlights: Somalia Daily Media Highlights 2 ...   \n",
       "181687  \"Two Russian soldiers killed at Hmeymim base i...   \n",
       "181688                                                NaN   \n",
       "181689                                                NaN   \n",
       "181690  \"Security tightened in Cotabato City,\" Manila ...   \n",
       "\n",
       "                                                   scite3  \\\n",
       "0                                                     NaN   \n",
       "1                                                     NaN   \n",
       "2                                                     NaN   \n",
       "3                                                     NaN   \n",
       "4                                                     NaN   \n",
       "...                                                   ...   \n",
       "181686  \"Highlights: Somalia Daily Media Highlights 1 ...   \n",
       "181687  \"Two Russian servicemen killed in Syria mortar...   \n",
       "181688                                                NaN   \n",
       "181689                                                NaN   \n",
       "181690                                                NaN   \n",
       "\n",
       "                        dbsource  INT_LOG  INT_IDEO INT_MISC INT_ANY  related  \n",
       "0                           PGIS        0         0        0       0      NaN  \n",
       "1                           PGIS        0         1        1       1      NaN  \n",
       "2                           PGIS       -9        -9        1       1      NaN  \n",
       "3                           PGIS       -9        -9        1       1      NaN  \n",
       "4                           PGIS       -9        -9        1       1      NaN  \n",
       "...                          ...      ...       ...      ...     ...      ...  \n",
       "181686  START Primary Collection        0         0        0       0      NaN  \n",
       "181687  START Primary Collection       -9        -9        1       1      NaN  \n",
       "181688  START Primary Collection        0         0        0       0      NaN  \n",
       "181689  START Primary Collection       -9        -9        0      -9      NaN  \n",
       "181690  START Primary Collection       -9        -9        0      -9      NaN  \n",
       "\n",
       "[181691 rows x 135 columns]"
      ]
     },
     "execution_count": 4,
     "metadata": {},
     "output_type": "execute_result"
    }
   ],
   "source": [
    "df"
   ]
  },
  {
   "cell_type": "code",
   "execution_count": 5,
   "id": "14d29d04-a42a-40fe-89a4-ecd9960469b5",
   "metadata": {},
   "outputs": [],
   "source": [
    "filter1 = df[df['region_txt'] == \"Middle East & North Africa\"]"
   ]
  },
  {
   "cell_type": "code",
   "execution_count": 6,
   "id": "aae2f513-20e8-4515-a753-6fd98d8110a0",
   "metadata": {},
   "outputs": [],
   "source": [
    "filter2 = filter1[filter1['iyear'] > 2000]"
   ]
  },
  {
   "cell_type": "code",
   "execution_count": 7,
   "id": "6d2e9147-9bf6-458b-bec0-dc0c56d121d4",
   "metadata": {},
   "outputs": [
    {
     "data": {
      "text/plain": [
       "attacktype1_txt\n",
       "Bombing/Explosion                      26819\n",
       "Armed Assault                           6980\n",
       "Hostage Taking (Kidnapping)             2316\n",
       "Assassination                           2157\n",
       "Unknown                                 1597\n",
       "Facility/Infrastructure Attack           698\n",
       "Unarmed Assault                          102\n",
       "Hostage Taking (Barricade Incident)       70\n",
       "Hijacking                                 67\n",
       "Name: count, dtype: int64"
      ]
     },
     "execution_count": 7,
     "metadata": {},
     "output_type": "execute_result"
    }
   ],
   "source": [
    "filter2['attacktype1_txt'].value_counts()"
   ]
  },
  {
   "cell_type": "code",
   "execution_count": 8,
   "id": "e5217d29-95c9-481b-8539-a077abc13a79",
   "metadata": {},
   "outputs": [],
   "source": [
    "filter3 = filter2[filter2['attacktype1_txt'] == 'Bombing/Explosion']"
   ]
  },
  {
   "cell_type": "code",
   "execution_count": 9,
   "id": "499837bf-df99-4777-b97b-b5457f9ea8c3",
   "metadata": {},
   "outputs": [],
   "source": [
    "final_filter = filter3.groupby(['latitude', 'longitude']).size().reset_index(name = 'incident_count')"
   ]
  },
  {
   "cell_type": "markdown",
   "id": "63cd3b05-f57d-4586-ade0-f01e9d802ac6",
   "metadata": {},
   "source": [
    "<h1>Use of Folium For GEOSPATIAL</h1>"
   ]
  },
  {
   "cell_type": "code",
   "execution_count": 10,
   "id": "4e5815ca-19dd-4910-a0b8-f62284c96da7",
   "metadata": {},
   "outputs": [],
   "source": [
    "import folium\n",
    "from folium.plugins import HeatMap"
   ]
  },
  {
   "cell_type": "markdown",
   "id": "bdf2a403-26a4-42c3-ac14-6523de48343d",
   "metadata": {},
   "source": [
    "<h2>Converting Pandas Data Frame into Python List</h2>"
   ]
  },
  {
   "cell_type": "code",
   "execution_count": 11,
   "id": "fe8530f9-0254-43fd-bd8f-b04a26efcb95",
   "metadata": {},
   "outputs": [],
   "source": [
    "heatmap_data = final_filter[['latitude', 'longitude', 'incident_count']].values.tolist()"
   ]
  },
  {
   "cell_type": "markdown",
   "id": "0be0443e-167d-4098-9435-b978e605370c",
   "metadata": {},
   "source": [
    "<h2>Creating a Base map</h2>"
   ]
  },
  {
   "cell_type": "code",
   "execution_count": 12,
   "id": "7deea68e-738b-477e-82f1-c7b5eaacf01b",
   "metadata": {},
   "outputs": [],
   "source": [
    "my_map = folium.Map(location = [30,40], zoom_start = 4)"
   ]
  },
  {
   "cell_type": "markdown",
   "id": "6b68b808-06e8-4a33-998b-ae41121b99b8",
   "metadata": {},
   "source": [
    "<h2>Add Heatmap Layer</h2>"
   ]
  },
  {
   "cell_type": "code",
   "execution_count": 13,
   "id": "c9dbfd1c-fde5-434e-94f1-cb1cdc724da4",
   "metadata": {},
   "outputs": [
    {
     "data": {
      "text/plain": [
       "<folium.plugins.heat_map.HeatMap at 0x1982e705160>"
      ]
     },
     "execution_count": 13,
     "metadata": {},
     "output_type": "execute_result"
    }
   ],
   "source": [
    "HeatMap(heatmap_data).add_to(my_map)"
   ]
  },
  {
   "cell_type": "code",
   "execution_count": 14,
   "id": "cb47e452-da57-49ae-9bed-6c77eda87135",
   "metadata": {},
   "outputs": [
    {
     "name": "stdout",
     "output_type": "stream",
     "text": [
      "data save to terrorism_bombing.html\n"
     ]
    }
   ],
   "source": [
    "my_map.save('terrorism_bombing.html')\n",
    "print(\"data save to terrorism_bombing.html\")"
   ]
  },
  {
   "cell_type": "code",
   "execution_count": 15,
   "id": "ec43b349-c0a9-421b-b08b-c5d466569fa9",
   "metadata": {},
   "outputs": [
    {
     "data": {
      "text/html": [
       "<div style=\"width:100%;\"><div style=\"position:relative;width:100%;height:0;padding-bottom:60%;\"><span style=\"color:#565656\">Make this Notebook Trusted to load map: File -> Trust Notebook</span><iframe srcdoc=\"&lt;!DOCTYPE html&gt;\n",
       "&lt;html&gt;\n",
       "&lt;head&gt;\n",
       "    \n",
       "    &lt;meta http-equiv=&quot;content-type&quot; content=&quot;text/html; charset=UTF-8&quot; /&gt;\n",
       "    \n",
       "        &lt;script&gt;\n",
       "            L_NO_TOUCH = false;\n",
       "            L_DISABLE_3D = false;\n",
       "        &lt;/script&gt;\n",
       "    \n",
       "    &lt;style&gt;html, body {width: 100%;height: 100%;margin: 0;padding: 0;}&lt;/style&gt;\n",
       "    &lt;style&gt;#map {position:absolute;top:0;bottom:0;right:0;left:0;}&lt;/style&gt;\n",
       "    &lt;script src=&quot;https://cdn.jsdelivr.net/npm/leaflet@1.9.3/dist/leaflet.js&quot;&gt;&lt;/script&gt;\n",
       "    &lt;script src=&quot;https://code.jquery.com/jquery-3.7.1.min.js&quot;&gt;&lt;/script&gt;\n",
       "    &lt;script src=&quot;https://cdn.jsdelivr.net/npm/bootstrap@5.2.2/dist/js/bootstrap.bundle.min.js&quot;&gt;&lt;/script&gt;\n",
       "    &lt;script src=&quot;https://cdnjs.cloudflare.com/ajax/libs/Leaflet.awesome-markers/2.0.2/leaflet.awesome-markers.js&quot;&gt;&lt;/script&gt;\n",
       "    &lt;link rel=&quot;stylesheet&quot; href=&quot;https://cdn.jsdelivr.net/npm/leaflet@1.9.3/dist/leaflet.css&quot;/&gt;\n",
       "    &lt;link rel=&quot;stylesheet&quot; href=&quot;https://cdn.jsdelivr.net/npm/bootstrap@5.2.2/dist/css/bootstrap.min.css&quot;/&gt;\n",
       "    &lt;link rel=&quot;stylesheet&quot; href=&quot;https://netdna.bootstrapcdn.com/bootstrap/3.0.0/css/bootstrap-glyphicons.css&quot;/&gt;\n",
       "    &lt;link rel=&quot;stylesheet&quot; href=&quot;https://cdn.jsdelivr.net/npm/@fortawesome/fontawesome-free@6.2.0/css/all.min.css&quot;/&gt;\n",
       "    &lt;link rel=&quot;stylesheet&quot; href=&quot;https://cdnjs.cloudflare.com/ajax/libs/Leaflet.awesome-markers/2.0.2/leaflet.awesome-markers.css&quot;/&gt;\n",
       "    &lt;link rel=&quot;stylesheet&quot; href=&quot;https://cdn.jsdelivr.net/gh/python-visualization/folium/folium/templates/leaflet.awesome.rotate.min.css&quot;/&gt;\n",
       "    \n",
       "            &lt;meta name=&quot;viewport&quot; content=&quot;width=device-width,\n",
       "                initial-scale=1.0, maximum-scale=1.0, user-scalable=no&quot; /&gt;\n",
       "            &lt;style&gt;\n",
       "                #map_3814be36b51f6f34a13140ebebac1c90 {\n",
       "                    position: relative;\n",
       "                    width: 100.0%;\n",
       "                    height: 100.0%;\n",
       "                    left: 0.0%;\n",
       "                    top: 0.0%;\n",
       "                }\n",
       "                .leaflet-container { font-size: 1rem; }\n",
       "            &lt;/style&gt;\n",
       "        \n",
       "    &lt;script src=&quot;https://cdn.jsdelivr.net/gh/python-visualization/folium@main/folium/templates/leaflet_heat.min.js&quot;&gt;&lt;/script&gt;\n",
       "&lt;/head&gt;\n",
       "&lt;body&gt;\n",
       "    \n",
       "    \n",
       "            &lt;div class=&quot;folium-map&quot; id=&quot;map_3814be36b51f6f34a13140ebebac1c90&quot; &gt;&lt;/div&gt;\n",
       "        \n",
       "&lt;/body&gt;\n",
       "&lt;script&gt;\n",
       "    \n",
       "    \n",
       "            var map_3814be36b51f6f34a13140ebebac1c90 = L.map(\n",
       "                &quot;map_3814be36b51f6f34a13140ebebac1c90&quot;,\n",
       "                {\n",
       "                    center: [30.0, 40.0],\n",
       "                    crs: L.CRS.EPSG3857,\n",
       "                    ...{\n",
       "  &quot;zoom&quot;: 4,\n",
       "  &quot;zoomControl&quot;: true,\n",
       "  &quot;preferCanvas&quot;: false,\n",
       "}\n",
       "\n",
       "                }\n",
       "            );\n",
       "\n",
       "            \n",
       "\n",
       "        \n",
       "    \n",
       "            var tile_layer_f34527be3be25939c58b836e0b45a765 = L.tileLayer(\n",
       "                &quot;https://tile.openstreetmap.org/{z}/{x}/{y}.png&quot;,\n",
       "                {\n",
       "  &quot;minZoom&quot;: 0,\n",
       "  &quot;maxZoom&quot;: 19,\n",
       "  &quot;maxNativeZoom&quot;: 19,\n",
       "  &quot;noWrap&quot;: false,\n",
       "  &quot;attribution&quot;: &quot;\\u0026copy; \\u003ca href=\\&quot;https://www.openstreetmap.org/copyright\\&quot;\\u003eOpenStreetMap\\u003c/a\\u003e contributors&quot;,\n",
       "  &quot;subdomains&quot;: &quot;abc&quot;,\n",
       "  &quot;detectRetina&quot;: false,\n",
       "  &quot;tms&quot;: false,\n",
       "  &quot;opacity&quot;: 1,\n",
       "}\n",
       "\n",
       "            );\n",
       "        \n",
       "    \n",
       "            tile_layer_f34527be3be25939c58b836e0b45a765.addTo(map_3814be36b51f6f34a13140ebebac1c90);\n",
       "        \n",
       "    \n",
       "            var heat_map_cb0eef345fac760c2c7879dc1508282e = L.heatLayer(\n",
       "                [[12.533136, 47.922339, 1.0], [12.683549, 43.458797, 1.0], [12.714722, 44.207778, 1.0], [12.725161, 43.494482, 1.0], [12.735371, 43.511569, 1.0], [12.741025, 43.505749, 1.0], [12.743795, 44.843678, 1.0], [12.752948, 44.881515, 1.0], [12.760069, 44.890266, 7.0], [12.765967, 43.5174, 2.0], [12.775551, 45.032369, 1.0], [12.783454, 45.033404, 1.0], [12.8, 45.033333, 2.0], [12.814073, 44.728992, 1.0], [12.825647, 44.846416, 129.0], [12.825748, 44.79438, 2.0], [12.832581, 45.027071, 1.0], [12.83672, 44.922062, 3.0], [12.838674, 44.868883, 1.0], [12.849057, 44.972015, 1.0], [12.852693, 44.894836, 1.0], [12.853328, 44.972282, 1.0], [12.853567, 44.972876, 1.0], [12.867085, 44.981911, 29.0], [12.870799, 45.046499, 1.0], [12.873418, 44.906765, 2.0], [12.889457, 44.971794, 2.0], [12.900677, 44.972241, 1.0], [12.99372, 44.919445, 1.0], [12.997533, 44.974079, 1.0], [13.05, 44.883333, 2.0], [13.055403, 44.862393, 1.0], [13.057677, 44.883764, 1.0], [13.057842, 44.883283, 2.0], [13.05966, 44.88462, 1.0], [13.063399, 44.880882, 15.0], [13.077372, 44.909767, 2.0], [13.129726, 45.385571, 33.0], [13.139245, 44.920768, 1.0], [13.143678, 44.845333, 1.0], [13.148959, 44.85055, 3.0], [13.151046, 43.738775, 1.0], [13.160563, 43.73093, 1.0], [13.168248, 43.742406, 1.0], [13.168694, 43.741907, 1.0], [13.170047, 43.732746, 1.0], [13.181362, 43.728558, 1.0], [13.185451, 44.18408, 1.0], [13.186468, 44.705687, 1.0], [13.206995, 44.758297, 3.0], [13.212723, 44.12413, 1.0], [13.219398, 45.307838, 7.0], [13.272575, 44.271331, 1.0], [13.290569, 44.260556, 1.0], [13.293056, 45.295, 1.0], [13.311045, 43.230998, 1.0], [13.319617, 43.25563, 6.0], [13.32022, 43.275402, 1.0], [13.323393, 43.21091, 1.0], [13.332529, 44.092531, 1.0], [13.340718, 45.297108, 1.0], [13.351021, 44.506941, 1.0], [13.357599, 45.69648, 13.0], [13.369068, 44.490955, 1.0], [13.374256, 44.754753, 1.0], [13.387688, 44.194593, 1.0], [13.411003, 43.627374, 2.0], [13.413117, 43.637531, 7.0], [13.413146, 43.637596, 1.0], [13.413319, 43.627508, 1.0], [13.432827, 43.993898, 1.0], [13.432837, 43.689155, 1.0], [13.468156, 43.870591, 1.0], [13.475898, 45.005579, 1.0], [13.489751, 43.860317, 1.0], [13.5, 43.966667, 1.0], [13.500195, 43.803875, 1.0], [13.515, 44.051667, 1.0], [13.51507, 44.051651, 1.0], [13.51633, 46.711048, 1.0], [13.519842, 46.714822, 1.0], [13.52192, 46.711593, 2.0], [13.521941, 46.711571, 1.0], [13.532532, 44.849667, 3.0], [13.548424, 44.052176, 1.0], [13.554123, 43.963087, 1.0], [13.555278, 43.962778, 1.0], [13.555918, 44.016965, 1.0], [13.563019, 43.997702, 1.0], [13.564492, 44.030692, 1.0], [13.574698, 44.010392, 2.0], [13.577589, 44.017799, 1.0], [13.578889, 44.021944, 2.0], [13.584444, 43.6675, 1.0], [13.586484, 44.024105, 172.0], [13.599058, 43.88771, 1.0], [13.611111, 43.932778, 1.0], [13.627303, 46.059752, 1.0], [13.629895, 43.964956, 1.0], [13.634341, 46.056321, 4.0], [13.634756, 46.057217, 1.0], [13.635472, 43.317189, 1.0], [13.657844, 45.8434, 2.0], [13.683741, 46.081752, 3.0], [13.702663, 44.73357, 20.0], [13.703256, 44.733454, 1.0], [13.705788, 43.289405, 1.0], [13.708098, 46.028087, 1.0], [13.713333, 46.011944, 1.0], [13.716706, 44.096954, 1.0], [13.726045, 46.106443, 1.0], [13.733333, 44.666667, 1.0], [13.741654, 45.687587, 1.0], [13.752071, 46.519192, 1.0], [13.757184, 44.138802, 1.0], [13.762068, 44.140316, 1.0], [13.764453, 45.808896, 1.0], [13.770527, 46.010265, 1.0], [13.798281, 44.752841, 1.0], [13.79985, 45.886147, 2.0], [13.801155, 45.88591, 1.0], [13.804983, 44.775642, 1.0], [13.810242, 43.24831, 1.0], [13.810876, 44.77428, 1.0], [13.811761, 43.253821, 1.0], [13.819448, 45.936384, 1.0], [13.820762, 43.267241, 1.0], [13.826605, 44.690594, 1.0], [13.831926, 45.244199, 1.0], [13.834537, 45.244948, 1.0], [13.843289, 44.759748, 1.0], [13.850661, 44.70184, 1.0], [13.851414, 45.790558, 1.0], [13.879274, 45.869519, 1.0], [13.882909, 45.866875, 1.0], [13.883333, 45.866667, 1.0], [13.883349, 45.866662, 1.0], [13.887227, 46.237402, 1.0], [13.887403, 45.863647, 22.0], [13.890458, 45.873434, 1.0], [13.892411, 45.883171, 1.0], [13.903266, 44.746556, 1.0], [13.92413, 44.145917, 1.0], [13.92891, 46.079328, 2.0], [13.928919, 46.079398, 2.0], [13.92892, 46.079399, 1.0], [13.930818, 46.079908, 1.0], [13.932036, 46.083254, 3.0], [13.933002, 46.083264, 2.0], [13.933333, 46.083333, 1.0], [13.933373, 46.083331, 1.0], [13.943889, 45.673611, 1.0], [13.948923, 44.400687, 1.0], [13.96179, 44.173213, 1.0], [13.962564, 45.467466, 1.0], [13.963175, 45.516596, 1.0], [13.964295, 45.465207, 1.0], [13.965421, 44.163712, 1.0], [13.966667, 44.166667, 2.0], [13.966953, 44.002258, 2.0], [13.967149, 44.165426, 1.0], [13.967151, 44.165426, 1.0], [13.967402, 44.174461, 1.0], [13.968475, 44.172876, 1.0], [13.970996, 46.456956, 1.0], [13.972093, 44.162534, 1.0], [13.975, 46.458333, 1.0], [13.975963, 44.155413, 1.0], [13.978683, 45.429204, 2.0], [13.980025, 48.189154, 2.0], [13.980492, 45.572119, 1.0], [13.985013, 45.558479, 19.0], [13.988915, 45.5771, 2.0], [13.990227, 48.18108, 3.0], [13.993311, 46.697793, 1.0], [13.996881, 48.184644, 1.0], [13.996908, 48.184603, 1.0], [14.000416, 43.467974, 1.0], [14.002145, 46.722083, 1.0], [14.05, 47.9, 1.0], [14.060983, 46.915399, 1.0], [14.061252, 46.914978, 3.0], [14.061619, 46.914966, 2.0], [14.062312, 46.918716, 1.0], [14.068985, 45.420895, 1.0], [14.074127, 44.498986, 1.0], [14.105556, 45.448056, 1.0], [14.141572, 44.247902, 2.0], [14.158611, 45.472778, 1.0], [14.162459, 44.819548, 1.0], [14.162848, 43.943714, 1.0], [14.181738, 43.988298, 1.0], [14.188971, 44.002315, 1.0], [14.19209, 45.774124, 1.0], [14.221949, 44.39045, 1.0], [14.268147, 46.909001, 1.0], [14.279772, 47.575336, 3.0], [14.288558, 46.856585, 1.0], [14.299835, 45.219672, 1.0], [14.326655, 47.447216, 3.0], [14.327928, 44.90665, 1.0], [14.336243, 44.905128, 1.0], [14.354522, 47.075779, 1.0], [14.358866, 45.449806, 7.0], [14.358866, 45.449807, 1.0], [14.358986, 45.449806, 1.0], [14.360278, 47.341944, 1.0], [14.38252, 47.399537, 1.0], [14.413989, 44.837418, 12.0], [14.416667, 44.833333, 1.0], [14.427033, 46.150619, 1.0], [14.46184, 47.278858, 1.0], [14.474749, 49.03429, 2.0], [14.483333, 46.416667, 1.0], [14.48382, 44.482153, 4.0], [14.515319, 44.852594, 1.0], [14.52618, 46.844932, 1.0], [14.529744, 46.82955, 1.0], [14.531174, 46.839874, 1.0], [14.533333, 49.133333, 1.0], [14.533581, 46.807541, 1.0], [14.536183, 46.833056, 1.0], [14.536389, 46.833056, 4.0], [14.536472, 46.83322, 1.0], [14.543932, 46.831747, 1.0], [14.54397, 49.12458, 36.0], [14.55, 44.401667, 1.0], [14.597842, 44.386803, 5.0], [14.631344, 45.366609, 1.0], [14.652778, 45.350833, 1.0], [14.665977, 47.143753, 1.0], [14.68825, 49.395949, 1.0], [14.691211, 46.933789, 2.0], [14.708049, 46.384954, 1.0], [14.716448, 44.245849, 2.0], [14.719504, 46.868266, 2.0], [14.734767, 48.800512, 1.0], [14.735377, 46.527424, 1.0], [14.739842, 46.517463, 1.0], [14.745667, 46.521177, 1.0], [14.745667, 46.55139, 1.0], [14.753515, 49.583228, 1.0], [14.753635, 46.515684, 1.0], [14.754606, 46.51627, 1.0], [14.75463, 46.516262, 11.0], [14.756594, 45.731583, 1.0], [14.762732, 49.605728, 1.0], [14.769764, 49.374268, 2.0], [14.781294, 42.972851, 14.0], [14.797765, 44.292176, 1.0], [14.798176, 45.717361, 2.0], [14.798351, 45.719041, 1.0], [14.833366, 43.227895, 1.0], [14.835939, 44.107913, 1.0], [14.881758, 49.146743, 1.0], [14.899366, 44.120492, 1.0], [15.031944, 45.828056, 1.0], [15.031965, 45.82837, 1.0], [15.052266, 45.835899, 1.0], [15.058531, 43.128853, 1.0], [15.113846, 45.881134, 1.0], [15.136053, 44.297629, 1.0], [15.141161, 48.357219, 1.0], [15.154778, 45.995721, 1.0], [15.1703, 46.0274, 1.0], [15.176541, 44.081017, 3.0], [15.189627, 46.001341, 1.0], [15.19, 46.733611, 1.0], [15.19, 46.7338, 1.0], [15.225852, 44.254398, 1.0], [15.249762, 49.587039, 1.0], [15.316891, 44.474802, 1.0], [15.325443, 44.211895, 150.0], [15.325556, 45.276111, 1.0], [15.338147, 48.454428, 1.0], [15.355708, 44.480438, 1.0], [15.379444, 46.900833, 1.0], [15.391668, 44.279964, 1.0], [15.398305, 45.454547, 1.0], [15.406189, 45.101881, 1.0], [15.410185, 44.140969, 1.0], [15.413965, 45.95049, 1.0], [15.416036, 45.191317, 1.0], [15.41667, 48.53333, 1.0], [15.416983, 45.081879, 2.0], [15.417692, 45.447271, 1.0], [15.423729, 45.456926, 1.0], [15.434043, 45.48023, 1.0], [15.447841, 45.017147, 1.0], [15.44799, 45.41048, 1.0], [15.449164, 44.291123, 1.0], [15.449888, 45.018688, 6.0], [15.45, 45.333333, 1.0], [15.450212, 45.019599, 1.0], [15.450314, 45.01981, 1.0], [15.450319, 45.019018, 1.0], [15.450333, 45.019821, 5.0], [15.450918, 45.019948, 1.0], [15.452762, 45.31698, 1.0], [15.45639, 45.324871, 39.0], [15.45641, 45.018612, 1.0], [15.458333, 45.386389, 2.0], [15.459284, 45.429539, 2.0], [15.459802, 45.42778, 1.0], [15.460342, 45.323692, 1.0], [15.460565, 45.481312, 1.0], [15.462475, 45.323565, 1.0], [15.464361, 45.325646, 1.0], [15.46591, 45.293941, 3.0], [15.466342, 45.324741, 2.0], [15.470031, 45.322857, 1.0], [15.470031, 45.322858, 1.0], [15.472255, 45.319517, 1.0], [15.473889, 45.366667, 1.0], [15.477795, 45.551209, 1.0], [15.488754, 43.763244, 1.0], [15.493057, 45.464645, 1.0], [15.5, 44.083333, 1.0], [15.500716, 44.087541, 1.0], [15.502404, 45.449854, 1.0], [15.503956, 45.4091, 1.0], [15.506389, 44.060278, 1.0], [15.506619, 45.433531, 1.0], [15.506945, 48.34395, 1.0], [15.511819, 43.903221, 1.0], [15.515888, 45.449806, 11.0], [15.515888, 45.449807, 5.0], [15.516118, 45.459809, 4.0], [15.516216, 45.449806, 1.0], [15.517205, 45.439024, 2.0], [15.517205, 45.460567, 1.0], [15.52596, 45.580441, 1.0], [15.538618, 45.432851, 1.0], [15.545556, 45.3925, 1.0], [15.554965, 48.1728, 1.0], [15.559512, 44.971462, 1.0], [15.559544, 45.485716, 1.0], [15.566652, 45.787139, 1.0], [15.571617, 45.791185, 1.0], [15.574141, 45.805646, 1.0], [15.575871, 43.903036, 1.0], [15.585038, 44.028631, 1.0], [15.612456, 48.952117, 1.0], [15.61454, 44.596579, 3.0], [15.61629, 44.564576, 1.0], [15.616667, 45.3, 1.0], [15.620833, 44.1935, 1.0], [15.625556, 44.058611, 1.0], [15.635556, 44.323889, 7.0], [15.644197, 45.466003, 1.0], [15.64466, 44.190141, 1.0], [15.661751, 43.947233, 1.0], [15.662876, 43.945765, 1.0], [15.663055, 43.94577, 1.0], [15.664708, 43.943921, 1.0], [15.666667, 43.95, 3.0], [15.672163, 43.945709, 1.0], [15.677824, 43.905995, 1.0], [15.685347, 43.946264, 1.0], [15.715656, 43.999977, 1.0], [15.734395, 45.773805, 1.0], [15.798056, 46.081667, 1.0], [15.823405, 44.038661, 1.0], [15.8275, 44.793889, 1.0], [15.839565, 48.455301, 2.0], [15.840202, 48.45438, 10.0], [15.840556, 48.455556, 1.0], [15.842201, 48.455792, 1.0], [15.850014, 46.08332, 1.0], [15.914915, 48.650745, 9.0], [15.921257, 48.636382, 3.0], [15.931111, 48.748056, 1.0], [15.940011, 48.789753, 19.0], [15.9486, 48.750902, 1.0], [15.954903, 43.78367, 1.0], [15.964205, 48.78252, 4.0], [15.965333, 49.000313, 1.0], [16.0, 48.5, 2.0], [16.005641, 43.1925, 1.0], [16.030962, 48.996393, 1.0], [16.032999, 44.766691, 2.0], [16.033225, 44.766555, 1.0], [16.033333, 44.766667, 1.0], [16.04081, 48.342746, 1.0], [16.062678, 43.297575, 1.0], [16.118063, 43.329466, 1.0], [16.122346, 43.329649, 1.0], [16.133333, 47.233333, 1.0], [16.135376, 44.711612, 1.0], [16.136157, 47.233939, 1.0], [16.146248, 43.943766, 1.0], [16.146947, 43.48065, 2.0], [16.165407, 44.776897, 5.0], [16.179182, 44.039065, 1.0], [16.19005, 42.882414, 1.0], [16.199874, 44.408998, 1.0], [16.249994, 45.478097, 1.0], [16.256921, 43.943679, 1.0], [16.282222, 43.745833, 1.0], [16.321999, 42.814075, 1.0], [16.3785, 43.724238, 1.0], [16.402103, 43.05595, 1.0], [16.41489, 43.10772, 1.0], [16.431822, 45.602888, 1.0], [16.451439, 42.904686, 1.0], [16.524263, 42.967896, 7.0], [16.529372, 43.013416, 2.0], [16.529444, 42.9675, 1.0], [16.546944, 42.979444, 1.0], [16.552261, 42.953253, 1.0], [16.559956, 45.691624, 1.0], [16.576572, 43.093524, 1.0], [16.576665, 42.920508, 1.0], [16.579604, 42.914226, 1.0], [16.596515, 42.939034, 1.0], [16.601688, 42.94059, 7.0], [16.691499, 42.942709, 1.0], [16.714702, 44.875403, 1.0], [16.74667, 43.217305, 1.0], [16.755931, 45.721743, 1.0], [16.756625, 43.230939, 1.0], [16.759295, 43.184751, 1.0], [16.76068, 43.212107, 1.0], [16.762467, 43.22816, 1.0], [16.764359, 43.252999, 1.0], [16.790182, 45.299386, 1.0], [16.800006, 43.149996, 1.0], [16.801231, 43.150663, 1.0], [16.821774, 49.425954, 1.0], [16.851862, 43.93115, 1.0], [16.876176, 43.806503, 1.0], [16.882694, 42.559745, 1.0], [16.883873, 42.562349, 1.0], [16.887294, 42.565977, 5.0], [16.889167, 42.561111, 8.0], [16.889287, 42.570656, 1.0], [16.889303, 42.570655, 1.0], [16.889359, 42.570567, 5.0], [16.889379, 42.570553, 1.0], [16.88981, 43.807983, 4.0], [16.890726, 42.567442, 1.0], [16.892213, 42.56892, 2.0], [16.893194, 42.57526, 6.0], [16.893259, 43.799374, 1.0], [16.909684, 49.403801, 3.0], [16.917494, 43.762409, 6.0], [16.920195, 49.360771, 1.0], [16.92545, 49.388237, 1.0], [16.930413, 49.365314, 1.0], [16.930414, 49.365314, 1.0], [16.930414, 49.365315, 2.0], [16.930705, 49.348869, 1.0], [16.934746, 43.76484, 1.0], [16.94322, 43.76532, 1.0], [17.008906, 45.808609, 1.0], [17.027995, 43.033777, 2.0], [17.038014, 43.048585, 1.0], [17.04146, 44.107291, 1.0], [17.041539, 44.107291, 1.0], [17.060139, 43.599369, 1.0], [17.088291, 49.403801, 1.0], [17.15, 42.5, 1.0], [17.25564, 42.727309, 2.0], [17.27073, 43.217068, 1.0], [17.294844, 42.695584, 1.0], [17.341714, 43.131141, 1.0], [17.447464, 44.718525, 1.0], [17.465111, 42.757008, 2.0], [17.475135, 42.707611, 6.0], [17.489233, 47.104439, 1.0], [17.490911, 44.131759, 1.0], [17.545372, 44.222498, 1.0], [17.554939, 44.232357, 31.0], [17.565604, 44.228944, 7.0], [17.56582, 44.229171, 1.0], [17.651777, 43.526192, 8.0], [17.658138, 45.261024, 1.0], [17.667165, 44.250822, 1.0], [17.700589, 43.604145, 1.0], [17.884025, 43.326599, 1.0], [17.916769, 43.361625, 1.0], [18.20109, 42.631306, 1.0], [18.223461, 42.526051, 3.0], [18.23429, 42.657574, 1.0], [18.284561, 45.511309, 1.0], [18.300925, 42.795899, 1.0], [18.314753, 42.725163, 8.0], [18.350015, 45.509294, 1.0], [18.351466, 45.600711, 3.0], [18.520277, 45.69972, 2.0], [19.049376, 42.868178, 1.0], [19.096906, 42.863788, 3.0], [19.118069, 42.86235, 1.0], [19.981443, 42.601597, 1.0], [20.960376, 40.046593, 1.0], [21.416667, 39.816667, 1.0], [21.437273, 40.512714, 2.0], [21.525071, 39.165189, 1.0], [21.543155, 39.174905, 1.0], [21.543333, 39.172778, 1.0], [21.957183, 50.754611, 1.0], [22.784648, 5.52271, 1.0], [23.540869, 45.508899, 1.0], [24.08554, 38.063286, 1.0], [24.088088, 32.901032, 1.0], [24.088856, 32.899651, 1.0], [24.088938, 32.899829, 2.0], [24.089097, 38.063963, 1.0], [24.14996, 47.300525, 1.0], [24.183333, 23.283333, 1.0], [24.406897, 32.918875, 1.0], [24.464374, 46.266591, 1.0], [24.465375, 54.366353, 1.0], [24.593432, 46.757546, 1.0], [24.611645, 32.904158, 1.0], [24.633333, 46.716667, 1.0], [24.64732, 46.714581, 12.0], [24.649938, 46.708172, 1.0], [24.713552, 46.675296, 1.0], [24.840398, 39.320624, 1.0], [24.95945, 46.703021, 1.0], [24.978548, 32.87582, 1.0], [25.185573, 55.303363, 1.0], [25.239444, 56.360556, 1.0], [25.29161, 51.530437, 1.0], [25.291944, 60.643056, 2.0], [25.403051, 49.589794, 1.0], [25.412173, 56.25297, 1.0], [25.71468, 32.717499, 1.0], [25.932228, 49.664617, 1.0], [25.999999, 50.616685, 1.0], [26.004934, 48.81395, 1.0], [26.047953, 32.240407, 2.0], [26.066562, 32.221662, 1.0], [26.079255, 61.753754, 1.0], [26.113889, 50.481667, 2.0], [26.118904, 50.502213, 3.0], [26.123784, 50.469588, 2.0], [26.12382, 50.469628, 1.0], [26.13, 50.555, 1.0], [26.133815, 50.566872, 1.0], [26.135555, 50.600174, 1.0], [26.143757, 50.604046, 7.0], [26.147871, 50.498844, 1.0], [26.150199, 50.582401, 1.0], [26.154981, 32.716012, 1.0], [26.154994, 32.716429, 1.0], [26.155061, 32.716012, 1.0], [26.168217, 50.571804, 1.0], [26.169081, 50.614277, 13.0], [26.173237, 50.550972, 2.0], [26.184725, 50.467002, 1.0], [26.185306, 50.503483, 1.0], [26.188889, 50.55, 1.0], [26.191792, 50.484642, 2.0], [26.200018, 50.463268, 3.0], [26.204552, 50.534554, 1.0], [26.206879, 50.556702, 1.0], [26.209757, 50.505797, 1.0], [26.210377, 50.46233, 5.0], [26.210929, 50.448907, 1.0], [26.213229, 50.527792, 1.0], [26.214488, 50.584754, 1.0], [26.214625, 50.520413, 1.0], [26.21552, 50.512394, 1.0], [26.215823, 50.44972, 1.0], [26.217001, 50.587414, 16.0], [26.217348, 50.504264, 1.0], [26.218399, 50.195902, 2.0], [26.218794, 50.533783, 1.0], [26.21912, 50.464478, 4.0], [26.222639, 50.516018, 4.0], [26.223519, 60.750488, 2.0], [26.223698, 50.536629, 9.0], [26.226559, 50.54591, 1.0], [26.226565, 50.545907, 1.0], [26.231722, 50.509521, 4.0], [26.253864, 50.613705, 3.0], [26.28323, 50.631496, 3.0], [26.428604, 50.066521, 2.0], [26.554785, 50.004524, 4.0], [26.558523, 31.695478, 1.0], [26.573522, 50.038563, 1.0], [26.587351, 49.984146, 6.0], [26.594172, 49.977173, 1.0], [26.756038, 14.023506, 1.0], [26.9174, 61.00202, 1.0], [27.022867, 14.441218, 9.0], [27.058452, 27.969925, 1.0], [27.153611, -13.203333, 1.0], [27.181122, 31.179426, 1.0], [27.207501, 31.166733, 2.0], [27.257896, 33.811607, 1.0], [27.366279, 62.334945, 1.0], [27.36902, 62.331253, 1.0], [27.3707, 62.3342, 1.0], [27.370794, 62.334035, 1.0], [27.370833, 62.334167, 1.0], [27.476968, 14.36197, 1.0], [27.529991, 60.582068, 2.0], [27.545029, 14.277712, 1.0], [27.591857, 21.610931, 1.0], [27.658915, 22.495108, 1.0], [27.867261, -0.28533, 1.0], [27.915557, 34.329886, 1.0], [28.03129, 33.781681, 1.0], [28.086801, 30.762019, 1.0], [28.087097, 30.76184, 1.0], [28.231423, 61.19276, 1.0], [28.239797, 33.622915, 1.0], [28.240884, 33.62257, 1.0], [28.245118, 33.622913, 1.0], [28.309792, 30.708694, 1.0], [28.416768, 45.971496, 1.0], [28.509136, 34.513634, 1.0], [28.766622, 29.232078, 1.0], [28.766622, 29.232079, 1.0], [28.921436, 30.983749, 1.0], [29.041111, 48.1375, 1.0], [29.066127, 31.099384, 1.0], [29.068194, 31.099291, 1.0], [29.07335, 31.096894, 1.0], [29.07605, 31.094774, 4.0], [29.088528, 2.212674, 1.0], [29.1187, 15.954073, 1.0], [29.122501, 34.683143, 1.0], [29.126222, 34.684259, 1.0], [29.151583, 21.292322, 1.0], [29.154917, 16.156118, 1.0], [29.16784, 46.600029, 1.0], [29.202868, 19.217541, 1.0], [29.238157, 30.797907, 2.0], [29.308327, 30.844256, 1.0], [29.308393, 30.842839, 1.0], [29.308402, 30.84285, 1.0], [29.311529, 30.836503, 2.0], [29.311707, 30.838812, 20.0], [29.311745, 30.83781, 1.0], [29.312292, 30.842129, 1.0], [29.334104, 31.204954, 1.0], [29.347702, 47.94912, 2.0], [29.362207, 19.205558, 1.0], [29.368226, 32.174605, 1.0], [29.37457, 32.177933, 1.0], [29.471151, 17.927935, 1.0], [29.474121, 30.959152, 2.0], [29.483576, 60.862701, 6.0], [29.490095, 34.899447, 1.0], [29.492057, 34.895225, 1.0], [29.531969, 35.007061, 2.0], [29.554548, 34.947533, 14.0], [29.590594, 32.713285, 1.0], [29.591325, 52.58361, 1.0], [29.620413, 31.259259, 1.0], [29.691005, 33.8657, 1.0], [29.732586, 31.303039, 1.0], [29.789183, 17.553286, 1.0], [29.830748, 17.288151, 1.0], [29.831976, 31.337257, 7.0], [29.849805, 31.335283, 1.0], [29.864917, 32.655393, 2.0], [29.892022, 31.301557, 2.0], [29.902568, 30.634518, 2.0], [29.905632, 33.749462, 1.0], [29.908825, 45.299141, 1.0], [29.964494, 32.528546, 1.0], [29.966111, 32.527968, 1.0], [29.966757, 32.549628, 2.0], [29.974001, 31.156275, 1.0], [29.976161, 48.471969, 1.0], [29.981329, 14.24356, 1.0], [29.997915, 30.963032, 18.0], [30.002778, 34.681667, 1.0], [30.004092, 47.937309, 1.0], [30.0075, 33.395, 1.0], [30.013056, 31.208853, 1.0], [30.014193, 31.287932, 1.0], [30.016894, 31.377034, 3.0], [30.022924, 31.185192, 48.0], [30.026531, 31.456419, 2.0], [30.030554, 31.110741, 1.0], [30.038057, 47.925789, 1.0], [30.044245, 31.235845, 1.0], [30.044552, 31.235733, 1.0], [30.047068, 31.130505, 1.0], [30.063242, 30.063242, 1.0], [30.076843, 31.158298, 4.0], [30.084629, 31.334314, 95.0], [30.116667, 47.716667, 1.0], [30.116775, 47.71924, 1.0], [30.122938, 31.135947, 1.0], [30.125427, 31.320609, 1.0], [30.135777, 31.26964, 5.0], [30.146909, 31.277878, 1.0], [30.148302, 17.007691, 1.0], [30.152935, 31.319418, 1.0], [30.169854, 34.173178, 1.0], [30.193108, 31.136799, 1.0], [30.194015, 35.733423, 1.0], [30.242052, 16.987644, 1.0], [30.273654, 47.223712, 1.0], [30.280886, 47.614256, 1.0], [30.281462, 34.957573, 1.0], [30.282305, 47.36075, 1.0], [30.293114, 47.292389, 1.0], [30.3067, 31.730761, 3.0], [30.329237, 31.216847, 3.0], [30.345997, 48.287136, 1.0], [30.355781, 16.876631, 1.0], [30.361125, 33.694858, 1.0], [30.367212, 47.102622, 1.0], [30.376924, 47.714458, 1.0], [30.383333, 47.7, 3.0], [30.388007, 47.713127, 1.0], [30.392788, 34.489788, 1.0], [30.40053, 19.606054, 1.0], [30.416963, 31.563298, 1.0], [30.437778, 30.194722, 1.0], [30.439771, 47.574925, 1.0], [30.446524, 47.981791, 1.0], [30.446822, 48.752677, 1.0], [30.449667, 35.053592, 1.0], [30.451041, 47.981308, 1.0], [30.457385, 33.152163, 1.0], [30.4653, 33.785694, 4.0], [30.465928, 30.93058, 1.0], [30.465985, 30.930646, 1.0], [30.465993, 31.184831, 3.0], [30.46632, 33.648028, 1.0], [30.470624, 33.613632, 5.0], [30.475543, 33.726127, 1.0], [30.480731, 16.820695, 1.0], [30.491551, 35.165443, 1.0], [30.491611, 47.831924, 1.0], [30.491793, 18.547119, 8.0], [30.495131, 34.559644, 1.0], [30.498423, 33.810298, 1.0], [30.5, 33.6, 1.0], [30.5, 47.816667, 1.0], [30.510054, 47.778095, 126.0], [30.51048, 31.345509, 1.0], [30.51284, 31.347135, 1.0], [30.5375, 31.678611, 1.0], [30.543211, 33.639568, 1.0], [30.54537, 33.611283, 1.0], [30.554492, 49.186735, 1.0], [30.55503, 33.77642, 1.0], [30.562224, 32.111443, 1.0], [30.565576, 31.013082, 1.0], [30.570085, 33.628685, 1.0], [30.576442, 31.503931, 1.0], [30.576491, 31.504178, 1.0], [30.576538, 31.504066, 1.0], [30.576868, 31.503584, 1.0], [30.577371, 31.504635, 1.0], [30.577668, 31.503943, 1.0], [30.582209, 15.407966, 1.0], [30.587291, 31.503016, 4.0], [30.588468, 31.482826, 1.0], [30.58848, 33.584154, 1.0], [30.588551, 31.482634, 1.0], [30.595366, 32.271942, 1.0], [30.597245, 30.987632, 3.0], [30.599508, 33.58176, 1.0], [30.604512, 32.273649, 2.0], [30.605228, 33.617842, 1.0], [30.608472, 33.617577, 37.0], [30.608949, 33.618098, 1.0], [30.610665, 33.638763, 1.0], [30.622246, 33.6419, 1.0], [30.63179, 18.351568, 9.0], [30.638472, 47.506056, 1.0], [30.647354, 32.253088, 3.0], [30.652019, 33.645026, 1.0], [30.652376, 46.81062, 1.0], [30.659786, 31.588371, 1.0], [30.66667, 34.83333, 16.0], [30.666689, 34.368584, 3.0], [30.667636, 31.692668, 1.0], [30.671648, 33.88896, 1.0], [30.675715, 33.611755, 1.0], [30.683774, 33.624076, 1.0], [30.692919, 33.824881, 1.0], [30.699335, 33.644714, 1.0], [30.718645, 31.563543, 1.0], [30.72086, 31.67165, 1.0], [30.721449, 34.875657, 1.0], [30.725416, 31.669928, 1.0], [30.725516, 31.730288, 1.0], [30.727154, 31.668627, 1.0], [30.727223, 18.215196, 1.0], [30.727675, 31.724866, 2.0], [30.730803, 31.742241, 1.0], [30.732393, 31.714354, 1.0], [30.732442, 31.720059, 3.0], [30.732662, 31.719546, 2.0], [30.747309, 31.130546, 1.0], [30.75711, 18.195799, 2.0], [30.757133, 20.237541, 13.0], [30.762296, 29.696268, 2.0], [30.780207, 17.837408, 2.0], [30.787678, 30.999529, 10.0], [30.819122, 30.823359, 2.0], [30.824685, 34.921618, 1.0], [30.824734, 30.818955, 1.0], [30.829562, 35.038816, 22.0], [30.833017, 35.042271, 8.0], [30.848099, 30.343551, 2.0], [30.875356, 31.03351, 3.0], [30.8775, 34.381944, 1.0], [30.882597, 34.392049, 1.0], [30.885363, 46.467974, 1.0], [30.886219, 34.076081, 1.0], [30.886599, 30.665666, 1.0], [30.90807, 32.314716, 1.0], [30.93436, 29.694039, 1.0], [30.941732, 31.293508, 1.0], [30.951601, 20.118898, 2.0], [30.953911, 47.51038, 1.0], [30.968777, 31.170673, 7.0], [30.976266, 41.018741, 1.0], [30.978895, 41.018, 1.0], [30.99614, 34.247173, 2.0], [31.015833, 47.430556, 2.0], [31.016779, 33.008587, 6.0], [31.019476, 34.590935, 1.0], [31.039309, 31.379664, 1.0], [31.041021, 31.377196, 1.0], [31.042457, 30.47275, 3.0], [31.04359, 31.33423, 1.0], [31.044371, 46.261452, 37.0], [31.046051, 34.851612, 1.0], [31.05, 46.266667, 1.0], [31.052045, 34.005281, 1.0], [31.05238, 16.661961, 1.0], [31.05397, 17.284967, 1.0], [31.062082, 33.812483, 1.0], [31.066526, 33.850052, 1.0], [31.069604, 33.532727, 1.0], [31.070501, 35.030529, 3.0], [31.071688, 47.608913, 1.0], [31.073358, 33.472405, 1.0], [31.080795, 33.638188, 2.0], [31.082872, 34.146267, 11.0], [31.083202, 31.491318, 1.0], [31.091713, 31.488465, 1.0], [31.097014, 30.311429, 1.0], [31.098334, 34.749311, 1.0], [31.099057, 33.812419, 2.0], [31.100028, 33.823922, 1.0], [31.103965, 33.901494, 1.0], [31.104229, 46.362469, 3.0], [31.104444, 33.841528, 1.0], [31.104548, 46.362265, 1.0], [31.106367, 30.942002, 1.0], [31.110285, 33.932247, 3.0], [31.111961, 30.942169, 3.0], [31.113592, 45.883691, 1.0], [31.116554, 33.72472, 3.0], [31.117753, 34.080634, 1.0], [31.125883, 33.820059, 1.0], [31.126646, 33.800865, 255.0], [31.1279, 34.161843, 1.0], [31.13012, 29.77837, 1.0], [31.131111, 30.13, 1.0], [31.13194, 33.803232, 1.0], [31.132093, 33.803276, 7.0], [31.135535, 45.861207, 1.0], [31.144444, 33.883611, 1.0], [31.145676, 33.880152, 1.0], [31.146263, 33.851883, 1.0], [31.149084, 33.903081, 1.0], [31.150532, 34.003844, 1.0], [31.152665, 34.022213, 1.0], [31.156389, 34.164167, 1.0], [31.156792, 34.123059, 1.0], [31.163713, 33.955925, 8.0], [31.164289, 16.887761, 1.0], [31.164414, 33.964448, 1.0], [31.16983, 34.087421, 3.0], [31.172222, 34.196667, 2.0], [31.172319, 34.196793, 1.0], [31.172832, 34.222353, 1.0], [31.173071, 34.219944, 4.0], [31.17308, 34.136125, 1.0], [31.174071, 34.14131, 1.0], [31.174142, 33.96743, 1.0], [31.175401, 33.985587, 1.0], [31.186066, 34.008556, 3.0], [31.189301, 34.319347, 1.0], [31.189689, 16.570193, 2.0], [31.191312, 34.122179, 1.0], [31.191675, 29.913424, 1.0], [31.192114, 34.449473, 25.0], [31.193704, 29.917103, 1.0], [31.193954, 29.897987, 1.0], [31.196338, 34.067523, 1.0], [31.197348, 29.892957, 1.0], [31.197586, 16.586681, 62.0], [31.19829, 29.899403, 1.0], [31.199595, 29.918559, 1.0], [31.199787, 29.91838, 1.0], [31.2, 16.6, 1.0], [31.200016, 29.918828, 5.0], [31.200092, 29.918649, 4.0], [31.200092, 29.918739, 6.0], [31.201445, 34.080503, 1.0], [31.201967, 29.917284, 1.0], [31.202322, 34.464182, 1.0], [31.202661, 34.466578, 1.0], [31.203173, 16.643446, 1.0], [31.204293, 34.465897, 1.0], [31.204947, 34.465511, 1.0], [31.205314, 16.588936, 2.0], [31.205791, 34.463728, 1.0], [31.205826, 34.462316, 1.0], [31.206242, 34.464335, 3.0], [31.206487, 34.068428, 1.0], [31.206525, 34.46519, 1.0], [31.20666, 34.46471, 1.0], [31.206808, 34.464185, 11.0], [31.206961, 16.547762, 1.0], [31.207376, 34.082742, 1.0], [31.20772, 34.465326, 1.0], [31.207882, 34.068871, 3.0], [31.20798, 34.464449, 1.0], [31.20811, 34.464627, 1.0], [31.210951, 29.946908, 2.0], [31.211392, 15.494519, 1.0], [31.211645, 34.110425, 5.0], [31.211786, 34.151035, 5.0], [31.211882, 34.124159, 1.0], [31.212225, 34.117065, 133.0], [31.213676, 16.39732, 1.0], [31.214772, 34.47893, 3.0], [31.218267, 34.482787, 4.0], [31.218889, 34.183889, 1.0], [31.223425, 34.201193, 1.0], [31.224418, 34.270414, 1.0], [31.224911, 34.270959, 1.0], [31.225078, 34.271231, 2.0], [31.229699, 35.092813, 1.0], [31.231411, 34.280243, 1.0], [31.235262, 34.280579, 1.0], [31.238023, 29.999354, 1.0], [31.238398, 29.967003, 1.0], [31.241078, 32.240958, 1.0], [31.2414, 34.194079, 1.0], [31.244561, 34.251727, 1.0], [31.246389, 34.276111, 2.0], [31.248222, 29.9748, 1.0], [31.248484, 34.787853, 29.0], [31.250196, 34.24128, 114.0], [31.250535, 34.796031, 1.0], [31.250535, 34.796032, 1.0], [31.250535, 34.796033, 6.0], [31.250535, 34.796034, 1.0], [31.250535, 34.796035, 1.0], [31.250535, 34.796036, 1.0], [31.250535, 34.796037, 1.0], [31.250833, 34.175, 1.0], [31.252973, 34.791462, 1.0], [31.253554, 34.231465, 1.0], [31.255534, 29.9832, 1.0], [31.256169, 34.311722, 1.0], [31.256876, 34.316767, 1.0], [31.260081, 34.324945, 1.0], [31.262409, 34.321238, 2.0], [31.263388, 32.264418, 1.0], [31.265289, 32.301866, 4.0], [31.266208, 32.304858, 1.0], [31.269161, 34.205718, 1.0], [31.274655, 34.167938, 1.0], [31.27591, 34.217949, 1.0], [31.278791, 34.256435, 15.0], [31.281059, 34.449322, 1.0], [31.282654, 30.016884, 2.0], [31.285506, 48.643416, 7.0], [31.288554, 34.294659, 1.0], [31.29151, 34.263803, 1.0], [31.292222, 34.29054, 1.0], [31.294462, 34.293284, 1.0], [31.29668, 34.243631, 1.0], [31.297746, 34.292718, 1.0], [31.297962, 48.56809, 1.0], [31.298613, 46.241665, 1.0], [31.29877, 34.24792, 1.0], [31.299865, 34.622695, 1.0], [31.300213, 45.277092, 12.0], [31.303121, 34.431501, 1.0], [31.303146, 34.431545, 1.0], [31.303342, 34.430881, 1.0], [31.303614, 30.057511, 1.0], [31.303745, 34.285354, 1.0], [31.307755, 34.490354, 1.0], [31.308194, 34.287996, 1.0], [31.310932, 34.402058, 6.0], [31.312067, 34.621792, 6.0], [31.315449, 34.229751, 3.0], [31.318327, 48.670619, 1.0], [31.320446, 34.34573, 1.0], [31.32609, 34.296074, 1.0], [31.327331, 34.364952, 1.0], [31.332063, 41.44449, 1.0], [31.332243, 34.240841, 1.0], [31.335899, 27.248632, 1.0], [31.337901, 34.274766, 1.0], [31.338371, 34.651915, 2.0], [31.338584, 34.349263, 1.0], [31.343994, 34.277683, 1.0], [31.346964, 34.30143, 17.0], [31.348022, 34.491093, 29.0], [31.353588, 34.323539, 1.0], [31.354601, 34.325991, 1.0], [31.354676, 34.308826, 2.0], [31.355579, 34.274364, 18.0], [31.356383, 34.328607, 1.0], [31.356476, 34.326068, 1.0], [31.356544, 34.325722, 1.0], [31.356581, 34.326558, 1.0], [31.356586, 34.327339, 1.0], [31.357022, 34.326947, 2.0], [31.357597, 34.327379, 1.0], [31.35769, 34.328012, 2.0], [31.362279, 34.362453, 1.0], [31.366664, 34.316674, 1.0], [31.366959, 34.316491, 2.0], [31.366962, 34.318109, 1.0], [31.371314, 34.335304, 1.0], [31.374899, 34.398018, 14.0], [31.376445, 34.369413, 2.0], [31.385317, 34.459335, 1.0], [31.385633, 34.373045, 1.0], [31.387446, 34.376728, 1.0], [31.392495, 41.460836, 2.0], [31.393674, 34.580231, 1.0], [31.395836, 15.724736, 1.0], [31.39708, 34.555231, 3.0], [31.400744, 30.417069, 1.0], [31.400907, 34.35377, 2.0], [31.401389, 34.36, 1.0], [31.401497, 34.359959, 1.0], [31.403091, 34.369053, 6.0], [31.403616, 34.35907, 1.0], [31.409824, 46.176178, 1.0], [31.410742, 34.346056, 1.0], [31.412511, 34.352024, 12.0], [31.413155, 34.641744, 2.0], [31.414053, 34.541946, 1.0], [31.414192, 34.541819, 2.0], [31.414448, 34.541762, 2.0], [31.415948, 34.365873, 1.0], [31.416304, 34.54327, 1.0], [31.41667, 34.33333, 1.0], [31.416771, 34.395165, 1.0], [31.416945, 34.351053, 1.0], [31.417206, 34.350892, 1.0], [31.417321, 34.544657, 1.0], [31.417539, 31.814443, 4.0], [31.417633, 34.350857, 1.0], [31.418982, 34.607343, 8.0], [31.42029, 34.363958, 1.0], [31.420449, 31.799317, 1.0], [31.420467, 34.596879, 1.0], [31.421941, 34.385282, 1.0], [31.423022, 34.59711, 2.0], [31.423196, 34.595254, 6.0], [31.423198, 34.595254, 1.0], [31.423408, 34.594432, 1.0], [31.423724, 34.595442, 1.0], [31.424962, 34.593798, 4.0], [31.425209, 34.594326, 1.0], [31.427173, 34.376977, 1.0], [31.428993, 34.460874, 1.0], [31.433735, 34.388235, 1.0], [31.438267, 34.402584, 2.0], [31.442578, 35.028573, 1.0], [31.444601, 35.091068, 1.0], [31.445328, 34.66842, 1.0], [31.448914, 15.256008, 5.0], [31.453035, 34.465514, 3.0], [31.461652, 34.413169, 1.0], [31.470322, 34.53545, 2.0], [31.472609, 34.497696, 9.0], [31.481277, 34.484451, 1.0], [31.484053, 34.533436, 9.0], [31.491624, 46.375837, 1.0], [31.492863, 34.983321, 1.0], [31.50127, 34.558428, 1.0], [31.502243, 34.466408, 1.0], [31.502407, 34.459743, 88.0], [31.503223, 34.632673, 1.0], [31.506441, 34.621699, 1.0], [31.50672, 34.632793, 13.0], [31.506981, 34.718904, 3.0], [31.507192, 34.634099, 1.0], [31.507726, 34.630337, 3.0], [31.510197, 34.61757, 2.0], [31.515226, 14.757057, 1.0], [31.519366, 34.599028, 1.0], [31.52176, 34.606106, 1.0], [31.522248, 34.597309, 2.0], [31.522561, 34.453593, 3.0], [31.522706, 34.555793, 1.0], [31.525155, 45.20232, 1.0], [31.526429, 45.204856, 1.0], [31.5282, 34.596382, 148.0], [31.528323, 22.488488, 1.0], [31.529421, 35.115659, 1.0], [31.530243, 35.094162, 11.0], [31.53619, 34.539574, 8.0], [31.537834, 34.489532, 6.0], [31.544588, 34.842592, 1.0], [31.551514, 34.517419, 2.0], [31.552428, 34.577011, 1.0], [31.552748, 34.508943, 1.0], [31.55302, 34.506348, 4.0], [31.556789, 34.538903, 1.0], [31.556845, 34.536339, 1.0], [31.557578, 34.542934, 2.0], [31.558212, 34.543305, 9.0], [31.559425, 20.521546, 1.0], [31.562486, 34.530832, 3.0], [31.573713, 34.489043, 3.0], [31.577206, 34.527009, 1.0], [31.580563, 15.542034, 1.0], [31.582085, 35.14642, 1.0], [31.583585, 34.502604, 1.0], [31.584056, 34.503468, 1.0], [31.605568, 34.77177, 4.0], [31.617778, -2.204722, 1.0], [31.621211, 34.620359, 1.0], [31.621438, 34.61927, 4.0], [31.622304, 34.548407, 1.0], [31.622486, 34.553556, 1.0], [31.626705, 35.104969, 2.0], [31.633333, -8.0, 1.0], [31.634349, 34.555184, 2.0], [31.63661, 14.67643, 1.0], [31.640942, 35.143139, 1.0], [31.653589, 35.149934, 1.0], [31.653707, 35.149941, 3.0], [31.654064, 35.125057, 1.0], [31.664415, 14.654513, 1.0], [31.669316, 34.570802, 5.0], [31.670149, 34.575153, 86.0], [31.670221, 34.576403, 1.0], [31.672324, 35.237547, 1.0], [31.67546, 34.595312, 1.0], [31.692923, 35.171749, 1.0], [31.695183, 35.114476, 1.0], [31.697046, 44.47716, 1.0], [31.701906, 35.22699, 1.0], [31.704338, 35.194355, 4.0], [31.713972, 34.649862, 8.0], [31.717768, 35.200878, 1.0], [31.71817, 35.200464, 1.0], [31.719308, 35.202004, 5.0], [31.71932, 35.202078, 1.0], [31.71951, 35.097483, 1.0], [31.719515, 35.202492, 1.0], [31.732119, 34.745651, 6.0], [31.737127, 34.72557, 3.0], [31.752651, 34.712606, 1.0], [31.754255, 14.007956, 3.0], [31.763582, 35.257722, 1.0], [31.766347, 46.066036, 1.0], [31.771599, 35.2034, 45.0], [31.77347, 35.298908, 3.0], [31.77765, 35.23451, 1.0], [31.783136, 34.673102, 1.0], [31.783343, 35.266543, 1.0], [31.784838, 35.224613, 21.0], [31.784935, 49.218457, 1.0], [31.788433, 34.791868, 1.0], [31.788639, 34.706757, 4.0], [31.793409, 44.983864, 1.0], [31.802069, 35.203125, 1.0], [31.811619, 34.78194, 1.0], [31.821444, 34.665169, 39.0], [31.82863, 44.436588, 1.0], [31.833948, 15.039731, 1.0], [31.834286, 35.264009, 1.0], [31.845007, 35.235069, 1.0], [31.846124, 12.229722, 2.0], [31.848217, 47.145203, 14.0], [31.849266, 35.276436, 1.0], [31.853462, 22.534731, 5.0], [31.853918, 35.263051, 1.0], [31.862497, 35.46188, 1.0], [31.873198, 34.978411, 1.0], [31.8734, 47.136212, 2.0], [31.877921, 34.739406, 1.0], [31.879929, 35.124097, 1.0], [31.880745, 20.303225, 1.0], [31.884621, 44.48912, 1.0], [31.888201, 47.189812, 1.0], [31.889393, 34.809902, 3.0], [31.892497, 35.034202, 1.0], [31.898909, 35.009003, 1.0], [31.907141, 35.198219, 5.0], [31.908527, 35.325218, 1.0], [31.926022, 41.254482, 1.0], [31.927389, 12.251627, 10.0], [31.927683, 34.797672, 1.0], [31.935197, 34.907904, 1.0], [31.939269, 34.922289, 2.0], [31.9416, 35.222734, 2.0], [31.942694, 35.103905, 1.0], [31.945864, 40.452624, 1.0], [31.947501, 45.021544, 1.0], [31.947545, 20.019994, 1.0], [31.949293, 35.212838, 1.0], [31.949799, 35.892506, 1.0], [31.950001, 35.933331, 6.0], [31.951466, 34.887821, 1.0], [31.951612, 35.212517, 1.0], [31.958127, 34.843658, 1.0], [31.959954, 35.348933, 1.0], [31.960264, 35.349421, 1.0], [31.96298, 5.342011, 1.0], [31.970541, 34.791725, 5.0], [31.985793, 35.280136, 1.0], [31.98958, 44.923775, 25.0], [31.994285, 12.081556, 1.0], [31.996018, 44.31461, 1.0], [31.999685, 44.33099, 1.0], [31.99995, 44.330197, 1.0], [32.000385, 44.330967, 1.0], [32.00048, 44.330839, 3.0], [32.000596, 44.330818, 9.0], [32.001373, 44.332069, 1.0], [32.001671, 44.33493, 1.0], [32.002835, 44.33733, 1.0], [32.006058, 35.125931, 2.0], [32.006588, 20.07247, 5.0], [32.018556, 44.315987, 1.0], [32.018673, 35.344147, 1.0], [32.019609, 44.353351, 1.0], [32.032916, 44.399648, 12.0], [32.04298, 42.254261, 5.0], [32.054999, 44.319854, 1.0], [32.055556, 35.289528, 1.0], [32.063988, 12.691492, 2.0], [32.065735, 44.77261, 1.0], [32.069286, 20.151144, 449.0], [32.072815, 34.851299, 1.0], [32.073238, 23.944855, 11.0], [32.08297, 34.811886, 47.0], [32.089161, 34.88382, 7.0], [32.094952, 20.268871, 20.0], [32.09792, 34.954537, 2.0], [32.100242, 35.166667, 3.0], [32.105525, 35.175757, 1.0], [32.108051, 35.007056, 1.0], [32.110182, 35.105986, 1.0], [32.110361, 35.10584, 1.0], [32.114722, 44.942778, 1.0], [32.116086, 12.405822, 1.0], [32.116441, 35.257262, 1.0], [32.116667, 20.066667, 1.0], [32.119816, 35.249802, 2.0], [32.136225, 44.932346, 2.0], [32.154514, 35.258553, 1.0], [32.160595, 22.283691, 1.0], [32.161864, 35.137217, 2.0], [32.16616, 39.351804, 1.0], [32.170631, 35.014858, 1.0], [32.171631, 35.097438, 1.0], [32.177105, 35.056033, 1.0], [32.178344, 34.907985, 3.0], [32.18665, 34.872788, 1.0], [32.188798, 34.971628, 1.0], [32.189083, 34.971905, 1.0], [32.189444, 34.970556, 1.0], [32.196399, 34.981526, 1.0], [32.200053, 35.034019, 1.0], [32.201856, 34.824723, 1.0], [32.203339, 20.170181, 4.0], [32.209444, 35.191389, 1.0], [32.210769, 34.88901, 1.0], [32.210992, 35.158162, 1.0], [32.213105, 35.157601, 1.0], [32.213552, 35.157375, 1.0], [32.220155, 35.340496, 1.0], [32.222271, 35.253506, 15.0], [32.230537, 44.381573, 1.0], [32.232101, 44.381809, 1.0], [32.234013, 35.333916, 1.0], [32.235684, 35.269783, 1.0], [32.243008, 35.456097, 1.0], [32.261583, 35.130306, 1.0], [32.266734, 35.010478, 1.0], [32.273945, 34.965463, 1.0], [32.283664, 35.125205, 1.0], [32.294722, 44.639722, 1.0], [32.312052, 35.026458, 2.0], [32.314434, 12.571053, 1.0], [32.316039, 10.400328, 1.0], [32.316587, 34.932562, 1.0], [32.31863, 10.395596, 1.0], [32.322245, 34.853039, 1.0], [32.323564, 34.92861, 1.0], [32.325073, 34.854663, 8.0], [32.325195, 44.918747, 4.0], [32.330281, 34.852969, 1.0], [32.330472, 34.851429, 1.0], [32.332612, 34.851529, 1.0], [32.334903, 44.254289, 1.0], [32.341914, 14.579009, 1.0], [32.342805, 43.326302, 1.0], [32.347222, 20.308889, 1.0], [32.354923, 15.105525, 15.0], [32.357399, 35.245316, 1.0], [32.360641, 44.645146, 1.0], [32.362905, 15.028344, 1.0], [32.365302, 35.516025, 1.0], [32.382038, 48.405238, 1.0], [32.382111, 44.620745, 1.0], [32.386571, 35.480025, 1.0], [32.392528, 14.946144, 1.0], [32.404549, 43.867322, 1.0], [32.406111, 14.836944, 1.0], [32.407892, 14.622688, 1.0], [32.409712, 35.280288, 1.0], [32.419325, 45.651986, 2.0], [32.420772, 35.173869, 1.0], [32.42202, 20.451099, 2.0], [32.423466, 36.623699, 1.0], [32.430833, 47.171389, 1.0], [32.431385, 13.638332, 3.0], [32.434788, 34.92157, 5.0], [32.441178, 35.484694, 1.0], [32.442482, 35.496686, 1.0], [32.446534, 35.168913, 1.0], [32.460617, 35.301247, 8.0], [32.460862, 44.679825, 1.0], [32.466667, 46.133333, 1.0], [32.468191, 44.550194, 14.0], [32.468399, 14.567225, 2.0], [32.469238, 44.416637, 115.0], [32.472147, 43.516361, 1.0], [32.473605, 34.975094, 2.0], [32.47377, 35.168458, 1.0], [32.486667, 20.833889, 1.0], [32.493507, 45.967051, 1.0], [32.496086, 35.498352, 3.0], [32.503611, 44.313056, 1.0], [32.507984, 35.314251, 3.0], [32.509904, 35.307883, 1.0], [32.512468, 44.659809, 1.0], [32.513837, 45.320914, 1.0], [32.517705, 41.920399, 1.0], [32.517818, 36.477322, 1.0], [32.519469, 34.949398, 1.0], [32.52021, 35.151958, 3.0], [32.520252, 35.220344, 1.0], [32.52081, 47.377166, 1.0], [32.521721, 11.916862, 1.0], [32.529674, 41.022517, 1.0], [32.529945, 13.025373, 1.0], [32.531145, 44.411396, 1.0], [32.533287, 45.829453, 37.0], [32.537552, 41.921997, 1.0], [32.539668, 44.415685, 1.0], [32.539722, 44.414722, 2.0], [32.54286, 44.251455, 1.0], [32.543671, 35.223995, 1.0], [32.543715, 35.201409, 1.0], [32.544167, 44.219722, 1.0], [32.544446, 12.691688, 1.0], [32.544931, 45.82271, 1.0], [32.544945, 36.195877, 1.0], [32.548042, 41.919794, 21.0], [32.54855, 44.545441, 1.0], [32.5487, 45.416861, 1.0], [32.559761, 41.919647, 31.0], [32.559762, 41.919647, 9.0], [32.559835, 41.919696, 1.0], [32.565084, 43.490958, 1.0], [32.566667, 43.488056, 1.0], [32.568502, 41.918785, 1.0], [32.568889, 36.315278, 1.0], [32.571232, 34.951382, 1.0], [32.575399, 36.048904, 1.0], [32.576876, 41.899174, 1.0], [32.581387, 35.182465, 1.0], [32.583633, 14.036315, 1.0], [32.583849, 44.559631, 2.0], [32.584015, 22.76812, 1.0], [32.598736, 44.010626, 1.0], [32.602409, 45.752098, 3.0], [32.602409, 45.752099, 1.0], [32.604025, 13.033539, 1.0], [32.604393, 44.007145, 100.0], [32.608879, 35.289967, 2.0], [32.609885, 35.290105, 1.0], [32.614261, 44.024993, 1.0], [32.621449, 44.025249, 1.0], [32.622334, 36.103756, 19.0], [32.6245, 36.105221, 1.0], [32.625335, 44.025134, 1.0], [32.627695, 44.041367, 1.0], [32.634992, 51.363212, 1.0], [32.638292, 45.201259, 1.0], [32.640953, 44.618975, 1.0], [32.645926, 44.617051, 2.0], [32.646988, 14.260969, 2.0], [32.64915, 44.408735, 1.0], [32.652032, 44.625464, 4.0], [32.654751, 44.408989, 17.0], [32.655756, 44.556669, 1.0], [32.658433, 44.615008, 1.0], [32.670351, 13.145826, 1.0], [32.67096, 13.142871, 1.0], [32.674366, 36.056892, 1.0], [32.675971, 22.600097, 1.0], [32.677811, 35.24175, 1.0], [32.680996, 44.282348, 1.0], [32.687344, 44.509415, 1.0], [32.68952, 44.417816, 1.0], [32.690019, 44.021819, 1.0], [32.692555, 44.480467, 1.0], [32.693796, 35.055447, 1.0], [32.696985, 36.398428, 1.0], [32.697177, 44.48596, 1.0], [32.697566, 41.458852, 1.0], [32.698885, 35.304068, 1.0], [32.698932, 35.304632, 1.0], [32.699489, 45.751648, 1.0], [32.706514, 36.417802, 1.0], [32.707739, 36.564823, 1.0], [32.709763, 36.567642, 3.0], [32.710699, 36.26059, 1.0], [32.711067, 36.026836, 1.0], [32.712669, 13.069796, 1.0], [32.737328, 22.603512, 1.0], [32.743429, 39.011292, 1.0], [32.746059, 44.608257, 1.0], [32.747787, 44.611572, 2.0], [32.74815, 39.027969, 6.0], [32.748446, 44.609628, 1.0], [32.748529, 44.611562, 1.0], [32.748699, 44.614857, 1.0], [32.750743, 43.590208, 1.0], [32.75194, 12.727845, 1.0], [32.751961, 22.385664, 1.0], [32.752723, 44.612936, 1.0], [32.755526, 12.919927, 1.0], [32.755613, 22.637743, 1.0], [32.755663, 22.637625, 1.0], [32.755737, 12.723051, 5.0], [32.759562, 41.878052, 1.0], [32.760212, 45.172949, 1.0], [32.760422, 22.635265, 65.0], [32.760742, 21.757212, 9.0], [32.762238, 22.241188, 3.0], [32.76396, 12.673301, 1.0], [32.765373, 43.391655, 1.0], [32.766214, 40.622348, 1.0], [32.766426, 43.389958, 1.0], [32.777105, 13.156587, 1.0], [32.777344, 44.289352, 71.0], [32.782909, 22.144466, 3.0], [32.787208, 22.412763, 2.0], [32.787509, 44.288128, 1.0], [32.78751, 44.288128, 1.0], [32.788338, 21.967283, 8.0], [32.788944, 36.349543, 1.0], [32.791561, 12.489026, 4.0], [32.793921, 34.990615, 14.0], [32.794046, 34.989571, 1.0], [32.795677, 12.888114, 1.0], [32.8, 12.9, 1.0], [32.803624, 44.240832, 1.0], [32.804295, 21.868214, 2.0], [32.805278, 44.236667, 1.0], [32.805696, 45.074665, 1.0], [32.807335, 13.151223, 1.0], [32.807519, 13.14794, 1.0], [32.808278, 44.417901, 1.0], [32.808412, 13.150967, 5.0], [32.80849, 13.150985, 9.0], [32.808658, 13.150835, 1.0], [32.809503, 13.139968, 7.0], [32.811023, 35.119898, 1.0], [32.811787, 13.120282, 1.0], [32.81331, 13.105086, 1.0], [32.813311, 13.104845, 2.0], [32.813421, 13.119172, 1.0], [32.817222, 13.011111, 1.0], [32.817287, 13.010505, 1.0], [32.81967, 44.278909, 1.0], [32.821244, 13.17363, 3.0], [32.823406, 44.431367, 1.0], [32.826518, 13.257229, 1.0], [32.826648, 22.16213, 1.0], [32.827778, 21.862222, 2.0], [32.83333, 35.33333, 1.0], [32.834137, 36.156742, 1.0], [32.835648, 35.970169, 1.0], [32.839067, 35.080498, 1.0], [32.83926, 36.339558, 2.0], [32.840355, 44.233684, 4.0], [32.84325, 22.421034, 1.0], [32.849154, 35.068172, 1.0], [32.853922, 44.2204, 1.0], [32.857067, 13.338508, 5.0], [32.860988, 44.221344, 1.0], [32.861122, 44.506527, 1.0], [32.861749, 44.507763, 1.0], [32.861765, 44.507374, 1.0], [32.861838, 44.507578, 1.0], [32.862574, 44.224777, 1.0], [32.8657, 44.21235, 15.0], [32.86581, 44.214286, 1.0], [32.867008, 44.220455, 35.0], [32.867867, 13.189067, 81.0], [32.869428, 44.267043, 1.0], [32.870514, 44.29695, 1.0], [32.872169, 22.236643, 2.0], [32.874886, 44.281016, 1.0], [32.876421, 36.506168, 1.0], [32.879511, 44.395968, 1.0], [32.88018, 44.386963, 21.0], [32.883453, 35.307821, 2.0], [32.885, 44.389167, 1.0], [32.887157, 44.341637, 88.0], [32.888534, 44.34812, 1.0], [32.889581, 44.347344, 1.0], [32.889677, 44.347238, 1.0], [32.88984, 35.40703, 2.0], [32.890083, 36.041847, 1.0], [32.896839, 21.965679, 1.0], [32.9, 35.33333, 1.0], [32.9, 41.6, 1.0], [32.901412, 45.077723, 1.0], [32.901872, 45.077846, 1.0], [32.90189, 45.077671, 1.0], [32.902177, 44.152694, 1.0], [32.904772, 44.177959, 3.0], [32.906709, 44.168467, 1.0], [32.907695, 45.066404, 1.0], [32.908383, 44.263295, 1.0], [32.90941, 45.06359, 1.0], [32.910708, 45.06299, 2.0], [32.91077, 44.151539, 1.0], [32.911181, 44.150665, 1.0], [32.911625, 44.150585, 1.0], [32.9149, 35.292006, 1.0], [32.92505, 44.770842, 1.0], [32.925266, 44.770956, 7.0], [32.925452, 44.773732, 1.0], [32.929936, 44.779564, 1.0], [32.93095, 35.083187, 2.0], [32.932542, 10.451169, 1.0], [32.93445, 35.268394, 1.0], [32.944215, 35.341912, 1.0], [32.957351, 40.184929, 1.0], [32.961241, 44.339088, 1.0], [32.962402, 36.076488, 1.0], [32.966259, 35.591656, 1.0], [32.976209, 35.335794, 1.0], [32.980339, 44.463513, 1.0], [32.981666, 35.750833, 1.0], [32.982933, 44.361595, 77.0], [32.98306, 44.83333, 1.0], [32.984826, 44.356959, 2.0], [32.984999, 44.356812, 1.0], [32.98634, 35.754636, 1.0], [32.98839, 44.83894, 1.0], [32.990236, 41.504631, 1.0], [32.990478, 44.841968, 2.0], [32.990785, 44.839572, 1.0], [32.990915, 44.83621, 1.0], [32.991785, 44.837585, 1.0], [32.992722, 44.850572, 1.0], [32.998651, 35.41619, 1.0], [32.99945, 40.275021, 3.0], [33.004219, 35.092571, 8.0], [33.00583, 44.36735, 1.0], [33.005899, 39.811059, 1.0], [33.014797, 35.275805, 2.0], [33.015246, 35.784183, 1.0], [33.015585, 35.784183, 1.0], [33.015585, 35.784354, 1.0], [33.015959, 44.175053, 1.0], [33.018677, 44.209979, 1.0], [33.023058, 44.447733, 1.0], [33.029837, 44.171106, 1.0], [33.033996, 35.750091, 1.0], [33.036022, 40.288158, 20.0], [33.036116, 40.28564, 1.0], [33.03639, 40.283332, 35.0], [33.03639, 40.283926, 1.0], [33.036761, 40.283561, 1.0], [33.037637, 40.284139, 2.0], [33.038032, 40.284613, 1.0], [33.038056, 40.284444, 6.0], [33.043201, 44.641945, 6.0], [33.046868, 44.586965, 1.0], [33.04742, 44.358007, 1.0], [33.047836, 44.585146, 1.0], [33.048917, 44.257822, 1.0], [33.048944, 44.257763, 2.0], [33.050529, 35.408516, 1.0], [33.052378, 44.355408, 1.0], [33.052915, 35.895363, 1.0], [33.054191, 44.35653, 1.0], [33.054977, 44.352032, 1.0], [33.055448, 43.714248, 4.0], [33.057991, 44.354839, 195.0], [33.06114, 44.355845, 1.0], [33.061563, 44.354167, 1.0], [33.06163, 44.35386, 1.0], [33.061667, 44.354167, 5.0], [33.061704, 44.35386, 2.0], [33.0625, 36.076645, 1.0], [33.067303, 36.531029, 1.0], [33.070843, 36.182793, 1.0], [33.072226, 44.567846, 1.0], [33.073335, 35.147579, 3.0], [33.077632, 35.893414, 1.0], [33.07835, 44.254719, 140.0], [33.07891, 44.252837, 2.0], [33.079089, 44.253056, 1.0], [33.079167, 44.253056, 1.0], [33.082341, 44.644382, 4.0], [33.084538, 44.616959, 6.0], [33.096174, 35.149165, 2.0], [33.098946, 35.288591, 1.0], [33.09917, 44.26099, 1.0], [33.099591, 44.583794, 1.0], [33.099819, 44.583174, 1.0], [33.099823, 44.583464, 1.0], [33.099834, 44.583465, 1.0], [33.099867, 44.582839, 1.0], [33.099883, 44.583436, 1.0], [33.09999, 44.583139, 1.0], [33.1, 44.583333, 2.0], [33.100011, 44.583299, 1.0], [33.100024, 44.583312, 1.0], [33.10008, 44.583279, 4.0], [33.100298, 44.583139, 5.0], [33.100529, 44.584492, 242.0], [33.100569, 44.58135, 1.0], [33.100627, 35.323317, 1.0], [33.1008, 44.584921, 1.0], [33.101129, 44.582534, 1.0], [33.101429, 44.584267, 1.0], [33.103483, 44.534157, 1.0], [33.105896, 44.564686, 16.0], [33.10695, 44.570937, 1.0], [33.114967, 44.559423, 1.0], [33.116563, 44.598057, 1.0], [33.116711, 44.565931, 1.0], [33.117361, 44.366389, 2.0], [33.117836, 44.369362, 14.0], [33.11829, 35.139866, 1.0], [33.118667, 44.47716, 2.0], [33.122407, 35.903711, 1.0], [33.126019, 44.685215, 24.0], [33.126944, 35.825796, 1.0], [33.128336, 44.393088, 1.0], [33.128586, 44.176772, 1.0], [33.129043, 44.370626, 1.0], [33.133062, 44.477076, 1.0], [33.136925, 44.075092, 5.0], [33.150106, 44.616755, 1.0], [33.152144, 44.205237, 1.0], [33.159203, 36.126358, 1.0], [33.162096, 43.872258, 1.0], [33.163559, 43.863106, 56.0], [33.165089, 44.349022, 1.0], [33.16715, 44.554901, 1.0], [33.16758, 35.620633, 1.0], [33.170231, 44.558002, 14.0], [33.171089, 35.870358, 1.0], [33.178302, 43.858593, 1.0], [33.184153, 44.611132, 1.0], [33.185299, 44.26778, 50.0], [33.18824, 40.042332, 10.0], [33.189897, 44.537901, 4.0], [33.190637, 44.597814, 1.0], [33.19171, 44.373614, 1.0], [33.192356, 44.001503, 10.0], [33.193563, 43.970952, 1.0], [33.19392, 44.408577, 45.0], [33.194415, 44.587239, 1.0], [33.195556, 43.906667, 1.0], [33.196909, 44.37694, 1.0], [33.200558, 44.495018, 1.0], [33.201393, 41.698021, 2.0], [33.201535, 44.665354, 1.0], [33.202415, 44.526899, 1.0], [33.203018, 44.543728, 4.0], [33.203358, 44.586689, 7.0], [33.203366, 44.514582, 1.0], [33.208716, 35.572618, 2.0], [33.208781, 35.571337, 1.0], [33.209058, 35.516274, 2.0], [33.216646, 4.829178, 1.0], [33.223114, 44.540776, 5.0], [33.223121, 44.540776, 4.0], [33.223203, 44.540806, 1.0], [33.223219, 44.540762, 1.0], [33.227039, 44.527786, 10.0], [33.234273, 35.77244, 1.0], [33.236883, 44.527832, 1.0], [33.23867, 35.215256, 1.0], [33.238757, 44.339691, 2.0], [33.239768, 41.804937, 1.0], [33.241059, 43.325853, 1.0], [33.241378, 44.024673, 1.0], [33.241821, 44.600452, 5.0], [33.242447, 44.562172, 3.0], [33.243115, 44.332873, 1.0], [33.243442, 44.537459, 1.0], [33.244591, 43.851738, 1.0], [33.24585, 43.972927, 1.0], [33.246022, 44.596229, 1.0], [33.246259, 35.5001, 1.0], [33.24637, 44.02548, 6.0], [33.247181, 44.025452, 34.0], [33.248374, 44.156933, 1.0], [33.248908, 44.091479, 1.0], [33.250722, 44.129132, 1.0], [33.253353, 43.912338, 1.0], [33.25341, 44.607185, 4.0], [33.254428, 35.54246, 1.0], [33.254429, 35.542461, 1.0], [33.255924, 43.839542, 1.0], [33.259932, 44.117962, 1.0], [33.260223, 42.894081, 2.0], [33.263119, 44.554459, 1.0], [33.264934, 44.072294, 1.0], [33.266151, 35.214058, 8.0], [33.267556, 44.514029, 1.0], [33.267723, 35.773553, 1.0], [33.267906, 36.102062, 1.0], [33.269406, 35.772117, 1.0], [33.269488, 44.046327, 2.0], [33.269662, 35.772348, 1.0], [33.271304, 44.493066, 1.0], [33.271403, 44.493661, 8.0], [33.272607, 35.623637, 3.0], [33.272866, 43.747861, 1.0], [33.2731, 35.2169, 1.0], [33.273301, 44.06701, 2.0], [33.27411, 43.969736, 2.0], [33.276389, 44.517778, 1.0], [33.276763, 35.57891, 1.0], [33.276976, 35.686985, 2.0], [33.278425, 43.946356, 1.0], [33.278993, 43.744882, 1.0], [33.279168, 44.49425, 1.0], [33.279209, 44.517148, 1.0], [33.280891, 35.829319, 1.0], [33.281681, 43.981331, 2.0], [33.282396, 35.798466, 1.0], [33.283173, 45.244658, 1.0], [33.283359, 44.520464, 1.0], [33.283675, 43.966801, 2.0], [33.283866, 44.348877, 1.0], [33.284015, 35.688064, 1.0], [33.285389, 36.04073, 2.0], [33.285507, 35.5001, 1.0], [33.28604, -0.7521, 1.0], [33.28666, 44.480947, 1.0], [33.287345, 44.319487, 4.0], [33.290496, 44.067692, 1.0], [33.291251, 44.065372, 1.0], [33.291257, 44.06468, 1.0], [33.291512, 35.723404, 3.0], [33.291559, 44.06574, 1.0], [33.291849, 44.150578, 1.0], [33.291868, 44.065034, 2.0], [33.291944, 44.065511, 2.0], [33.291944, 44.065556, 12.0], [33.291976, 44.06564, 1.0], [33.292039, 44.065623, 1.0], [33.292174, 44.065695, 2.0], [33.293778, 35.31457, 1.0], [33.294159, 43.993221, 1.0], [33.29661, 43.811908, 1.0], [33.29711, 44.066897, 3.0], [33.297526, 44.081773, 1.0], [33.297611, 44.081769, 4.0], [33.298668, 44.423197, 2.0], [33.299011, 44.107604, 1.0], [33.3, 44.4, 4.0], [33.3, 44.633333, 1.0], [33.300137, 44.047455, 1.0], [33.300619, 44.105947, 1.0], [33.302447, 44.048733, 2.0], [33.303566, 44.371773, 6226.0], [33.30401, 44.111898, 2.0], [33.304733, 44.132883, 3.0], [33.3073, 42.417619, 1.0], [33.308975, 35.347884, 1.0], [33.309785, 43.771975, 1.0], [33.31065, 44.038208, 249.0], [33.311512, 35.918564, 1.0], [33.312738, 43.78092, 1.0], [33.31385, 44.186691, 2.0], [33.313874, 38.70215, 2.0], [33.314084, 44.095622, 1.0], [33.315633, 43.641564, 1.0], [33.318331, 43.783602, 3.0], [33.318595, 44.513997, 3.0], [33.318766, 44.415482, 1.0], [33.320323, 44.432576, 1.0], [33.324454, 44.422037, 1.0], [33.324758, 44.422289, 1.0], [33.324834, 43.782601, 1.0], [33.325, 44.422, 1.0], [33.325054, 38.659325, 1.0], [33.325354, 43.894886, 1.0], [33.325375, 44.421896, 2.0], [33.325812, 44.423112, 1.0], [33.326673, 44.208788, 1.0], [33.327676, 38.6559, 1.0], [33.327841, 43.883663, 1.0], [33.327904, 35.61126, 1.0], [33.328323, 38.658283, 3.0], [33.330088, 38.656352, 1.0], [33.331024, 44.129453, 1.0], [33.332394, 43.712822, 5.0], [33.33397, 44.422417, 1.0], [33.336265, 44.388771, 1.0], [33.338363, 45.033978, 2.0], [33.339698, 43.666421, 1.0], [33.340261, 43.821902, 1.0], [33.34031, 43.862546, 2.0], [33.340336, 43.659054, 7.0], [33.34077, 43.821672, 1.0], [33.341072, 43.594949, 1.0], [33.342613, 43.857685, 1.0], [33.344358, 43.781277, 2.0], [33.346159, 43.952512, 1.0], [33.347492, 35.749159, 1.0], [33.349159, 43.784199, 409.0], [33.35, 43.29067, 1.0], [33.35, 43.783333, 4.0], [33.351177, 44.205009, 4.0], [33.354051, 43.845054, 1.0], [33.355139, 43.78942, 1.0], [33.357971, 43.977643, 1.0], [33.358631, 36.23893, 1.0], [33.365604, 43.738495, 1.0], [33.365791, 43.95932, 10.0], [33.370833, 43.746111, 1.0], [33.374271, 36.114742, 1.0], [33.374808, 43.562134, 1.0], [33.375365, 43.891302, 1.0], [33.375759, 44.702866, 125.0], [33.376824, 44.702895, 1.0], [33.378156, 43.782572, 1.0], [33.378582, 43.767578, 1.0], [33.380455, 43.916641, 1.0], [33.382052, 43.899289, 1.0], [33.382431, 43.587631, 13.0], [33.383401, 43.899952, 2.0], [33.383505, 43.899288, 3.0], [33.383505, 43.899868, 7.0], [33.383576, 43.587153, 1.0], [33.383723, 43.879395, 1.0], [33.388054, 43.5317, 62.0], [33.388171, 43.91743, 1.0], [33.389721, 44.235367, 2.0], [33.391567, 43.854069, 6.0], [33.391847, 43.449413, 1.0], [33.392891, 43.113628, 1.0], [33.393642, 42.849487, 2.0], [33.393788, 43.449279, 1.0], [33.39531, 43.845825, 2.0], [33.396009, 40.005078, 1.0], [33.396174, 43.298403, 1.0], [33.396633, 43.62571, 20.0], [33.39686, 43.625549, 1.0], [33.397444, 43.661136, 1.0], [33.397812, 43.706276, 70.0], [33.39783, 43.314979, 1.0], [33.399059, 43.483521, 1.0], [33.399299, 43.042926, 1.0], [33.399722, 43.908889, 1.0], [33.400876, 44.491304, 2.0], [33.401492, 42.903514, 1.0], [33.401699, 44.357658, 2.0], [33.401792, 44.676839, 1.0], [33.40217, 44.288144, 1.0], [33.403057, 43.911865, 78.0], [33.404028, 43.911634, 1.0], [33.406527, 35.865599, 2.0], [33.407053, 43.55381, 1.0], [33.407252, 43.287188, 1.0], [33.407327, 43.19936, 1.0], [33.408039, 44.303436, 2.0], [33.408254, 43.539178, 1.0], [33.409771, 43.198972, 1.0], [33.410692, 44.372589, 1.0], [33.410797, 43.561432, 3.0], [33.411998, 36.512489, 1.0], [33.412099, 43.855877, 1.0], [33.412674, 43.710224, 1.0], [33.4135, 44.519513, 1.0], [33.414598, 43.455254, 1.0], [33.415941, 43.050723, 1.0], [33.416378, 43.940945, 1.0], [33.416667, 43.3, 4.0], [33.417033, 43.299737, 1.0], [33.41735, 43.623861, 1.0], [33.417362, 43.804871, 52.0], [33.419822, 43.298471, 1.0], [33.420948, 43.295662, 362.0], [33.42231, 43.546302, 2.0], [33.423328, 41.125052, 1.0], [33.424888, 43.370858, 1.0], [33.425278, 44.221667, 1.0], [33.426248, 42.977081, 2.0], [33.426758, 44.228073, 20.0], [33.42767, 44.306255, 3.0], [33.428037, 43.494067, 1.0], [33.428314, 44.345453, 1.0], [33.428553, 44.345488, 1.0], [33.428863, 43.305531, 1.0], [33.428879, 44.342047, 1.0], [33.428896, 43.292945, 1.0], [33.430324, 42.046832, 1.0], [33.431496, 43.384418, 3.0], [33.431899, 43.311566, 1.0], [33.433317, 43.966658, 1.0], [33.433795, 43.963635, 1.0], [33.433811, 38.922878, 4.0], [33.434452, 43.236507, 1.0], [33.434907, 43.281191, 1.0], [33.435272, 43.281148, 1.0], [33.435279, 43.281158, 2.0], [33.435532, 36.295208, 1.0], [33.435667, 44.534135, 1.0], [33.436008, 43.961858, 1.0], [33.436124, 43.390334, 8.0], [33.436207, 36.080795, 2.0], [33.438056, 44.016667, 4.0], [33.438258, 43.962718, 4.0], [33.438443, 43.21015, 1.0], [33.438954, 44.020691, 1.0], [33.439565, 44.019808, 1.0], [33.439594, 43.401226, 1.0], [33.439925, 43.773811, 1.0], [33.440376, 43.328276, 1.0], [33.440707, 43.969894, 1.0], [33.441045, 43.212631, 1.0], [33.443655, 44.304793, 1.0], [33.443794, 36.555637, 1.0], [33.445957, 43.355853, 1.0], [33.446476, 36.334499, 10.0], [33.446575, 43.274712, 1.0], [33.446805, 36.336213, 1.0], [33.447014, 41.059081, 1.0], [33.447155, 43.340736, 17.0], [33.448437, 43.26757, 3.0], [33.449772, 43.29578, 9.0], [33.449841, 70.064041, 1.0], [33.450832, 44.321999, 2.0], [33.453312, 43.372253, 2.0], [33.453425, 43.859141, 2.0], [33.454738, 35.297233, 2.0], [33.456112, 43.345947, 7.0], [33.456459, 43.392872, 12.0], [33.457123, 43.471428, 85.0], [33.45715, 36.233425, 3.0], [33.457222, 44.086389, 6.0], [33.457532, 43.253987, 1.0], [33.460819, 44.157433, 95.0], [33.462707, 44.157787, 4.0], [33.462778, 44.420833, 1.0], [33.46446, 40.935025, 1.0], [33.467331, 43.23251, 3.0], [33.468018, 43.327589, 2.0], [33.468541, 44.326517, 1.0], [33.468669, 43.286574, 1.0], [33.469038, 45.43953, 1.0], [33.469318, 43.224907, 1.0], [33.470512, 44.393494, 7.0], [33.470655, 43.302853, 2.0], [33.47327, 43.171093, 2.0], [33.476944, 43.111111, 1.0], [33.477229, 36.286131, 1.0], [33.477631, 43.300294, 1.0], [33.481813, 44.35395, 1.0], [33.484396, 36.268508, 1.0], [33.484444, 36.377289, 2.0], [33.486706, 44.276806, 1.0], [33.487075, 43.604486, 1.0], [33.488998, 36.346882, 17.0], [33.489437, 43.275142, 1.0], [33.489536, 43.22139, 2.0], [33.48975, 43.235231, 1.0], [33.49112, 44.487265, 1.0], [33.5009, 44.216648, 38.0], [33.505797, 43.302971, 1.0], [33.509014, 44.202484, 11.0], [33.509136, 44.234186, 2.0], [33.509167, 44.234167, 6.0], [33.509269, 44.235478, 1.0], [33.509671, 44.20168, 1.0], [33.510273, 36.316961, 3.0], [33.5111, 36.3064, 5.0], [33.511475, 43.221115, 2.0], [33.512032, 44.217289, 2.0], [33.512797, 43.251677, 1.0], [33.514722, 36.124722, 2.0], [33.515244, 36.292084, 307.0], [33.516634, 43.100061, 1.0], [33.520717, 44.024424, 1.0], [33.522137, 43.098385, 2.0], [33.527649, 36.392296, 1.0], [33.528492, 36.386089, 1.0], [33.529194, 42.9123, 2.0], [33.530734, 44.274292, 20.0], [33.533333, -7.583333, 1.0], [33.53865, 44.351657, 1.0], [33.539059, 36.366711, 2.0], [33.540672, 44.251266, 161.0], [33.542004, 35.381153, 28.0], [33.542351, 44.365334, 20.0], [33.54459, 42.933247, 1.0], [33.547506, 44.624555, 1.0], [33.548004, 36.216972, 1.0], [33.548306, 44.415733, 107.0], [33.550137, 42.89888, 1.0], [33.550434, 35.370964, 16.0], [33.55191, 44.534209, 1.0], [33.553439, 44.329861, 1.0], [33.555773, 44.599672, 1.0], [33.557301, 36.475063, 3.0], [33.5577, 35.384777, 1.0], [33.561429, 35.410688, 1.0], [33.561504, 36.368763, 9.0], [33.563416, 42.529159, 1.0], [33.566097, 36.485138, 2.0], [33.566894, 35.719257, 1.0], [33.568333, 44.435556, 1.0], [33.568693, 44.436439, 1.0], [33.570359, 44.434224, 1.0], [33.571575, 36.40044, 4.0], [33.571707, 44.536015, 1.0], [33.571802, 44.536181, 1.0], [33.571807, 44.536067, 15.0], [33.573486, 44.547424, 10.0], [33.58332, 43.933333, 1.0], [33.583333, 43.933333, 1.0], [33.583356, 43.933831, 1.0], [33.586185, 44.186894, 1.0], [33.586239, 44.187032, 1.0], [33.587431, 43.329466, 2.0], [33.589627, 44.267085, 1.0], [33.589786, 44.266976, 2.0], [33.59, -7.61, 9.0], [33.592064, 42.618965, 12.0], [33.593056, 44.501111, 1.0], [33.594607, 36.238036, 1.0], [33.596133, 44.393084, 4.0], [33.596291, 44.679636, 1.0], [33.59993, 42.868916, 3.0], [33.60043, 35.398729, 1.0], [33.603494, 35.944573, 1.0], [33.604951, 44.512513, 1.0], [33.606905, 44.667934, 1.0], [33.60722, 36.314327, 2.0], [33.611455, 36.75523, 1.0], [33.615556, 44.338889, 1.0], [33.615683, 44.277372, 6.0], [33.616907, 42.765491, 1.0], [33.617965, 44.572428, 2.0], [33.621101, 41.421089, 1.0], [33.622993, 36.11203, 2.0], [33.625652, 44.832838, 1.0], [33.627287, 42.719923, 1.0], [33.633158, 42.816583, 1.0], [33.633333, 42.816667, 1.0], [33.633509, 42.816625, 1.0], [33.633896, 42.832081, 60.0], [33.634184, 44.285845, 1.0], [33.634773, 44.235244, 2.0], [33.63497, 44.235291, 1.0], [33.63503, 42.821453, 1.0], [33.635131, 42.826324, 1.0], [33.635913, 42.828811, 1.0], [33.636417, 42.82907, 1.0], [33.638563, 42.824117, 2.0], [33.639521, 42.838015, 1.0], [33.641222, 42.837057, 1.0], [33.642502, 44.419117, 3.0], [33.6432, 36.690445, 1.0], [33.643328, 42.825383, 1.0], [33.64352, 42.825366, 4.0], [33.644492, 42.83807, 1.0], [33.644634, 42.826592, 1.0], [33.644765, 42.826424, 1.0], [33.645278, 44.641944, 2.0], [33.645713, 44.4212, 1.0], [33.648611, 44.696111, 1.0], [33.649971, 44.261543, 61.0], [33.654085, 45.547435, 1.0], [33.656116, 42.632342, 1.0], [33.663116, 42.634892, 1.0], [33.663533, 44.378029, 1.0], [33.664076, 44.373231, 1.0], [33.664307, 44.37378, 1.0], [33.664354, 44.373779, 8.0], [33.66439, 44.373998, 1.0], [33.665284, 44.317469, 1.0], [33.666193, 44.375482, 1.0], [33.666667, 43.483333, 1.0], [33.666667, 44.3, 7.0], [33.666763, 43.906219, 2.0], [33.668115, 44.530509, 1.0], [33.668545, 39.967896, 4.0], [33.669112, 42.629345, 1.0], [33.669458, 44.381155, 1.0], [33.669531, 44.371136, 1.0], [33.669689, 44.381317, 167.0], [33.67002, 35.599548, 1.0], [33.670671, 44.399201, 2.0], [33.671398, 36.121052, 1.0], [33.672477, 44.853947, 1.0], [33.67263, 44.85376, 5.0], [33.673183, 44.358486, 1.0], [33.673248, 44.361488, 2.0], [33.678303, 35.965252, 1.0], [33.681198, 44.563663, 1.0], [33.683266, 43.473259, 15.0], [33.687627, 45.069995, 1.0], [33.688007, 45.06988, 1.0], [33.688056, 44.418889, 1.0], [33.688462, 42.758056, 1.0], [33.68889, 43.200454, 1.0], [33.68979, 45.06873, 1.0], [33.692394, 42.752779, 2.0], [33.693409, 44.796085, 14.0], [33.693947, 45.067425, 65.0], [33.694397, 45.065133, 1.0], [33.695694, 45.067169, 1.0], [33.695876, 42.739285, 1.0], [33.695923, 45.068171, 1.0], [33.698272, 45.083895, 1.0], [33.699554, 45.083422, 1.0], [33.7, 42.216667, 1.0], [33.7, 45.083333, 1.0], [33.703427, 42.74278, 3.0], [33.710983, 35.914692, 2.0], [33.713436, 42.702915, 1.0], [33.715202, 44.77684, 1.0], [33.716995, 44.679516, 32.0], [33.71824, 35.85305, 1.0], [33.718946, 44.661114, 1.0], [33.725571, 36.104458, 2.0], [33.727749, 44.130025, 2.0], [33.737061, 45.232285, 1.0], [33.737099, 44.490696, 6.0], [33.740329, 44.573539, 1.0], [33.74324, 44.623825, 499.0], [33.744625, 44.959073, 1.0], [33.744999, 45.545616, 19.0], [33.745731, 35.458321, 1.0], [33.748569, 45.556266, 1.0], [33.749892, 44.633421, 1.0], [33.749952, 44.682847, 1.0], [33.75, 44.633333, 3.0], [33.750459, 44.633333, 1.0], [33.751401, 44.589845, 1.0], [33.751536, 44.417285, 1.0], [33.752217, 44.69896, 2.0], [33.75371, 44.659, 1.0], [33.755295, 36.388622, 1.0], [33.756709, 45.181175, 1.0], [33.758388, 44.396591, 2.0], [33.759156, 45.155717, 3.0], [33.759526, 44.666462, 1.0], [33.76, 44.670278, 1.0], [33.760481, 44.736636, 2.0], [33.762867, 44.411274, 1.0], [33.768044, 44.583221, 1.0], [33.770897, 44.624748, 2.0], [33.771944, 44.621667, 1.0], [33.772815, 35.8979, 1.0], [33.773349, 45.14945, 57.0], [33.773349, 45.149451, 2.0], [33.773533, 44.659943, 1.0], [33.774444, 44.580556, 3.0], [33.775055, 44.580349, 8.0], [33.77631, 44.555672, 8.0], [33.778056, 44.655833, 1.0], [33.784248, 44.50972, 10.0], [33.787583, 44.668683, 2.0], [33.791517, 44.671698, 1.0], [33.791719, 42.437722, 1.0], [33.79222, 42.444521, 2.0], [33.792582, 42.442936, 1.0], [33.793476, 42.441971, 1.0], [33.794651, 44.892578, 3.0], [33.79477, 44.599747, 1.0], [33.795979, 45.247376, 3.0], [33.795982, 44.65456, 1.0], [33.798407, 44.710493, 1.0], [33.799198, 42.707079, 2.0], [33.799683, 44.664364, 1.0], [33.8, 2.883333, 5.0], [33.801337, 42.544166, 1.0], [33.802006, 42.438267, 1.0], [33.803388, 35.869363, 1.0], [33.803935, 44.705565, 1.0], [33.806286, 44.367222, 1.0], [33.80658, 2.878025, 1.0], [33.809479, 35.774472, 1.0], [33.810054, 35.597375, 1.0], [33.810059, 35.597287, 3.0], [33.811906, 36.444846, 1.0], [33.812235, 35.516327, 1.0], [33.812267, 36.159442, 1.0], [33.812465, 44.677301, 1.0], [33.813677, 44.56593, 1.0], [33.813793, 44.657238, 9.0], [33.815063, 42.723197, 1.0], [33.815146, 35.853264, 1.0], [33.816079, 35.860327, 2.0], [33.816667, 44.2, 1.0], [33.819136, 10.855024, 1.0], [33.821182, 35.882412, 1.0], [33.821707, 44.412618, 1.0], [33.823027, 35.890925, 1.0], [33.824238, 35.510757, 2.0], [33.824244, 44.789265, 1.0], [33.828983, 44.674801, 1.0], [33.833333, 36.0, 1.0], [33.834111, 44.761882, 1.0], [33.835629, 44.247406, 57.0], [33.837445, 44.250608, 1.0], [33.838966, 35.551331, 3.0], [33.839638, 35.527088, 2.0], [33.843044, 44.521936, 4.0], [33.843471, 35.498738, 2.0], [33.843739, 36.547043, 1.0], [33.844769, 35.902874, 5.0], [33.845343, 45.299948, 1.0], [33.8456, 42.553495, 2.0], [33.848618, 44.522125, 59.0], [33.850011, 44.233342, 1.0], [33.850109, 44.233377, 1.0], [33.850868, 44.519611, 1.0], [33.851137, 43.820957, 1.0], [33.851166, 36.187733, 1.0], [33.851601, 35.511871, 3.0], [33.851825, 42.560502, 1.0], [33.852383, 35.494852, 1.0], [33.854274, 44.166803, 1.0], [33.855824, 44.760889, 1.0], [33.856203, 45.152391, 1.0], [33.856289, 35.497362, 1.0], [33.856667, 44.654444, 2.0], [33.856876, 44.720768, 1.0], [33.857969, 35.519713, 1.0], [33.858013, 35.5364, 1.0], [33.858442, 43.867993, 1.0], [33.860659, 44.792119, 5.0], [33.860725, 44.683872, 1.0], [33.861984, 35.489986, 5.0], [33.8625, 45.287222, 1.0], [33.864799, 42.536385, 46.0], [33.869196, 44.630421, 1.0], [33.870416, 45.15295, 1.0], [33.872532, 36.162872, 1.0], [33.872952, 36.202412, 1.0], [33.874397, 36.112118, 3.0], [33.877384, 35.536163, 2.0], [33.879402, 36.083012, 1.0], [33.879803, 44.854084, 9.0], [33.880028, 35.560574, 1.0], [33.882822, 44.723953, 1.0], [33.88443, 44.761154, 1.0], [33.885963, 35.628685, 1.0], [33.888523, 35.503513, 40.0], [33.889561, 42.623253, 36.0], [33.890762, 42.621935, 1.0], [33.8925, 44.709722, 1.0], [33.895, -5.554722, 1.0], [33.896361, 44.611724, 1.0], [33.8966, 44.811747, 1.0], [33.897803, 44.813111, 7.0], [33.901485, 44.777998, 1.0], [33.902945, 44.85817, 3.0], [33.903908, 44.162858, 1.0], [33.904509, 36.11998, 1.0], [33.905005, 44.781168, 1.0], [33.906048, 44.724545, 6.0], [33.906473, 44.844621, 1.0], [33.906667, 44.724444, 2.0], [33.907707, 42.542435, 4.0], [33.909798, 44.163391, 1.0], [33.911194, 44.735943, 4.0], [33.911588, 44.73531, 1.0], [33.912177, 42.735384, 2.0], [33.916257, 44.246647, 3.0], [33.918583, 36.141312, 1.0], [33.918611, 44.921111, 1.0], [33.922043, 36.152743, 1.0], [33.922433, 35.591429, 1.0], [33.923559, 35.738059, 1.0], [33.926586, 44.772064, 30.0], [33.927778, 35.620833, 1.0], [33.927779, 44.827433, 1.0], [33.930061, 44.800024, 2.0], [33.930974, 44.92269, 1.0], [33.931667, 45.178889, 1.0], [33.93238, 44.859962, 1.0], [33.934212, 36.150745, 6.0], [33.934242, 44.985234, 1.0], [33.934245, 45.140991, 1.0], [33.93487, 35.597819, 1.0], [33.944794, 44.763939, 1.0], [33.945268, 44.341673, 1.0], [33.945848, 44.031816, 1.0], [33.947478, 44.370941, 1.0], [33.948372, 44.916232, 2.0], [33.94857, 44.915994, 3.0], [33.948666, 44.917641, 1.0], [33.949776, 44.152668, 1.0], [33.95, 44.983333, 8.0], [33.950021, 44.983559, 1.0], [33.950143, 44.983201, 1.0], [33.951088, 43.973894, 1.0], [33.953167, 44.921906, 124.0], [33.953178, 44.206818, 1.0], [33.964455, 44.280661, 1.0], [33.967778, 44.384444, 1.0], [33.971279, 44.926682, 1.0], [33.971349, 44.926682, 1.0], [33.971565, 36.661087, 2.0], [33.971932, 44.930731, 1.0], [33.976418, 44.336311, 3.0], [33.977519, 44.413457, 1.0], [33.977565, 44.936584, 1.0], [33.978045, 44.93749, 3.0], [33.978611, 44.936944, 2.0], [33.978697, 44.937106, 1.0], [33.97888, 45.047101, 1.0], [33.978886, 42.556753, 1.0], [33.979045, 44.936597, 1.0], [33.979057, 44.937532, 1.0], [33.979177, 44.936535, 1.0], [33.979876, 44.933789, 3.0], [33.981389, 45.023611, 1.0], [33.982013, 42.594834, 2.0], [33.983107, 35.618057, 1.0], [33.983235, 42.612838, 1.0], [33.984079, 44.13752, 1.0], [33.986823, 44.726313, 1.0], [33.9877, 35.638924, 4.0], [33.991667, 44.7775, 1.0], [33.994591, 44.357273, 30.0], [33.997793, 44.316629, 1.0], [33.997998, 44.066633, 2.0], [33.998124, 44.276123, 2.0], [34.002857, 36.212649, 1.0], [34.003712, 44.395378, 4.0], [34.004211, 44.16902, 1.0], [34.004584, 44.151221, 1.0], [34.006023, 42.421604, 2.0], [34.008667, 44.962806, 1.0], [34.010097, 44.062745, 1.0], [34.010471, 44.148235, 74.0], [34.010595, 44.062739, 1.0], [34.014665, 44.147759, 1.0], [34.014699, 45.001875, 1.0], [34.016135, 44.145278, 1.0], [34.016389, 44.145278, 18.0], [34.0175, 45.196389, 1.0], [34.018276, 44.96502, 1.0], [34.018591, 44.145117, 1.0], [34.018677, 36.269387, 2.0], [34.01918, 44.996505, 1.0], [34.020425, 44.345185, 1.0], [34.020805, 44.867285, 1.0], [34.021821, 44.933508, 2.0], [34.021822, 44.933508, 1.0], [34.023571, 44.031361, 17.0], [34.024785, 36.735271, 2.0], [34.025421, 36.734612, 1.0], [34.028358, 44.754825, 1.0], [34.028727, 44.225901, 1.0], [34.030712, 44.063866, 3.0], [34.030981, 35.696092, 1.0], [34.031331, 44.070106, 1.0], [34.031464, 44.069915, 1.0], [34.031587, 42.421608, 1.0], [34.034291, 44.134169, 1.0], [34.034916, 36.227844, 15.0], [34.035641, 45.440578, 6.0], [34.036102, 45.01273, 1.0], [34.0364, 45.012779, 2.0], [34.036729, 36.136351, 1.0], [34.038266, 44.221479, 1.0], [34.04, 44.82, 1.0], [34.0425, 44.959167, 2.0], [34.044694, 44.182677, 2.0], [34.045422, 43.988959, 5.0], [34.046667, 44.135556, 1.0], [34.047196, 43.984817, 1.0], [34.047272, 44.027783, 1.0], [34.047529, 44.029436, 1.0], [34.051489, 44.208915, 1.0], [34.05267, 44.93325, 2.0], [34.053467, 44.933075, 4.0], [34.054201, 44.893227, 2.0], [34.055354, 44.548457, 2.0], [34.057114, 44.218292, 33.0], [34.057549, 44.260048, 1.0], [34.05911, 44.215906, 1.0], [34.05911, 44.215907, 2.0], [34.05917, 44.215885, 1.0], [34.059613, 44.882057, 1.0], [34.065359, 44.574888, 1.0], [34.066643, 44.897517, 1.0], [34.067051, 44.89824, 1.0], [34.067101, 44.898501, 1.0], [34.068889, 44.863056, 1.0], [34.06906, 44.861798, 1.0], [34.069953, 44.860306, 1.0], [34.071027, 44.15838, 1.0], [34.072219, 44.291382, 1.0], [34.072222, 44.291389, 1.0], [34.072381, 44.906386, 1.0], [34.072718, 44.287723, 2.0], [34.072883, 44.861742, 2.0], [34.073586, 44.862237, 1.0], [34.076828, 36.207649, 1.0], [34.078571, 44.959305, 1.0], [34.079925, 44.16728, 1.0], [34.080837, 36.275066, 1.0], [34.085258, 42.360344, 5.0], [34.08798, 3.848314, 1.0], [34.088192, 43.892833, 1.0], [34.09056, 44.34278, 1.0], [34.092655, 42.385468, 7.0], [34.093739, 44.21817, 4.0], [34.095556, 43.958333, 1.0], [34.097931, 36.770164, 2.0], [34.098521, 44.880881, 1.0], [34.098991, 45.056404, 1.0], [34.099798, 42.36675, 1.0], [34.100723, 45.05196, 8.0], [34.10729, 43.895811, 1.0], [34.107896, 44.982357, 1.0], [34.108582, 44.968887, 1.0], [34.111364, 44.913513, 1.0], [34.111475, 43.878409, 1.0], [34.121764, 42.404034, 1.0], [34.124791, 43.888433, 1.0], [34.124986, 42.374877, 1.0], [34.125183, 42.374164, 1.0], [34.125729, 45.003342, 48.0], [34.12866, 42.358, 1.0], [34.129906, 44.218587, 1.0], [34.132647, 45.197844, 1.0], [34.133781, 44.221014, 1.0], [34.139278, 42.378056, 1.0], [34.139439, 42.378263, 2.0], [34.139722, 42.378056, 3.0], [34.139822, 45.139174, 1.0], [34.141944, 44.132778, 1.0], [34.145745, 42.48203, 1.0], [34.147392, 45.129864, 5.0], [34.154213, 41.572376, 12.0], [34.156841, 3.498381, 1.0], [34.157839, 3.528346, 1.0], [34.160587, 42.37254, 43.0], [34.165216, 43.905367, 1.0], [34.165747, 43.905509, 1.0], [34.165748, 43.906209, 1.0], [34.166004, 43.905515, 5.0], [34.166004, 43.905516, 2.0], [34.166667, 45.283333, 1.0], [34.17223, 44.444434, 1.0], [34.174564, 36.334869, 1.0], [34.175157, 36.428765, 1.0], [34.176847, 43.69915, 2.0], [34.17971, 42.252369, 2.0], [34.184605, 36.424011, 27.0], [34.18611, 45.125892, 1.0], [34.186255, 45.12633, 4.0], [34.186327, 45.126067, 2.0], [34.186336, 45.126056, 4.0], [34.186546, 45.126057, 1.0], [34.188843, 36.329475, 1.0], [34.191865, 43.869169, 1.0], [34.192039, 42.497272, 3.0], [34.192306, 43.886237, 1.0], [34.19246, 43.88619, 1.0], [34.19246, 43.886889, 1.0], [34.192464, 43.88616, 1.0], [34.192504, 43.886392, 2.0], [34.192537, 43.886423, 4.0], [34.192768, 43.886516, 1.0], [34.192941, 43.889519, 1.0], [34.19421, 43.874931, 1.0], [34.19434, 43.874561, 1.0], [34.194717, 43.800671, 4.0], [34.196002, 43.883727, 1.0], [34.196331, 36.357601, 12.0], [34.198803, 43.873311, 2.0], [34.19899, 45.193089, 1.0], [34.200505, 43.887076, 1.0], [34.203949, 44.507398, 1.0], [34.206111, 44.006667, 2.0], [34.206191, 44.006638, 4.0], [34.208416, 43.890713, 165.0], [34.209771, 45.004063, 1.0], [34.215109, 44.490007, 1.0], [34.215272, 36.444364, 1.0], [34.216075, 44.452606, 1.0], [34.221798, 36.376812, 5.0], [34.224577, 43.915933, 1.0], [34.227745, 37.244217, 5.0], [34.228985, 43.638065, 2.0], [34.239952, 44.510111, 1.0], [34.239965, 44.510157, 9.0], [34.240378, 45.136952, 1.0], [34.240574, 44.502465, 1.0], [34.241562, 44.528622, 2.0], [34.24189, 37.04668, 3.0], [34.244834, 36.402761, 1.0], [34.245095, 45.126609, 2.0], [34.246111, 45.208821, 1.0], [34.256642, 42.200714, 1.0], [34.256706, 38.317014, 1.0], [34.256841, 38.317288, 1.0], [34.257294, 35.666948, 1.0], [34.25769, 44.638794, 1.0], [34.262422, 44.185208, 1.0], [34.262681, 44.184814, 1.0], [34.263934, 42.530819, 1.0], [34.266661, 42.528929, 3.0], [34.267391, 7.724949, 1.0], [34.267394, 47.11118, 1.0], [34.271034, 45.163567, 82.0], [34.271785, 45.166422, 1.0], [34.275066, 44.537865, 57.0], [34.276147, 44.538422, 1.0], [34.276951, 43.801308, 1.0], [34.283333, 43.766667, 2.0], [34.289224, 44.543094, 1.0], [34.2901, 43.852592, 2.0], [34.300802, 45.100047, 1.0], [34.303706, 42.067211, 1.0], [34.309413, 45.220885, 1.0], [34.316204, 43.868365, 2.0], [34.316858, 41.16026, 1.0], [34.319722, 45.050278, 2.0], [34.319808, 45.05079, 1.0], [34.32183, 44.479528, 2.0], [34.321916, 38.596644, 1.0], [34.32587, 45.165485, 1.0], [34.326581, 45.054344, 1.0], [34.327011, 45.013553, 1.0], [34.32716, 44.726597, 4.0], [34.333224, 45.383289, 1.0], [34.333333, 45.383333, 2.0], [34.333894, 45.382883, 1.0], [34.341104, 43.808135, 3.0], [34.341972, 36.478027, 4.0], [34.342749, 45.385068, 1.0], [34.347343, 45.383274, 31.0], [34.347915, 43.946574, 1.0], [34.351646, 41.093565, 1.0], [34.353012, 36.511322, 2.0], [34.353209, 44.681446, 1.0], [34.356944, 45.243333, 1.0], [34.357292, 45.198143, 1.0], [34.361907, 44.500208, 1.0], [34.363503, 41.115997, 17.0], [34.365089, 43.74522, 5.0], [34.367733, 41.985275, 19.0], [34.369167, 43.764167, 1.0], [34.372222, 41.9875, 2.0], [34.373264, 43.76318, 3.0], [34.374994, 41.054763, 1.0], [34.378387, 41.035515, 2.0], [34.386194, 35.782764, 1.0], [34.387235, 41.047971, 1.0], [34.392989, 44.974233, 1.0], [34.394057, 41.079448, 1.0], [34.395153, 36.387466, 2.0], [34.396312, 35.89583, 1.0], [34.396358, 35.895833, 1.0], [34.396358, 36.38662, 1.0], [34.396936, 36.387763, 1.0], [34.397052, 36.387171, 25.0], [34.397491, 36.393486, 1.0], [34.399525, 45.142685, 2.0], [34.405209, 41.893338, 1.0], [34.410199, 41.004663, 1.0], [34.4167, 3.83333, 1.0], [34.416846, 35.826267, 1.0], [34.41688, 41.09998, 1.0], [34.420096, 44.910773, 1.0], [34.424243, 36.412609, 1.0], [34.425036, 37.440548, 1.0], [34.42525, 41.653128, 1.0], [34.425826, 44.939787, 1.0], [34.425914, 35.842154, 2.0], [34.428501, 35.837965, 1.0], [34.429025, 41.90151, 1.0], [34.430824, 44.0191, 6.0], [34.430836, 44.93409, 26.0], [34.430986, 35.835675, 2.0], [34.432587, 41.229725, 6.0], [34.433601, 35.845879, 2.0], [34.434935, 35.836282, 1.0], [34.435767, 35.851304, 1.0], [34.435775, 3.896768, 1.0], [34.436654, 35.850851, 1.0], [34.437376, 35.851879, 1.0], [34.437637, 35.836016, 1.0], [34.43806, 35.830823, 1.0], [34.438062, 35.830744, 2.0], [34.438077, 35.830869, 1.0], [34.438082, 35.836209, 1.0], [34.438087, 35.830777, 1.0], [34.438094, 35.830837, 29.0], [34.438136, 35.830683, 5.0], [34.438279, 35.832307, 1.0], [34.438539, 42.197165, 1.0], [34.438699, 35.831001, 1.0], [34.439089, 35.830829, 1.0], [34.439228, 35.831848, 1.0], [34.439731, 44.172027, 1.0], [34.439761, 43.868988, 4.0], [34.439902, 35.848004, 2.0], [34.440817, 44.172027, 4.0], [34.443955, 35.854032, 1.0], [34.445492, 44.164839, 1.0], [34.446061, 35.826225, 1.0], [34.45, 43.583333, 3.0], [34.451935, 40.91119, 1.0], [34.452466, 44.167737, 1.0], [34.455437, 43.797672, 1.0], [34.45725, 43.799344, 1.0], [34.4575, 43.798333, 1.0], [34.458684, 43.795649, 100.0], [34.458889, 43.791004, 24.0], [34.461111, 44.846389, 1.0], [34.466549, 36.389971, 1.0], [34.466954, 44.424649, 1.0], [34.468799, 36.041834, 1.0], [34.471082, 43.525348, 1.0], [34.471867, 44.457189, 1.0], [34.473236, 43.73362, 2.0], [34.474993, 41.905622, 1.0], [34.477619, 41.920773, 23.0], [34.479675, 35.936031, 1.0], [34.480301, 7.522332, 1.0], [34.480383, 36.43939, 1.0], [34.48074, 36.441679, 1.0], [34.480786, 36.441669, 1.0], [34.481341, 43.743567, 1.0], [34.485267, 7.521852, 1.0], [34.485829, 7.518017, 1.0], [34.48593, 7.51865, 1.0], [34.487799, 44.17393, 1.0], [34.502129, 44.623301, 1.0], [34.503636, 43.757174, 1.0], [34.505288, 43.614455, 1.0], [34.509663, 36.580059, 2.0], [34.510595, 35.96949, 1.0], [34.512922, 36.57682, 1.0], [34.513333, 35.959722, 1.0], [34.514806, 45.579741, 1.0], [34.520092, 37.508011, 1.0], [34.523129, 37.625414, 1.0], [34.525, 36.241667, 1.0], [34.52601, 37.628807, 1.0], [34.526913, 43.708546, 5.0], [34.529187, 43.510494, 2.0], [34.529187, 43.576412, 1.0], [34.530573, 37.627651, 1.0], [34.530617, 44.907397, 1.0], [34.532032, 36.059761, 1.0], [34.533712, 43.483028, 1.0], [34.533712, 43.488522, 1.0], [34.533712, 43.499937, 1.0], [34.533753, 43.483738, 52.0], [34.53774, 36.152568, 1.0], [34.538238, 43.483028, 1.0], [34.538238, 43.488522, 1.0], [34.540786, 44.6472, 1.0], [34.542762, 43.477478, 1.0], [34.542762, 43.494015, 1.0], [34.547204, 36.422645, 1.0], [34.54906, 43.485533, 1.0], [34.549549, 43.63452, 1.0], [34.550609, 38.268826, 1.0], [34.551442, 37.814298, 1.0], [34.554427, 38.282841, 1.0], [34.558525, 38.293671, 15.0], [34.562296, 36.670567, 1.0], [34.565, 44.515556, 1.0], [34.567274, 44.513969, 1.0], [34.570353, 37.194397, 1.0], [34.580192, 39.507971, 1.0], [34.582001, 43.724945, 1.0], [34.582778, 44.646111, 1.0], [34.582799, 43.606348, 2.0], [34.590444, 43.56903, 1.0], [34.593026, 43.954452, 1.0], [34.593144, -0.547055, 1.0], [34.595041, 43.919777, 1.0], [34.597494, 43.703468, 1.0], [34.599591, 43.683533, 1.0], [34.599706, 43.68369, 1.0], [34.599868, 3.195534, 2.0], [34.6, 43.683333, 2.0], [34.600737, 43.782225, 1.0], [34.602982, 37.086327, 2.0], [34.608564, 43.654323, 2.0], [34.612778, 44.620556, 1.0], [34.613045, 43.612453, 2.0], [34.615191, 43.593469, 1.0], [34.615637, 43.683781, 1.0], [34.617528, 36.376405, 1.0], [34.617731, 43.703778, 1.0], [34.617864, 43.656741, 1.0], [34.61872, 43.656722, 1.0], [34.619365, 36.272343, 1.0], [34.619647, 43.488464, 1.0], [34.621521, 43.668377, 276.0], [34.621576, 43.676183, 1.0], [34.621709, 43.660843, 1.0], [34.632646, -0.20508, 1.0], [34.634483, 36.2318, 1.0], [34.635273, 43.589817, 1.0], [34.64299, -1.56145, 1.0], [34.643338, 43.687728, 1.0], [34.644722, 43.7, 1.0], [34.646884, 43.714248, 2.0], [34.648913, 44.654834, 1.0], [34.657579, 42.943956, 1.0], [34.658697, 43.874931, 1.0], [34.662664, 44.948313, 1.0], [34.666469, 43.700442, 1.0], [34.666667, 3.25, 1.0], [34.673553, 37.816219, 1.0], [34.674221, 43.544418, 1.0], [34.675, 4.089444, 1.0], [34.675359, -0.620728, 1.0], [34.675551, 43.550642, 1.0], [34.675971, 43.5474, 1.0], [34.680833, 4.096944, 2.0], [34.68245, 43.549927, 1.0], [34.683358, 44.966637, 1.0], [34.689444, 44.960556, 1.0], [34.68975, 43.585547, 1.0], [34.691246, 43.718243, 3.0], [34.693892, 42.682317, 2.0], [34.70514, 42.296644, 1.0], [34.705948, 43.697075, 6.0], [34.711769, 44.22908, 2.0], [34.715336, 36.255295, 1.0], [34.717705, 36.722824, 65.0], [34.718397, 43.184602, 1.0], [34.720916, 44.606096, 4.0], [34.722992, 37.046791, 1.0], [34.724027, 36.716151, 1.0], [34.726269, 44.584908, 6.0], [34.727959, 37.707956, 1.0], [34.733713, 43.789902, 1.0], [34.733879, 36.71817, 1.0], [34.738889, 44.513056, 2.0], [34.740353, 36.670589, 1.0], [34.743267, 43.663277, 1.0], [34.744444, 44.967778, 1.0], [34.75, 43.65, 3.0], [34.751876, 44.321941, 1.0], [34.752182, 8.058859, 4.0], [34.752379, 44.324843, 1.0], [34.760859, 42.804933, 1.0], [34.76086, 42.804933, 1.0], [34.762303, 37.553453, 2.0], [34.762748, 43.596413, 1.0], [34.769786, 43.556419, 1.0], [34.773461, 44.587727, 1.0], [34.780254, 8.151512, 1.0], [34.784906, -0.573178, 1.0], [34.789722, 7.816944, 1.0], [34.790665, 44.662151, 24.0], [34.792691, 44.666582, 2.0], [34.802703, -0.327917, 1.0], [34.803412, 44.625464, 4.0], [34.804722, 45.646667, 1.0], [34.806469, 44.495682, 1.0], [34.807835, 43.057959, 1.0], [34.812582, 37.477768, 1.0], [34.814213, 44.057988, 1.0], [34.814651, 37.01833, 1.0], [34.817328, -0.623319, 1.0], [34.820455, 43.550298, 3.0], [34.823838, 43.066796, 1.0], [34.829869, 43.518133, 1.0], [34.831081, 37.684139, 2.0], [34.834274, 37.324997, 1.0], [34.834415, 43.515133, 13.0], [34.836949, 5.720851, 1.0], [34.839107, 7.031391, 1.0], [34.845768, 36.672234, 1.0], [34.848177, 44.656766, 1.0], [34.848248, 7.866552, 1.0], [34.848299, 43.924511, 1.0], [34.856136, 44.569965, 1.0], [34.857655, 43.083708, 1.0], [34.857777, 40.575726, 1.0], [34.85925, 44.322065, 1.0], [34.870552, 36.6525, 1.0], [34.871514, 44.627427, 1.0], [34.879991, 44.621049, 20.0], [34.880277, 44.620645, 1.0], [34.880732, 44.619885, 1.0], [34.880927, 44.620853, 2.0], [34.880964, 44.620763, 6.0], [34.881064, 44.625461, 1.0], [34.881301, 44.630574, 1.0], [34.881315, 44.621403, 11.0], [34.881348, 44.62513, 212.0], [34.881784, 43.895452, 1.0], [34.883135, 44.626893, 1.0], [34.883333, 35.883333, 1.0], [34.884201, 38.872517, 1.0], [34.884941, 43.492664, 4.0], [34.88562, 44.639339, 1.0], [34.88576, 44.639424, 2.0], [34.88915, 6.17682, 1.0], [34.892883, 43.102278, 1.0], [34.894387, 44.659142, 1.0], [34.895928, 35.886652, 3.0], [34.896112, 35.886553, 1.0], [34.8962, 43.808772, 1.0], [34.896351, 35.886443, 2.0], [34.896537, 43.812777, 1.0], [34.896863, 43.498934, 1.0], [34.897027, 43.806586, 1.0], [34.899761, 43.490101, 4.0], [34.900464, 43.807014, 1.0], [34.900948, 44.48682, 1.0], [34.902587, 43.808922, 1.0], [34.904548, 36.769751, 1.0], [34.914142, 43.405457, 1.0], [34.919812, 43.388185, 2.0], [34.922668, 43.456279, 1.0], [34.922718, 43.483088, 1.0], [34.923745, 43.809727, 1.0], [34.92485, 43.491413, 131.0], [34.925064, 43.807106, 1.0], [34.925074, 43.809004, 5.0], [34.92662, 36.732517, 1.0], [34.92832, 43.501463, 1.0], [34.928632, 43.495831, 1.0], [34.928864, 43.492923, 1.0], [34.929072, 43.493196, 1.0], [34.929095, 43.493056, 1.0], [34.929123, 43.493056, 1.0], [34.929167, 43.493056, 14.0], [34.930077, 43.492846, 2.0], [34.930162, 43.491904, 1.0], [34.931046, 43.491145, 1.0], [34.931628, 43.177462, 1.0], [34.932454, 43.481063, 1.0], [34.933361, 43.412552, 15.0], [34.934021, 44.732433, 1.0], [34.934638, 43.444549, 1.0], [34.936233, 40.586269, 1.0], [34.94083, 43.449726, 1.0], [34.943422, 43.496511, 1.0], [34.951523, 36.581963, 1.0], [34.966629, 43.702281, 1.0], [34.96725, 7.907657, 2.0], [34.967843, 43.444691, 1.0], [34.970222, 44.288788, 1.0], [34.974637, 36.50439, 1.0], [34.974928, 44.21583, 1.0], [34.975833, 4.1225, 1.0], [34.979444, 44.775278, 1.0], [34.982067, 40.53936, 1.0], [34.983882, 43.761533, 1.0], [34.992645, 43.719736, 1.0], [34.99519, 7.301591, 2.0], [35.000636, 7.309944, 3.0], [35.00485, 43.491499, 1.0], [35.005104, 43.49686, 2.0], [35.007987, 43.503203, 1.0], [35.008433, 43.502453, 1.0], [35.008781, 8.317676, 1.0], [35.009102, 43.356161, 1.0], [35.010072, 43.728868, 1.0], [35.011197, 43.505267, 1.0], [35.011756, 43.502299, 1.0], [35.012104, 43.579542, 1.0], [35.012791, 37.051506, 5.0], [35.012809, 43.501051, 1.0], [35.015777, 43.500912, 1.0], [35.015778, 40.455212, 4.0], [35.015846, 43.722516, 1.0], [35.018003, 43.445215, 3.0], [35.023304, 43.370753, 1.0], [35.024167, 8.024722, 1.0], [35.025769, 43.703602, 1.0], [35.026347, 43.643016, 1.0], [35.029195, 43.688809, 1.0], [35.030507, 43.646117, 1.0], [35.031751, 43.646966, 1.0], [35.031778, 43.622394, 1.0], [35.031981, 43.647452, 1.0], [35.032144, 43.647339, 1.0], [35.0325, 43.646389, 4.0], [35.03415, 43.632833, 1.0], [35.035061, 43.646372, 1.0], [35.037258, 7.009526, 2.0], [35.038324, 7.008026, 1.0], [35.039704, 43.659398, 1.0], [35.046111, 40.4875, 1.0], [35.049127, 44.371914, 1.0], [35.049437, 43.558042, 1.0], [35.050802, 43.558242, 1.0], [35.064873, 43.551613, 6.0], [35.065342, 36.342086, 2.0], [35.068056, 36.888889, 1.0], [35.084302, 44.323967, 2.0], [35.084499, 44.323656, 3.0], [35.085266, 44.324777, 1.0], [35.087472, 44.324648, 1.0], [35.087589, 44.322023, 1.0], [35.090833, 43.294722, 1.0], [35.098535, 43.418528, 1.0], [35.099121, 40.459324, 1.0], [35.108004, 43.34216, 3.0], [35.117592, 7.767333, 1.0], [35.118056, 7.767222, 1.0], [35.11821, 7.76722, 1.0], [35.119653, 44.086188, 1.0], [35.128894, 7.959137, 1.0], [35.129181, 36.760738, 13.0], [35.131156, 43.427336, 2.0], [35.13451, 7.955246, 1.0], [35.135251, 44.086719, 1.0], [35.135796, 37.020739, 1.0], [35.135849, 44.087593, 1.0], [35.135849, 44.087712, 7.0], [35.136112, 43.4225, 1.0], [35.13636, 44.094088, 1.0], [35.137009, 44.44664, 9.0], [35.139668, 44.13372, 1.0], [35.143172, 44.446499, 7.0], [35.148073, 44.333556, 1.0], [35.15147, 37.220161, 1.0], [35.155735, 40.42632, 1.0], [35.157407, 8.809937, 1.0], [35.1575, 8.195556, 1.0], [35.158718, 43.457292, 1.0], [35.16277, 6.242289, 1.0], [35.16296, 44.422688, 2.0], [35.165036, 44.343759, 1.0], [35.166523, 8.83326, 1.0], [35.166667, 8.833333, 1.0], [35.170721, 8.831264, 1.0], [35.172505, 43.377435, 1.0], [35.173493, 44.424202, 1.0], [35.1782, 43.375203, 1.0], [35.183333, 45.983333, 3.0], [35.183386, 44.311215, 1.0], [35.183965, 44.302371, 1.0], [35.184191, 8.806715, 1.0], [35.187442, 43.838134, 1.0], [35.188786, 37.211583, 3.0], [35.188787, 37.211583, 3.0], [35.198963, 43.793133, 2.0], [35.19939, -0.632858, 1.0], [35.2, -0.633333, 1.0], [35.200928, 43.274925, 2.0], [35.202162, 8.69557, 1.0], [35.206667, 8.682778, 1.0], [35.206705, 8.661579, 1.0], [35.207531, 8.682468, 1.0], [35.209858, 8.660662, 1.0], [35.21462, 0.96719, 1.0], [35.21465, 44.15453, 1.0], [35.216454, 37.16629, 1.0], [35.222231, 44.362898, 1.0], [35.230349, 44.368411, 1.0], [35.23615, 43.4391, 1.0], [35.239591, 8.750597, 3.0], [35.239742, 44.206032, 1.0], [35.244444, 43.893056, 3.0], [35.244621, 44.275486, 35.0], [35.248444, 36.571445, 2.0], [35.251243, 44.318079, 1.0], [35.256849, 44.365502, 1.0], [35.257854, 43.436784, 1.0], [35.260414, 36.383118, 1.0], [35.263184, 44.180478, 1.0], [35.265597, 44.31301, 1.0], [35.266373, 36.710999, 1.0], [35.266398, 44.384876, 1.0], [35.267697, 7.750583, 2.0], [35.269941, 43.912673, 1.0], [35.269941, 43.912713, 1.0], [35.270832, 36.293419, 1.0], [35.270833, 43.846944, 1.0], [35.270888, 43.879224, 1.0], [35.271023, 43.458084, 10.0], [35.272076, 43.915043, 35.0], [35.272259, 43.462072, 1.0], [35.273309, 43.922168, 1.0], [35.274537, 43.952878, 1.0], [35.276111, 43.591944, 1.0], [35.278431, 43.567577, 1.0], [35.279475, 44.00112, 1.0], [35.280111, 44.15082, 1.0], [35.280246, 43.996549, 1.0], [35.281712, 36.731991, 1.0], [35.283094, 40.170864, 2.0], [35.283155, 40.170828, 1.0], [35.286536, 40.182669, 1.0], [35.287163, 43.99994, 1.0], [35.28798, 40.308863, 1.0], [35.288154, 36.741528, 1.0], [35.289004, 43.452865, 1.0], [35.290356, 44.007872, 1.0], [35.290483, 36.345111, 1.0], [35.291111, 36.6625, 1.0], [35.291439, 36.748001, 1.0], [35.291923, 43.7958, 1.0], [35.295399, 43.679208, 1.0], [35.296982, 40.202309, 2.0], [35.29886, 43.627776, 1.0], [35.29937, 36.802521, 3.0], [35.3, 43.916667, 3.0], [35.3, 43.91667, 3.0], [35.301879, 44.329218, 1.0], [35.302275, 46.035178, 2.0], [35.303047, 44.329933, 28.0], [35.304217, 36.842386, 1.0], [35.30787, 44.148935, 1.0], [35.311111, 44.840278, 1.0], [35.312046, 43.95185, 1.0], [35.313001, 43.181553, 1.0], [35.314053, 8.854157, 1.0], [35.314948, 44.510157, 2.0], [35.31495, 46.99883, 2.0], [35.316667, 43.766667, 12.0], [35.316703, 43.766448, 2.0], [35.319618, 43.747998, 1.0], [35.320671, 43.767281, 1.0], [35.323789, 43.772096, 17.0], [35.324134, 36.787612, 1.0], [35.324778, 43.766922, 1.0], [35.324817, 43.766813, 1.0], [35.324825, 43.766922, 30.0], [35.326122, 43.780811, 51.0], [35.32626, 43.7672, 1.0], [35.32633, 43.950348, 1.0], [35.326885, 44.244495, 2.0], [35.327557, 8.840873, 1.0], [35.328577, 43.943613, 1.0], [35.328582, 43.944722, 3.0], [35.328587, 43.950026, 4.0], [35.3289, 44.223724, 1.0], [35.329201, 43.943679, 23.0], [35.330812, 43.947601, 1.0], [35.330973, 40.113333, 1.0], [35.332015, 8.907482, 1.0], [35.333053, 43.936615, 1.0], [35.333061, 40.138737, 28.0], [35.335293, 43.97192, 1.0], [35.335353, 44.422258, 1.0], [35.335639, 43.953855, 4.0], [35.339774, 43.936615, 1.0], [35.339774, 43.942108, 2.0], [35.347661, 43.973247, 1.0], [35.348736, 43.969603, 7.0], [35.348841, 7.47169, 1.0], [35.349159, 43.616886, 1.0], [35.350976, 44.387054, 1.0], [35.35763, 0.67115, 1.0], [35.357696, 43.953123, 2.0], [35.3578, 36.795525, 3.0], [35.358935, 44.145917, 2.0], [35.359687, 1.321803, 1.0], [35.36058, 44.471265, 1.0], [35.361572, 35.927155, 6.0], [35.364416, 44.084959, 1.0], [35.366578, 37.784873, 1.0], [35.366656, 43.939362, 1.0], [35.366667, 44.133333, 1.0], [35.367355, 1.322032, 1.0], [35.375627, 5.905525, 1.0], [35.376865, 44.186796, 1.0], [35.37849, 1.32569, 1.0], [35.38026, 44.122547, 1.0], [35.382304, 44.072132, 1.0], [35.384586, 44.142969, 1.0], [35.387486, 44.175102, 1.0], [35.3875, 44.175278, 1.0], [35.387592, 44.175423, 1.0], [35.388979, 44.207696, 1.0], [35.391899, 0.138188, 1.0], [35.393848, 43.259404, 1.0], [35.395466, 9.197867, 1.0], [35.396305, 44.366372, 1.0], [35.398785, 44.370738, 1.0], [35.401613, 8.125987, 1.0], [35.401883, 35.948314, 1.0], [35.40225, 43.88447, 1.0], [35.40238, 8.128199, 1.0], [35.405506, 37.430546, 2.0], [35.407086, 43.893465, 1.0], [35.407139, 8.120864, 6.0], [35.407278, 35.942679, 1.0], [35.408611, 43.679444, 2.0], [35.41224, 43.111497, 1.0], [35.41292, 44.351126, 2.0], [35.413296, 36.33012, 1.0], [35.415855, 43.114769, 9.0], [35.416862, 44.272808, 1.0], [35.418424, 44.193166, 11.0], [35.421111, 44.022778, 1.0], [35.421572, 43.124565, 1.0], [35.423363, 43.565338, 1.0], [35.428695, 44.082366, 1.0], [35.43027, 43.988634, 1.0], [35.432724, 36.494053, 1.0], [35.435909, 44.382034, 1.0], [35.436655, 44.395262, 1.0], [35.43811, 7.146648, 2.0], [35.442745, 42.393838, 3.0], [35.44318, 36.650063, 2.0], [35.443204, 43.752504, 1.0], [35.445314, 36.304043, 1.0], [35.446676, 44.343306, 1.0], [35.451722, 44.097407, 1.0], [35.45211, 44.375465, 608.0], [35.45341, 44.227363, 1.0], [35.455077, 43.108764, 1.0], [35.455089, 42.395519, 1.0], [35.455964, 36.059189, 1.0], [35.456432, 36.059241, 1.0], [35.456491, 36.058356, 1.0], [35.457379, 36.059439, 1.0], [35.463466, 44.276862, 1.0], [35.464344, 40.669575, 1.0], [35.465391, 44.382907, 1.0], [35.465576, 44.380392, 3.0], [35.465758, 44.377057, 1.0], [35.466275, 44.317002, 1.0], [35.466389, 43.783056, 1.0], [35.466633, 44.315808, 1.0], [35.466667, 44.316667, 7.0], [35.468763, 44.391003, 1.0], [35.46883, 44.39098, 3.0], [35.469596, 44.391235, 1.0], [35.469618, 43.118377, 1.0], [35.46979, 44.396337, 3.0], [35.469898, 44.127674, 2.0], [35.470616, 44.395746, 8.0], [35.470702, 43.284373, 1.0], [35.473077, 44.398121, 1.0], [35.474281, 43.146476, 1.0], [35.485833, 43.240556, 2.0], [35.486772, 43.11298, 1.0], [35.48727, 43.240556, 1.0], [35.489091, 43.235535, 1.0], [35.490866, 43.097777, 1.0], [35.491852, 43.239977, 1.0], [35.492336, 43.237241, 1.0], [35.492978, 43.242601, 1.0], [35.492997, 43.242478, 1.0], [35.493072, 43.24237, 1.0], [35.493102, 43.097763, 1.0], [35.493102, 43.099136, 1.0], [35.49422, 43.095016, 1.0], [35.494573, 43.242373, 1.0], [35.494721, 43.097213, 2.0], [35.494846, 43.097162, 8.0], [35.495434, 44.402228, 1.0], [35.496533, 43.095389, 2.0], [35.496667, 43.709167, 1.0], [35.496729, 43.13847, 1.0], [35.499439, 43.234894, 50.0], [35.503679, 43.112189, 1.0], [35.505731, 43.257433, 1.0], [35.513157, 43.272674, 1.0], [35.513207, 43.239973, 1.0], [35.515014, 43.237822, 1.0], [35.515016, 43.237822, 1.0], [35.518527, 43.831439, 1.0], [35.521797, 46.183594, 2.0], [35.528404, 35.79232, 11.0], [35.529722, 44.135556, 1.0], [35.529866, 43.840449, 1.0], [35.530457, 44.134772, 4.0], [35.536944, 44.281944, 5.0], [35.537344, 44.281671, 1.0], [35.538646, 36.299847, 1.0], [35.54071, 35.795267, 1.0], [35.545278, 44.068889, 1.0], [35.549128, 6.169825, 1.0], [35.549206, 51.366454, 1.0], [35.55, 6.166667, 2.0], [35.555751, 43.209101, 1.0], [35.560376, 44.524705, 1.0], [35.560755, 42.705866, 1.0], [35.563069, 42.730889, 1.0], [35.563231, 6.228957, 1.0], [35.567009, 45.385494, 10.0], [35.568057, 43.901621, 1.0], [35.569427, 42.723026, 8.0], [35.571859, 44.25402, 1.0], [35.572778, 42.733889, 1.0], [35.574122, 42.728694, 1.0], [35.574465, 42.73376, 1.0], [35.581607, 43.829042, 1.0], [35.584338, 5.860815, 1.0], [35.587387, 42.71699, 1.0], [35.595943, 43.24268, 1.0], [35.597032, 36.057875, 1.0], [35.59901, 5.893085, 1.0], [35.599113, 36.92757, 2.0], [35.600617, 42.88443, 1.0], [35.610634, 43.24892, 1.0], [35.612213, 44.163273, 1.0], [35.622445, 43.559293, 1.0], [35.62392, 45.949173, 1.0], [35.625256, 43.223236, 7.0], [35.628849, 36.458794, 1.0], [35.631248, 44.00856, 11.0], [35.631498, 43.631421, 1.0], [35.6325, 44.003889, 1.0], [35.637707, 36.215786, 1.0], [35.647797, 36.675259, 4.0], [35.656355, 42.948453, 1.0], [35.66528, 6.64806, 1.0], [35.668333, 8.007222, 1.0], [35.669052, 43.542445, 4.0], [35.669381, 44.081777, 3.0], [35.670429, 44.073953, 3.0], [35.672348, 44.070008, 1.0], [35.672515, 44.073028, 1.0], [35.672932, 44.070145, 19.0], [35.673284, 44.073417, 2.0], [35.676876, 43.294392, 2.0], [35.677301, 44.074933, 1.0], [35.681989, 43.880167, 1.0], [35.685794, 44.098424, 1.0], [35.688611, 44.109167, 2.0], [35.688615, 44.099335, 1.0], [35.68862, 43.908949, 1.0], [35.688751, 36.135868, 1.0], [35.69, 42.548889, 2.0], [35.690206, 43.907375, 1.0], [35.69112, 43.876858, 1.0], [35.691268, 43.925109, 1.0], [35.694847, -0.633123, 1.0], [35.69487, 43.912573, 1.0], [35.695601, 43.28399, 1.0], [35.695846, 36.150798, 1.0], [35.696111, 4.539313, 1.0], [35.698118, 43.280514, 1.0], [35.699462, 8.046773, 1.0], [35.699906, 43.536794, 4.0], [35.7, 44.1, 1.0], [35.700266, 44.09932, 1.0], [35.700397, 43.280434, 7.0], [35.701321, 43.9188, 3.0], [35.703845, 4.572282, 1.0], [35.704593, 43.893583, 1.0], [35.704616, -0.654332, 1.0], [35.709268, 43.302881, 1.0], [35.7131, 43.29924, 2.0], [35.713266, 41.760647, 1.0], [35.713863, 36.525666, 1.0], [35.713985, 36.525666, 1.0], [35.724218, 41.747131, 1.0], [35.724533, 51.40519, 11.0], [35.724758, 43.850193, 1.0], [35.73494, 37.103072, 1.0], [35.73657, 37.103453, 1.0], [35.736772, 44.484363, 1.0], [35.738613, 42.673346, 1.0], [35.739262, 43.321033, 5.0], [35.742269, 0.559458, 1.0], [35.742489, 36.165016, 2.0], [35.744282, 43.367317, 1.0], [35.746944, 44.517222, 1.0], [35.747993, 43.283745, 1.0], [35.75, 44.15, 1.0], [35.752293, 44.147743, 1.0], [35.758034, 43.285451, 1.0], [35.758367, 43.12946, 1.0], [35.764167, 35.980278, 1.0], [35.764795, 43.589718, 1.0], [35.768353, 43.588966, 8.0], [35.769304, 43.123718, 1.0], [35.769846, 43.581292, 1.0], [35.771057, 43.362682, 2.0], [35.771149, 10.827331, 1.0], [35.773546, 43.581376, 1.0], [35.774379, 43.577381, 1.0], [35.774954, 43.58102, 2.0], [35.775655, 43.579751, 1.0], [35.77677, 10.825516, 1.0], [35.778622, 43.265488, 3.0], [35.781292, 37.499214, 3.0], [35.785833, 36.038056, 1.0], [35.786944, 0.666667, 1.0], [35.788625, 46.120265, 1.0], [35.791215, 43.272015, 1.0], [35.797443, 43.593756, 1.0], [35.79813, 43.294178, 33.0], [35.803182, 35.938566, 1.0], [35.805906, 38.987674, 1.0], [35.808565, 36.622323, 1.0], [35.811501, 36.198906, 1.0], [35.813396, 36.319939, 3.0], [35.813972, 36.609917, 2.0], [35.814324, 36.614226, 4.0], [35.816667, 43.266667, 1.0], [35.818056, 37.058333, 1.0], [35.819584, 36.151386, 1.0], [35.821805, 43.151165, 1.0], [35.823377, 43.372935, 1.0], [35.825429, 35.952128, 1.0], [35.82688, 36.695722, 6.0], [35.827229, 43.389652, 3.0], [35.827975, 43.389449, 2.0], [35.832981, 10.63875, 2.0], [35.833402, 36.696653, 1.0], [35.844665, 43.109738, 1.0], [35.855245, 36.671186, 1.0], [35.85531, 36.671555, 1.0], [35.863627, 36.634392, 1.0], [35.8638, 36.633761, 1.0], [35.863846, 43.192068, 3.0], [35.866343, 7.883627, 1.0], [35.866613, 43.31855, 1.0], [35.868511, 36.804665, 3.0], [35.870968, 43.296768, 6.0], [35.871964, 36.092751, 1.0], [35.877158, 43.496022, 1.0], [35.881389, 42.469444, 1.0], [35.885095, 4.401621, 1.0], [35.898382, 36.161843, 1.0], [35.904236, 36.063469, 2.0], [35.904295, 43.058433, 1.0], [35.905778, 0.774386, 1.0], [35.907142, 2.387845, 1.0], [35.9078, 2.388369, 1.0], [35.909575, 43.316606, 1.0], [35.917709, 36.149529, 1.0], [35.924722, 6.695278, 1.0], [35.924803, 6.695967, 1.0], [35.92522, 35.988251, 2.0], [35.925894, 36.6519, 1.0], [35.927962, 42.565887, 3.0], [35.928802, 36.631451, 22.0], [35.929688, 43.348789, 1.0], [35.933333, 36.633333, 4.0], [35.933706, 36.633296, 1.0], [35.933846, 43.035221, 2.0], [35.943376, 38.963154, 1.0], [35.944855, 42.564484, 2.0], [35.951523, 39.009563, 14.0], [35.956841, 36.714043, 1.0], [35.958808, 38.999399, 1.0], [35.959411, 38.998105, 1.0], [35.964956, 40.902176, 1.0], [35.96545, 38.041325, 1.0], [35.96667, 43.61667, 2.0], [35.966718, 0.093298, 1.0], [35.967299, 2.031464, 1.0], [35.982761, 36.704647, 13.0], [35.986389, 42.282778, 1.0], [35.988462, 39.029995, 1.0], [35.989616, 2.143525, 1.0], [35.990086, 36.677223, 8.0], [35.99353, 43.21973, 13.0], [35.993954, 36.998383, 2.0], [35.994934, 36.781231, 1.0], [35.99588, 42.829136, 1.0], [35.996597, 36.938999, 1.0], [35.998266, 42.826547, 1.0], [36.0, 42.466667, 1.0], [36.00461, 1.79603, 1.0], [36.01313, 36.673443, 1.0], [36.023, 4.1024, 1.0], [36.023731, 1.274586, 1.0], [36.028752, 43.28885, 1.0], [36.028938, 38.030869, 1.0], [36.03258, 45.008817, 1.0], [36.03415, 43.081531, 1.0], [36.038455, 43.077635, 1.0], [36.039021, 43.08482, 1.0], [36.039722, 37.3075, 1.0], [36.042008, 41.715349, 1.0], [36.043266, 43.49884, 5.0], [36.043509, 43.489394, 1.0], [36.044126, 43.122779, 1.0], [36.045059, 41.716717, 6.0], [36.053486, 2.937574, 1.0], [36.054034, 42.401921, 1.0], [36.054962, 40.72496, 4.0], [36.060044, 2.841283, 1.0], [36.06028, 41.29466, 2.0], [36.060965, 42.398078, 1.0], [36.066667, 1.133333, 1.0], [36.068785, 43.065456, 1.0], [36.068964, 42.689278, 1.0], [36.069432, 1.989646, 1.0], [36.072919, 1.988153, 1.0], [36.077754, 4.462888, 1.0], [36.07791, 1.10583, 1.0], [36.080182, 4.809036, 1.0], [36.08363, 36.5031, 1.0], [36.083796, 42.377322, 1.0], [36.093884, 38.013538, 1.0], [36.098192, 43.328769, 1.0], [36.098627, 43.328475, 2.0], [36.102605, 42.524547, 1.0], [36.10428, 42.96804, 1.0], [36.1044, 42.9686, 1.0], [36.107877, 42.456381, 1.0], [36.113234, 2.303522, 1.0], [36.11418, 2.30438, 1.0], [36.115444, 37.049343, 1.0], [36.116166, 43.090971, 1.0], [36.121288, 37.343789, 1.0], [36.12141, 2.205412, 1.0], [36.12192, 41.295647, 1.0], [36.122439, 43.191092, 1.0], [36.122631, 37.340557, 1.0], [36.132989, 42.572177, 1.0], [36.133317, 2.916647, 1.0], [36.133333, 2.916667, 1.0], [36.134558, 8.761107, 1.0], [36.138344, 43.000267, 1.0], [36.144398, 43.310085, 1.0], [36.150556, 41.848889, 1.0], [36.151326, 5.687229, 1.0], [36.152413, 41.71039, 1.0], [36.152778, 5.69, 1.0], [36.154457, 43.359215, 1.0], [36.156528, 37.707882, 1.0], [36.156678, 43.359513, 1.0], [36.156944, 2.404167, 1.0], [36.158056, 43.259444, 1.0], [36.158179, 43.253263, 4.0], [36.158558, 43.2551, 34.0], [36.160224, 43.095931, 1.0], [36.16525, 1.33452, 3.0], [36.165485, 37.099149, 1.0], [36.165874, 1.332239, 1.0], [36.168923, 43.087521, 1.0], [36.169083, 43.482407, 1.0], [36.173932, 5.446425, 1.0], [36.175473, 45.13333, 1.0], [36.176538, 42.322486, 1.0], [36.177343, 41.864484, 1.0], [36.178248, 5.458124, 1.0], [36.1789, 37.285795, 1.0], [36.18057, 37.224296, 1.0], [36.181419, 43.233799, 1.0], [36.182222, 8.714722, 1.0], [36.182717, 37.219453, 1.0], [36.183247, 41.591599, 1.0], [36.18375, 41.758739, 1.0], [36.184391, 45.13596, 1.0], [36.184412, 37.21835, 1.0], [36.184868, 43.207314, 1.0], [36.185014, 37.216942, 1.0], [36.185334, 5.447498, 1.0], [36.186286, 43.201967, 1.0], [36.186579, 37.576486, 1.0], [36.186638, 37.583084, 1.0], [36.186786, 37.582915, 1.0], [36.187306, 42.224158, 1.0], [36.187628, 43.17308, 1.0], [36.188889, 42.8025, 1.0], [36.18898, 5.414416, 1.0], [36.192589, 44.004623, 17.0], [36.194027, 43.559466, 1.0], [36.201205, 43.208785, 1.0], [36.201721, 37.14352, 320.0], [36.202265, 2.080534, 1.0], [36.202354, 41.687168, 1.0], [36.204391, 42.263546, 1.0], [36.205126, 8.49254, 1.0], [36.205222, 44.140906, 1.0], [36.20556, 2.0792, 1.0], [36.206371, 42.749943, 2.0], [36.2065, 37.160027, 1.0], [36.207593, 43.19765, 1.0], [36.207647, 43.537663, 1.0], [36.209095, 37.155763, 1.0], [36.209401, 42.916463, 1.0], [36.211478, 37.479057, 1.0], [36.212818, 43.379642, 8.0], [36.213078, 36.769512, 3.0], [36.213255, 42.285519, 1.0], [36.214444, 43.041111, 1.0], [36.215455, 37.494354, 1.0], [36.215549, 37.159279, 1.0], [36.216213, 37.163826, 1.0], [36.219876, 37.45358, 1.0], [36.219903, 43.13736, 1.0], [36.222563, 42.236953, 1.0], [36.2229, 8.355373, 1.0], [36.223981, 37.468283, 1.0], [36.226239, 37.46814, 4.0], [36.227281, 37.467467, 1.0], [36.227658, 43.011246, 1.0], [36.228108, 4.334579, 1.0], [36.228561, 45.113972, 1.0], [36.228695, 43.105652, 3.0], [36.229574, 42.236244, 17.0], [36.230274, 36.692928, 3.0], [36.230497, 43.12749, 1.0], [36.230981, 42.219601, 1.0], [36.230981, 42.241573, 1.0], [36.231527, 36.94813, 1.0], [36.231704, 36.696236, 1.0], [36.2319, 41.797912, 1.0], [36.232269, 42.236244, 1.0], [36.232504, 4.183216, 1.0], [36.233979, 43.106974, 1.0], [36.235412, 42.236023, 1.0], [36.237222, 42.8425, 1.0], [36.248703, 42.236023, 1.0], [36.249216, 41.901909, 1.0], [36.252373, 37.082672, 1.0], [36.25341, 44.893169, 1.0], [36.254806, 37.160663, 1.0], [36.255244, 5.123664, 1.0], [36.258523, 43.108132, 1.0], [36.258878, 43.280969, 1.0], [36.262457, 42.280571, 1.0], [36.263832, 42.707668, 6.0], [36.264221, 36.565708, 3.0], [36.264699, 41.951887, 1.0], [36.265348, 42.703945, 1.0], [36.266701, 37.203342, 1.0], [36.266752, 2.750468, 1.0], [36.268688, 43.50526, 1.0], [36.269174, 43.377327, 2.0], [36.269463, 43.374397, 2.0], [36.269722, 43.3775, 1.0], [36.269743, 43.045578, 1.0], [36.271854, 43.165359, 1.0], [36.273106, 43.159374, 7.0], [36.273452, 37.000943, 1.0], [36.274412, 43.37751, 2.0], [36.2775, 4.035024, 1.0], [36.278435, 37.085297, 1.0], [36.279275, 42.990708, 1.0], [36.279707, 43.074431, 1.0], [36.280208, 41.817298, 1.0], [36.281666, 42.40361, 1.0], [36.283446, 42.786286, 1.0], [36.28353, 3.987843, 2.0], [36.283566, 42.830044, 5.0], [36.286099, 42.40774, 1.0], [36.28611, 5.60722, 1.0], [36.286801, 4.133157, 1.0], [36.287615, 4.129991, 1.0], [36.287804, 2.065822, 1.0], [36.288139, 43.295368, 1.0], [36.288563, 42.912254, 1.0], [36.289417, 42.411853, 1.0], [36.29137, 37.15876, 3.0], [36.2947, 43.504702, 1.0], [36.30257, 2.277702, 1.0], [36.303611, 43.412778, 1.0], [36.310444, 36.689156, 3.0], [36.310699, 43.041472, 1.0], [36.311309, 42.63484, 1.0], [36.311951, 43.54571, 1.0], [36.313854, 36.660312, 1.0], [36.314216, 41.862443, 2.0], [36.3144, 41.8625, 1.0], [36.315195, 44.149727, 1.0], [36.317141, 43.161584, 1.0], [36.318344, 42.21035, 3.0], [36.318789, 6.832205, 1.0], [36.319386, 41.861473, 27.0], [36.32, 41.86, 2.0], [36.321738, 41.865884, 1.0], [36.322256, 41.863909, 1.0], [36.322392, 41.860499, 1.0], [36.3225, 41.864167, 2.0], [36.322969, 41.874576, 1.0], [36.325054, 42.840988, 4.0], [36.328242, 43.084099, 1.0], [36.328286, 42.835975, 1.0], [36.3308, 4.3011, 3.0], [36.332734, 43.082809, 2.0], [36.334016, 43.061793, 1.0], [36.33563, 4.262131, 1.0], [36.335638, 4.26218, 4.0], [36.335801, 4.262044, 1.0], [36.335803, 4.262044, 2.0], [36.33695, 43.137805, 1.0], [36.337666, 43.130369, 2.0], [36.33852, 43.069674, 1.0], [36.338591, 42.428276, 1.0], [36.34, 43.13, 4.0], [36.340212, 43.130209, 1.0], [36.341501, 43.137222, 1.0], [36.344086, 43.327324, 1.0], [36.347902, 43.622338, 1.0], [36.349444, 42.265556, 1.0], [36.349663, 43.256431, 1.0], [36.349698, 42.980229, 1.0], [36.349991, 1.649999, 1.0], [36.35, 6.6, 6.0], [36.351409, 43.379063, 2.0], [36.352081, 43.379764, 1.0], [36.352208, 43.379691, 1.0], [36.352222, 43.379722, 1.0], [36.354145, 43.14357, 1339.0], [36.354808, 43.15669, 1.0], [36.355015, 42.447538, 1.0], [36.356963, 43.163984, 2.0], [36.357113, 42.722473, 1.0], [36.35901, 42.303929, 1.0], [36.359535, 43.336533, 1.0], [36.360059, 4.371838, 1.0], [36.360155, 6.642433, 1.0], [36.362663, 37.012653, 4.0], [36.36552, 42.461802, 2.0], [36.366199, 37.512276, 9.0], [36.368943, 6.619856, 1.0], [36.370056, 37.441063, 1.0], [36.370177, 42.979742, 1.0], [36.370963, 42.529426, 8.0], [36.371177, 42.384803, 2.0], [36.371977, 3.897403, 1.0], [36.372133, 37.516309, 1.0], [36.373056, 42.931389, 1.0], [36.373718, 42.451778, 2.0], [36.374029, 42.451435, 1.0], [36.374167, 42.45, 2.0], [36.3745, 42.456056, 1.0], [36.37489, 3.902, 5.0], [36.376823, 42.448875, 98.0], [36.377024, 3.895739, 1.0], [36.377281, 36.993607, 4.0], [36.37763, 3.896235, 1.0], [36.378478, 42.495752, 1.0], [36.378717, 43.00302, 1.0], [36.378853, 2.397214, 1.0], [36.380554, 41.822912, 1.0], [36.380558, 6.474896, 1.0], [36.380825, 38.178571, 1.0], [36.3822, 1.2528, 1.0], [36.3825, 42.216667, 1.0], [36.384257, 42.329205, 1.0], [36.385278, 42.888889, 1.0], [36.38588, 38.863895, 2.0], [36.386667, 4.398611, 1.0], [36.391694, 41.833762, 1.0], [36.391727, 41.148346, 1.0], [36.393915, 43.124173, 1.0], [36.395034, 36.352203, 1.0], [36.397392, 6.658306, 1.0], [36.400202, 10.143981, 1.0], [36.401849, 36.34981, 4.0], [36.407343, 42.378841, 1.0], [36.407394, 42.964626, 8.0], [36.409167, 37.578056, 1.0], [36.41034, 44.387195, 1.0], [36.411472, 43.126129, 1.0], [36.411911, 43.042931, 2.0], [36.412593, 43.016234, 1.0], [36.41618, 42.99951, 1.0], [36.423756, 41.224369, 1.0], [36.426097, 42.963296, 1.0], [36.430278, 36.174167, 1.0], [36.431483, 5.16226, 1.0], [36.432888, 37.442127, 1.0], [36.432906, 32.465088, 1.0], [36.433386, 3.427219, 1.0], [36.433691, 43.27508, 1.0], [36.434563, 43.158421, 4.0], [36.435112, 42.631466, 1.0], [36.44391, 42.951832, 2.0], [36.444209, 42.652359, 1.0], [36.445278, 37.627222, 1.0], [36.447495, 43.351059, 10.0], [36.4488, 2.77596, 1.0], [36.451667, 43.342013, 1.0], [36.451707, 43.342042, 1.0], [36.452878, 43.342136, 1.0], [36.455412, 42.485579, 1.0], [36.456111, 43.199444, 1.0], [36.461408, 42.681916, 1.0], [36.46298, 2.81464, 1.0], [36.465278, 43.182778, 1.0], [36.46666, 34.158826, 1.0], [36.466727, 2.689879, 1.0], [36.469528, 42.670578, 4.0], [36.471466, 42.102936, 1.0], [36.472965, 37.09436, 1.0], [36.476389, 3.758611, 1.0], [36.480332, 4.29553, 1.0], [36.480386, 42.453526, 1.0], [36.480453, 2.83388, 4.0], [36.4818, 5.7112, 1.0], [36.482036, 43.223534, 1.0], [36.482582, 37.197102, 8.0], [36.486149, 42.418186, 7.0], [36.487519, 42.923672, 1.0], [36.489444, 43.119167, 2.0], [36.48994, 5.5393, 1.0], [36.490555, 43.121437, 2.0], [36.493699, 3.78479, 1.0], [36.493768, 5.852022, 1.0], [36.494423, 3.773677, 1.0], [36.495, 42.938611, 1.0], [36.499292, 2.381362, 1.0], [36.500351, 3.773062, 1.0], [36.500431, 42.438282, 2.0], [36.500833, 3.773889, 3.0], [36.501, 3.77396, 3.0], [36.503593, 40.740627, 33.0], [36.50589, 42.375995, 1.0], [36.508533, 42.842224, 1.0], [36.510153, 43.223476, 1.0], [36.510426, 36.86763, 1.0], [36.512165, 43.268906, 1.0], [36.513023, 42.738479, 1.0], [36.513781, 42.735193, 1.0], [36.513889, 4.786667, 1.0], [36.518116, 43.007237, 1.0], [36.51833, 2.90528, 1.0], [36.518608, 42.353477, 1.0], [36.521944, 37.041111, 1.0], [36.524836, 3.754936, 1.0], [36.526708, 2.344489, 1.0], [36.526829, 4.277452, 1.0], [36.528557, 37.954094, 4.0], [36.52915, 37.951031, 1.0], [36.532543, 3.684417, 3.0], [36.533147, 4.186909, 1.0], [36.534229, 42.759068, 2.0], [36.534444, 3.682778, 1.0], [36.534743, 3.681965, 1.0], [36.535556, 3.690833, 1.0], [36.535577, 3.834176, 1.0], [36.536433, 3.421204, 1.0], [36.539002, 37.21323, 1.0], [36.53956, 3.956814, 1.0], [36.541206, 43.02297, 1.0], [36.542194, 2.30415, 1.0], [36.54222, 3.95306, 2.0], [36.543048, 3.668028, 1.0], [36.543773, 43.024066, 1.0], [36.545, 42.883611, 1.0], [36.546064, 43.06273, 1.0], [36.548206, 3.654598, 1.0], [36.549648, 1.707661, 1.0], [36.55, 3.95, 1.0], [36.553405, 3.108938, 1.0], [36.554444, 40.748056, 1.0], [36.555085, 3.635345, 1.0], [36.562222, 3.594444, 23.0], [36.563163, 3.59978, 1.0], [36.564444, 3.154167, 1.0], [36.564722, 5.305833, 1.0], [36.56522, 3.153934, 1.0], [36.566479, 37.216244, 2.0], [36.570036, 42.602204, 1.0], [36.573106, 43.374465, 1.0], [36.574353, 42.798651, 1.0], [36.574526, 2.09281, 1.0], [36.575333, 3.908492, 2.0], [36.581837, 4.302828, 1.0], [36.585438, 37.046921, 6.0], [36.58609, 3.767982, 1.0], [36.586242, 5.580764, 1.0], [36.586617, 37.42704, 1.0], [36.586863, 36.172571, 1.0], [36.587465, 3.779068, 1.0], [36.58749, 38.301998, 2.0], [36.58882, 3.473738, 1.0], [36.589807, 36.172279, 1.0], [36.591221, 36.961853, 2.0], [36.592364, 42.216808, 1.0], [36.592604, 4.487702, 1.0], [36.594099, 4.008551, 1.0], [36.598701, 43.105648, 1.0], [36.601135, 42.643993, 1.0], [36.602598, 30.561011, 1.0], [36.604073, 3.699024, 1.0], [36.606468, 8.003041, 1.0], [36.607122, 2.196789, 1.0], [36.607977, 4.73542, 1.0], [36.609017, 4.691548, 2.0], [36.609351, 4.780351, 1.0], [36.610556, 5.515, 1.0], [36.612083, 3.987781, 1.0], [36.612531, 40.754509, 1.0], [36.612778, 5.691667, 1.0], [36.612793, 37.449032, 2.0], [36.615072, 3.987804, 1.0], [36.617409, 4.270127, 1.0], [36.617964, 38.782846, 1.0], [36.618584, 37.076237, 2.0], [36.62148, 4.080853, 1.0], [36.625172, 5.298243, 2.0], [36.625523, 38.754038, 1.0], [36.626314, 42.833867, 1.0], [36.626874, 3.479619, 1.0], [36.626889, 3.479503, 1.0], [36.626889, 3.479504, 1.0], [36.62707, 6.634418, 1.0], [36.628995, 3.612916, 1.0], [36.63059, 4.289494, 1.0], [36.630637, 37.085353, 1.0], [36.631111, 4.198611, 1.0], [36.632677, 43.256512, 1.0], [36.633333, 3.7, 1.0], [36.633885, 4.034125, 1.0], [36.634712, 3.590419, 1.0], [36.635072, 3.590128, 2.0], [36.63533, 44.992888, 1.0], [36.636944, 3.694722, 1.0], [36.63709, 3.69474, 4.0], [36.639167, 4.383889, 1.0], [36.640833, 40.3675, 1.0], [36.641883, 38.692552, 1.0], [36.646735, 38.78416, 1.0], [36.653632, 3.644582, 1.0], [36.654029, 10.079684, 1.0], [36.654051, 3.679096, 3.0], [36.655192, 6.088981, 1.0], [36.6552, 42.247009, 1.0], [36.655979, 39.758629, 1.0], [36.657269, 40.37056, 8.0], [36.658461, 37.212777, 1.0], [36.658628, 38.758781, 1.0], [36.660866, 4.152155, 1.0], [36.660896, 42.605278, 4.0], [36.662321, 4.079895, 1.0], [36.662636, 5.789046, 1.0], [36.665278, 43.978333, 1.0], [36.666095, 3.588863, 1.0], [36.666667, 4.766667, 1.0], [36.66774, 3.59115, 2.0], [36.672703, 3.809529, 1.0], [36.673056, 5.481111, 1.0], [36.673564, 5.481713, 2.0], [36.673926, 6.83876, 1.0], [36.675086, 37.469106, 1.0], [36.677231, 6.831322, 1.0], [36.677231, 42.219543, 1.0], [36.679444, 5.957222, 1.0], [36.679489, 6.38752, 1.0], [36.680492, 38.748776, 1.0], [36.681667, 3.8475, 2.0], [36.681757, 37.029976, 1.0], [36.683333, 4.544722, 1.0], [36.683333, 4.666667, 1.0], [36.683333, 6.566667, 1.0], [36.684336, 38.802893, 1.0], [36.684583, 4.665693, 1.0], [36.684883, 4.657456, 1.0], [36.685278, 3.412778, 1.0], [36.685559, 3.855515, 1.0], [36.686703, 4.266169, 1.0], [36.686971, 3.686288, 1.0], [36.688343, 40.196632, 1.0], [36.690984, 6.57471, 1.0], [36.691273, 3.588857, 2.0], [36.695437, 38.415062, 1.0], [36.695915, 38.946732, 5.0], [36.700283, 37.446795, 2.0], [36.700556, 3.5525, 1.0], [36.703866, 3.414648, 1.0], [36.705685, 4.042094, 1.0], [36.709198, 3.89534, 1.0], [36.713379, 38.948792, 1.0], [36.714164, 4.050111, 1.0], [36.714483, 4.052099, 1.0], [36.71499, 3.05002, 2.0], [36.716172, 3.15036, 3.0], [36.716365, 4.049834, 8.0], [36.716443, 4.050048, 1.0], [36.716477, 37.114661, 3.0], [36.716636, 38.944985, 1.0], [36.716666, 37.115311, 1.0], [36.716667, 4.05, 1.0], [36.717083, 42.095003, 1.0], [36.717797, 37.114617, 1.0], [36.71928, 37.11557, 44.0], [36.719553, 6.335506, 1.0], [36.720173, 5.985947, 1.0], [36.72051, 3.829882, 2.0], [36.721257, 3.667394, 2.0], [36.723166, 3.914166, 1.0], [36.72398, 3.670848, 5.0], [36.724419, 3.619247, 6.0], [36.724636, 6.049261, 1.0], [36.72544, 3.55665, 1.0], [36.72735, 3.40995, 1.0], [36.727778, 3.553889, 8.0], [36.728056, 43.3425, 1.0], [36.729435, 3.498687, 5.0], [36.731594, 3.67843, 1.0], [36.732374, 3.964945, 1.0], [36.733333, 3.966667, 1.0], [36.733498, 43.09758, 1.0], [36.734757, 4.438648, 3.0], [36.735554, 3.971022, 1.0], [36.73576, 4.437769, 3.0], [36.737011, 6.716271, 1.0], [36.73852, 3.279198, 1.0], [36.739125, 3.619198, 1.0], [36.739131, 3.621972, 1.0], [36.73914, 3.901676, 6.0], [36.74, 3.34, 2.0], [36.740312, 3.174597, 2.0], [36.740681, 3.72119, 1.0], [36.741667, 3.723056, 3.0], [36.742004, 3.726194, 4.0], [36.742386, 3.722816, 5.0], [36.742736, 3.901863, 2.0], [36.743052, 2.843686, 1.0], [36.743889, 6.400278, 1.0], [36.744022, 4.015914, 1.0], [36.74472, 4.37222, 2.0], [36.745632, 3.830243, 3.0], [36.74704, 4.370063, 2.0], [36.747578, 3.051962, 1.0], [36.747752, 3.773732, 1.0], [36.748247, 3.948864, 1.0], [36.74871, 3.19248, 1.0], [36.749678, 41.59673, 1.0], [36.75, 5.85, 1.0], [36.752887, 3.15036, 1.0], [36.753331, 3.043741, 1.0], [36.754509, 2.88999, 1.0], [36.754722, 6.2725, 1.0], [36.7565, 3.2637, 1.0], [36.758573, 44.721736, 1.0], [36.759396, 3.470261, 1.0], [36.76029, 3.472395, 5.0], [36.762758, 4.584531, 3.0], [36.76321, 42.602535, 3.0], [36.763763, 3.055413, 14.0], [36.764834, 42.636048, 1.0], [36.7652, 45.722417, 1.0], [36.76667, 7.01667, 1.0], [36.767596, 3.7029, 3.0], [36.767847, 3.604741, 1.0], [36.767885, 3.712324, 1.0], [36.769069, 3.029683, 1.0], [36.769106, 3.258983, 2.0], [36.771755, 5.606961, 3.0], [36.772158, 4.436217, 1.0], [36.772659, 5.958971, 1.0], [36.773786, 3.370281, 1.0], [36.774689, 5.89891, 1.0], [36.77499, 42.645939, 1.0], [36.77513, 5.59993, 1.0], [36.780708, 6.202618, 1.0], [36.783333, 34.6, 2.0], [36.783818, 6.01736, 1.0], [36.784031, 5.915431, 1.0], [36.794046, 5.784215, 1.0], [36.797091, 42.10465, 1.0], [36.797769, 3.717578, 1.0], [36.79778, 3.7175, 2.0], [36.798611, 6.157222, 1.0], [36.79885, 6.15721, 2.0], [36.798864, 3.777798, 2.0], [36.799169, 4.420561, 1.0], [36.799721, 30.578428, 2.0], [36.8, 4.266667, 2.0], [36.8, 34.633333, 1.0], [36.800611, 3.8341, 1.0], [36.801657, 6.158688, 1.0], [36.802253, 3.565254, 2.0], [36.802258, 4.322444, 1.0], [36.802461, 34.629759, 5.0], [36.802778, 4.746667, 1.0], [36.803036, 37.760888, 1.0], [36.803501, 3.563821, 7.0], [36.803982, 42.093945, 5.0], [36.804388, 42.078573, 1.0], [36.8046, 4.322139, 1.0], [36.805258, 3.813209, 2.0], [36.805797, 3.813381, 2.0], [36.806597, 5.955504, 1.0], [36.806853, 34.628893, 1.0], [36.807444, 5.749972, 1.0], [36.8075, 6.1235, 1.0], [36.807582, 6.126425, 1.0], [36.807907, 42.071414, 1.0], [36.810384, 10.169506, 1.0], [36.811427, 10.184214, 1.0], [36.812104, 34.641481, 1.0], [36.81224, 6.23876, 4.0], [36.813267, 5.751706, 1.0], [36.815186, 3.862361, 1.0], [36.816366, 6.132818, 1.0], [36.816667, 3.85, 2.0], [36.81694, 3.85722, 3.0], [36.81863, 38.011127, 3.0], [36.819661, 4.428847, 1.0], [36.81983, 38.00806, 1.0], [36.821899, 5.766102, 1.0], [36.822363, 6.31053, 1.0], [36.82568, 5.962771, 1.0], [36.833333, 4.0, 1.0], [36.833508, 38.000553, 4.0], [36.835283, 37.998924, 1.0], [36.835434, 3.688386, 1.0], [36.835703, 6.645026, 1.0], [36.835813, 37.995306, 1.0], [36.835988, 6.1358, 1.0], [36.836111, 6.137778, 1.0], [36.843274, 36.221921, 1.0], [36.844694, 4.098939, 1.0], [36.845, 4.573889, 2.0], [36.846693, 4.295931, 2.0], [36.847954, 40.070618, 2.0], [36.85, 6.05, 1.0], [36.85, 7.1, 1.0], [36.85334, 40.047374, 1.0], [36.854646, 28.271809, 1.0], [36.855006, 28.270349, 1.0], [36.85583, 3.85667, 1.0], [36.856394, 6.051944, 1.0], [36.857369, 34.397636, 1.0], [36.860813, 42.97646, 3.0], [36.863056, 3.880278, 1.0], [36.86318, 3.88035, 1.0], [36.864709, 4.058579, 2.0], [36.866618, 6.900388, 1.0], [36.866667, 6.9, 3.0], [36.87152, 6.910181, 1.0], [36.871938, 4.013731, 1.0], [36.875556, 3.716944, 1.0], [36.87806, 3.72306, 2.0], [36.878312, 4.007625, 3.0], [36.8825, 4.661944, 3.0], [36.88523, 3.737971, 2.0], [36.886497, 38.350204, 32.0], [36.886788, 30.706222, 4.0], [36.889621, 4.128186, 1.0], [36.891243, 4.123217, 9.0], [36.89288, 4.421175, 1.0], [36.894451, 4.419943, 3.0], [36.895269, 3.787962, 1.0], [36.89603, 3.818879, 2.0], [36.896891, 30.713323, 1.0], [36.901314, 3.806076, 2.0], [36.902183, 42.251461, 1.0], [36.90261, 30.759718, 1.0], [36.90278, 7.7552, 1.0], [36.902859, 7.755543, 1.0], [36.903639, 3.844437, 2.0], [36.90463, 38.345312, 1.0], [36.906389, 7.197778, 1.0], [36.9065, 7.19804, 1.0], [36.919552, 3.891396, 9.0], [36.919586, 3.891396, 1.0], [36.930165, 6.584411, 3.0], [36.941277, 36.154722, 1.0], [36.947541, 37.471095, 1.0], [36.950128, 42.146324, 1.0], [36.950379, 6.401167, 1.0], [36.967401, 35.258796, 1.0], [36.97512, 38.424287, 1.0], [36.975594, 38.426399, 5.0], [36.976667, 36.738466, 1.0], [36.99043, 44.32211, 1.0], [36.991245, 35.32782, 1.0], [36.991419, 35.330828, 2.0], [36.99154, 35.331051, 3.0], [36.995567, 35.302888, 1.0], [37.001079, 6.554711, 1.0], [37.001385, 6.55432, 1.0], [37.05336, 41.227345, 22.0], [37.065953, 37.37811, 1.0], [37.067631, 37.37315, 7.0], [37.06819, 7.383333, 1.0], [37.069644, 41.213997, 2.0], [37.06979, 44.24157, 1.0], [37.070296, 41.213785, 1.0], [37.070654, 36.282064, 1.0], [37.070876, 41.213344, 1.0], [37.071093, 41.215226, 1.0], [37.071777, 36.271529, 1.0], [37.074628, 36.2464, 3.0], [37.076523, 41.212998, 1.0], [37.078649, 41.214885, 1.0], [37.078792, 41.215599, 1.0], [37.079525, 44.308044, 1.0], [37.080181, 41.220196, 30.0], [37.080825, 41.215185, 2.0], [37.123961, 44.063174, 1.0], [37.151137, 41.327711, 1.0], [37.154504, 41.339913, 1.0], [37.159149, 38.796909, 1.0], [37.167404, 38.795515, 1.0], [37.175321, 43.012291, 1.0], [37.184525, 43.298217, 1.0], [37.18945, 40.585312, 1.0], [37.190894, 40.58464, 1.0], [37.192069, 40.583705, 1.0], [37.193111, 40.587036, 4.0], [37.202332, 36.426944, 1.0], [37.213026, 36.176262, 1.0], [37.216553, 43.376226, 1.0], [37.222085, 42.498922, 1.0], [37.23301, 39.75998, 1.0], [37.235867, 39.762378, 1.0], [37.239988, 44.659705, 1.0], [37.245402, 43.614584, 1.0], [37.246358, 44.650062, 1.0], [37.246584, 44.310866, 1.0], [37.246817, 43.611526, 2.0], [37.248644, 42.469318, 3.0], [37.2487, 42.4713, 4.0], [37.2487, 42.471357, 1.0], [37.248935, 42.470654, 1.0], [37.250556, 43.616667, 2.0], [37.253172, 43.612234, 1.0], [37.254976, 43.703785, 1.0], [37.25525, 42.474367, 1.0], [37.255558, 44.650574, 1.0], [37.26371, 43.526225, 1.0], [37.268597, 44.383699, 1.0], [37.273333, 41.483889, 1.0], [37.275799, 44.50173, 1.0], [37.27986, 42.46589, 1.0], [37.291534, 36.481899, 1.0], [37.293709, 43.671189, 12.0], [37.294346, 43.673306, 1.0], [37.29678, 43.663625, 1.0], [37.29678, 43.663659, 1.0], [37.296816, 43.671592, 1.0], [37.297109, 44.520634, 2.0], [37.298986, 43.671515, 2.0], [37.299291, 44.572388, 1.0], [37.3, 44.566667, 4.0], [37.300035, 44.572792, 1.0], [37.30012, 44.571408, 1.0], [37.301367, 41.521964, 2.0], [37.302545, 44.530952, 1.0], [37.302553, 44.531343, 1.0], [37.302708, 44.515607, 1.0], [37.303236, 43.586085, 1.0], [37.303442, 44.57696, 17.0], [37.303722, 44.575962, 3.0], [37.305165, 42.498322, 1.0], [37.30543, 44.573637, 1.0], [37.305965, 44.57082, 1.0], [37.306194, 42.498384, 1.0], [37.312903, 40.733951, 2.0], [37.314823, 40.733429, 1.0], [37.318761, 40.718147, 1.0], [37.320095, 44.55611, 1.0], [37.321163, 40.724477, 1.0], [37.326888, 42.187659, 1.0], [37.330074, 43.526169, 7.0], [37.33083, 42.184602, 4.0], [37.331301, 42.184074, 1.0], [37.331478, 42.185897, 1.0], [37.331711, 42.184328, 1.0], [37.331886, 42.185903, 1.0], [37.332, 42.185225, 1.0], [37.332346, 42.185474, 7.0], [37.333598, 42.183614, 1.0], [37.338778, 40.269049, 1.0], [37.3402, 41.8934, 3.0], [37.340288, 41.892628, 1.0], [37.340498, 40.821932, 1.0], [37.342787, 42.121717, 1.0], [37.354008, 40.805815, 1.0], [37.358607, 43.50465, 1.0], [37.361051, 42.019535, 1.0], [37.364657, 40.267937, 3.0], [37.36496, 40.267802, 1.0], [37.365302, 40.268995, 1.0], [37.365833, 40.269722, 1.0], [37.370458, 44.041046, 1.0], [37.372713, 41.93286, 1.0], [37.374774, 44.085309, 1.0], [37.375571, 44.087623, 1.0], [37.377382, 44.085035, 1.0], [37.385218, 40.569641, 1.0], [37.393544, 43.534265, 1.0], [37.400442, 43.499541, 1.0], [37.401493, 40.954371, 1.0], [37.408323, 44.540277, 1.0], [37.415148, 41.37343, 2.0], [37.415294, 44.110774, 1.0], [37.415668, 41.371505, 4.0], [37.416363, 41.373253, 1.0], [37.418099, 41.268707, 1.0], [37.418748, 42.491834, 7.0], [37.420232, 41.366454, 1.0], [37.421275, 42.513329, 1.0], [37.422046, 42.491682, 1.0], [37.425584, 34.873613, 1.0], [37.425772, 44.447462, 1.0], [37.429183, 42.883131, 3.0], [37.440736, 42.110754, 1.0], [37.44511, 42.856859, 1.0], [37.445278, 42.856953, 2.0], [37.445596, 42.853016, 1.0], [37.445932, 43.744984, 3.0], [37.446551, 43.741084, 1.0], [37.449746, 42.856927, 1.0], [37.450192, 42.853728, 1.0], [37.458599, 44.308554, 1.0], [37.474477, 42.709427, 1.0], [37.476686, 41.939048, 1.0], [37.477305, 40.486657, 1.0], [37.477368, 40.486736, 1.0], [37.477907, 41.610437, 1.0], [37.478086, 40.487541, 1.0], [37.481646, 43.116171, 1.0], [37.482628, 43.116848, 1.0], [37.494236, 42.531223, 1.0], [37.502887, 39.11395, 1.0], [37.50968, 44.585199, 1.0], [37.514976, 42.458445, 1.0], [37.517549, 42.451647, 1.0], [37.518974, 42.453714, 1.0], [37.521784, 42.455209, 1.0], [37.522653, 42.452637, 3.0], [37.524148, 42.454371, 1.0], [37.527589, 42.455756, 1.0], [37.533928, 40.887089, 1.0], [37.536415, 40.887521, 1.0], [37.541288, 40.548766, 1.0], [37.546026, 41.720324, 3.0], [37.546184, 41.720381, 2.0], [37.562515, 44.293677, 4.0], [37.566667, 44.283333, 2.0], [37.56837, 44.287501, 2.0], [37.569387, 43.161557, 1.0], [37.569554, 44.259161, 1.0], [37.569603, 43.165798, 1.0], [37.569647, 43.162261, 1.0], [37.570354, 44.282055, 2.0], [37.571653, 44.283964, 1.0], [37.571716, 44.282299, 3.0], [37.572424, 44.284264, 1.0], [37.572674, 44.282892, 1.0], [37.573583, 44.285809, 3.0], [37.574561, 43.752448, 1.0], [37.577039, 43.736096, 5.0], [37.577084, 43.737431, 1.0], [37.577427, 43.736782, 2.0], [37.583333, 43.733333, 2.0], [37.589444, 43.565833, 1.0], [37.653308, 43.182494, 1.0], [37.662446, 43.10823, 2.0], [37.714699, 44.603037, 1.0], [37.719912, 44.049962, 1.0], [37.724137, 40.413484, 2.0], [37.724184, 40.413603, 1.0], [37.745068, 27.290749, 1.0], [37.7504, 42.180026, 1.0], [37.750517, 42.179877, 1.0], [37.754104, 39.317716, 1.0], [37.809293, 40.359749, 1.0], [37.825009, 40.292953, 1.0], [37.837778, 40.235278, 1.0], [37.849694, 40.660986, 1.0], [37.849762, 40.668495, 1.0], [37.850224, 40.669994, 1.0], [37.8651, 43.5291, 1.0], [37.868056, 40.244167, 1.0], [37.869739, 40.242307, 1.0], [37.871045, 42.149452, 1.0], [37.880223, 42.623616, 1.0], [37.884617, 40.59416, 1.0], [37.885793, 41.130124, 1.0], [37.889517, 41.129283, 1.0], [37.896318, 42.507576, 1.0], [37.91033, 40.240219, 1.0], [37.910706, 40.225989, 1.0], [37.912504, 40.2391, 2.0], [37.917104, 40.230629, 1.0], [37.922218, 40.184376, 39.0], [37.924973, 40.210983, 3.0], [37.928348, 40.225487, 1.0], [37.935377, 40.185566, 2.0], [37.956251, 39.924165, 1.0], [37.985293, 44.045207, 1.0], [38.015743, 43.058949, 1.0], [38.016567, 43.059132, 1.0], [38.0476, 44.0149, 1.0], [38.0476, 44.015454, 1.0], [38.056042, 44.017248, 1.0], [38.059761, 40.388604, 8.0], [38.06219, 42.029423, 1.0], [38.064584, 40.381766, 7.0], [38.064766, 42.033468, 1.0], [38.078267, 40.443117, 1.0], [38.096772, 42.134388, 1.0], [38.106637, 40.54269, 1.0], [38.126597, 41.00556, 1.0], [38.135092, 39.456119, 1.0], [38.140796, 41.004625, 1.0], [38.141007, 41.009424, 1.0], [38.141225, 41.012807, 4.0], [38.141441, 41.294713, 1.0], [38.142658, 41.012292, 1.0], [38.142906, 41.007495, 1.0], [38.14524, 43.495006, 1.0], [38.146637, 41.005257, 1.0], [38.159069, 41.732154, 1.0], [38.194714, 41.48877, 1.0], [38.2066, 44.2712, 1.0], [38.209894, 43.563268, 1.0], [38.220222, 27.646235, 3.0], [38.225522, 42.428113, 1.0], [38.253757, 40.780811, 1.0], [38.259688, 42.498693, 1.0], [38.268035, 39.761729, 1.0], [38.280506, 40.514469, 1.0], [38.292876, 41.022436, 1.0], [38.295858, 43.109403, 1.0], [38.296171, 43.107687, 1.0], [38.320982, 43.3897, 1.0], [38.324368, 26.303357, 1.0], [38.324672, 43.409105, 1.0], [38.329022, 27.288885, 1.0], [38.333679, 41.419873, 1.0], [38.333766, 41.420293, 1.0], [38.33424, 27.291203, 1.0], [38.353182, 38.32083, 1.0], [38.367179, 40.077246, 1.0], [38.367942, 43.718279, 1.0], [38.374489, 40.072937, 1.0], [38.374892, 40.075389, 1.0], [38.385354, 42.635719, 1.0], [38.385479, 27.174709, 2.0], [38.388477, 27.17293, 1.0], [38.395649, 27.135641, 8.0], [38.400403, 42.109195, 1.0], [38.400569, 42.109502, 4.0], [38.411175, 40.396162, 1.0], [38.411648, 40.39598, 1.0], [38.414259, 40.39266, 1.0], [38.420904, 43.249189, 1.0], [38.422632, 43.244997, 1.0], [38.423117, 43.241897, 1.0], [38.425622, 40.671172, 1.0], [38.426625, 40.670188, 4.0], [38.427335, 27.420722, 1.0], [38.444379, 40.840362, 1.0], [38.45, 40.65, 1.0], [38.453188, 40.652057, 4.0], [38.453699, 40.651315, 1.0], [38.455659, 40.647401, 1.0], [38.456957, 40.645886, 1.0], [38.457284, 40.652105, 1.0], [38.457543, 40.647071, 1.0], [38.458431, 40.648369, 1.0], [38.461126, 40.401273, 1.0], [38.461736, 27.250953, 1.0], [38.461835, 39.861713, 1.0], [38.462655, 27.244096, 1.0], [38.471146, 27.217818, 1.0], [38.472356, 43.404122, 1.0], [38.478577, 27.139976, 1.0], [38.48914, 43.40889, 1.0], [38.490835, 42.293147, 1.0], [38.490844, 42.29493, 1.0], [38.491659, 43.375882, 1.0], [38.495311, 39.20834, 1.0], [38.497881, 41.011091, 1.0], [38.49928, 43.373208, 2.0], [38.49983, 43.37655, 1.0], [38.500222, 43.371102, 1.0], [38.500718, 43.375591, 1.0], [38.500718, 43.375724, 1.0], [38.501209, 43.372979, 2.0], [38.501261, 43.375537, 1.0], [38.501549, 43.380512, 2.0], [38.501998, 42.281276, 3.0], [38.502988, 43.375183, 1.0], [38.503224, 44.308009, 1.0], [38.503349, 39.220019, 1.0], [38.503639, 43.395029, 1.0], [38.504136, 43.375265, 1.0], [38.504662, 43.375732, 1.0], [38.513095, 43.364735, 1.0], [38.516018, 44.238423, 1.0], [38.518103, 42.279839, 1.0], [38.555576, 41.172132, 1.0], [38.572472, 39.836228, 1.0], [38.576708, 42.020709, 1.0], [38.577164, 40.31471, 1.0], [38.601846, 42.10122, 1.0], [38.602734, 43.377666, 1.0], [38.623206, 40.536794, 1.0], [38.647452, 42.355497, 1.0], [38.652313, 42.420203, 1.0], [38.653375, 44.171486, 1.0], [38.653478, 44.1694, 2.0], [38.655192, 43.900716, 1.0], [38.656295, 41.229175, 1.0], [38.664422, 40.575612, 1.0], [38.666111, 40.808722, 1.0], [38.667597, 40.807501, 2.0], [38.670426, 26.756945, 2.0], [38.674816, 39.222515, 1.0], [38.681707, 40.685157, 1.0], [38.720489, 35.482597, 1.0], [38.722017, 36.39132, 1.0], [38.734561, 41.491038, 1.0], [38.736839, 41.49156, 1.0], [38.744954, 40.382582, 1.0], [38.748405, 40.553932, 1.0], [38.750384, 40.554192, 1.0], [38.831606, 41.322148, 1.0], [38.83349, 39.661779, 1.0], [38.858721, 40.589609, 1.0], [38.885464, 40.496625, 2.0], [38.888447, 40.501144, 4.0], [38.93624, 39.612274, 1.0], [38.944648, 41.770442, 1.0], [38.946189, 41.753893, 2.0], [38.966893, 39.960875, 1.0], [38.994542, 43.767263, 1.0], [39.002406, 40.601416, 1.0], [39.018605, 40.574546, 1.0], [39.029039, 43.359125, 1.0], [39.030402, 43.36192, 1.0], [39.062662, 40.780593, 2.0], [39.075645, 40.768967, 1.0], [39.093999, 42.267616, 1.0], [39.105825, 39.545517, 1.0], [39.10617, 39.548259, 1.0], [39.106709, 39.545246, 3.0], [39.108025, 39.21867, 1.0], [39.121403, 44.021133, 1.0], [39.130901, 41.482063, 1.0], [39.13688, 39.216978, 1.0], [39.141944, 43.913889, 1.0], [39.142, 43.914, 1.0], [39.153423, 39.563384, 1.0], [39.165522, 39.657665, 1.0], [39.173291, 41.455974, 1.0], [39.173794, 41.454878, 1.0], [39.174, 41.45619, 1.0], [39.179131, 39.828445, 1.0], [39.182783, 27.606033, 2.0], [39.185497, 39.82716, 1.0], [39.191602, 40.372379, 1.0], [39.233866, 40.916873, 1.0], [39.296617, 39.430111, 1.0], [39.297996, 41.014368, 1.0], [39.307355, 39.438778, 1.0], [39.308329, 40.34954, 1.0], [39.309931, 40.34977, 1.0], [39.310059, 40.349048, 1.0], [39.349569, 39.209312, 1.0], [39.35808, 39.214564, 1.0], [39.363724, 39.215531, 1.0], [39.389674, 44.389953, 1.0], [39.391389, 44.3875, 1.0], [39.41427, 44.377483, 1.0], [39.415638, 44.357624, 1.0], [39.486504, 39.895394, 1.0], [39.514818, 39.871939, 1.0], [39.540016, 43.677381, 1.0], [39.547074, 44.068778, 4.0], [39.547222, 44.083333, 1.0], [39.550266, 44.077301, 2.0], [39.563051, 44.01115, 2.0], [39.666531, 43.283176, 2.0], [39.672123, 44.05033, 1.0], [39.732142, 43.097105, 2.0], [39.744919, 39.744919, 1.0], [39.770854, 39.050085, 2.0], [39.798045, 42.675429, 1.0], [39.798509, 32.805613, 2.0], [39.799948, 42.6768, 1.0], [39.82326, 42.674986, 1.0], [39.839784, 33.508878, 1.0], [39.916839, 44.044637, 1.0], [39.92006, 44.043615, 1.0], [39.930771, 32.76754, 25.0], [40.140648, 43.119118, 1.0], [40.141942, 43.11954, 1.0], [40.183988, 29.061777, 1.0], [40.273829, 42.490832, 1.0], [40.333401, 42.590479, 2.0], [40.370761, 42.647372, 1.0], [40.616667, 43.1, 1.0], [40.651661, 35.903797, 1.0], [40.740084, 38.449636, 1.0], [40.766944, 29.916944, 1.0], [40.814221, 39.610662, 1.0], [40.871254, 43.458685, 1.0], [40.898307, 29.360361, 1.0], [40.917374, 38.392738, 1.0], [40.932624, 29.53358, 1.0], [40.986166, 37.879721, 1.0], [41.00527, 28.97696, 1.0], [41.0303, 29.1065, 1.0], [41.051806, 39.231571, 1.0], [41.106178, 28.689863, 110.0], [41.125489, 28.871312, 1.0], [41.22646, 28.64864, 1.0], [41.292758, 36.331211, 1.0]],\n",
       "                {\n",
       "  &quot;minOpacity&quot;: 0.5,\n",
       "  &quot;maxZoom&quot;: 18,\n",
       "  &quot;radius&quot;: 25,\n",
       "  &quot;blur&quot;: 15,\n",
       "}\n",
       "            );\n",
       "        \n",
       "    \n",
       "            heat_map_cb0eef345fac760c2c7879dc1508282e.addTo(map_3814be36b51f6f34a13140ebebac1c90);\n",
       "        \n",
       "    \n",
       "            tile_layer_f34527be3be25939c58b836e0b45a765.addTo(map_3814be36b51f6f34a13140ebebac1c90);\n",
       "        \n",
       "    \n",
       "            heat_map_cb0eef345fac760c2c7879dc1508282e.addTo(map_3814be36b51f6f34a13140ebebac1c90);\n",
       "        \n",
       "&lt;/script&gt;\n",
       "&lt;/html&gt;\" style=\"position:absolute;width:100%;height:100%;left:0;top:0;border:none !important;\" allowfullscreen webkitallowfullscreen mozallowfullscreen></iframe></div></div>"
      ],
      "text/plain": [
       "<folium.folium.Map at 0x1982bf41010>"
      ]
     },
     "execution_count": 15,
     "metadata": {},
     "output_type": "execute_result"
    }
   ],
   "source": [
    "my_map"
   ]
  },
  {
   "cell_type": "markdown",
   "id": "a2c0e04c-bc9c-4ca2-ba9a-aa3983c0ed92",
   "metadata": {},
   "source": [
    "<h1>Nationality Analysis on Philippines</h1>"
   ]
  },
  {
   "cell_type": "code",
   "execution_count": 16,
   "id": "8e53dddd-1f6e-4257-ac46-80bc85d244b5",
   "metadata": {},
   "outputs": [],
   "source": [
    "Philippines = df[df['country_txt'] == \"Philippines\"]"
   ]
  },
  {
   "cell_type": "code",
   "execution_count": 17,
   "id": "3ad83d9b-6503-4233-8614-65d6949b34ca",
   "metadata": {},
   "outputs": [
    {
     "data": {
      "text/plain": [
       "attacktype1_txt\n",
       "Bombing/Explosion                      2213\n",
       "Armed Assault                          2158\n",
       "Assassination                          1099\n",
       "Hostage Taking (Kidnapping)             602\n",
       "Facility/Infrastructure Attack          452\n",
       "Unknown                                 293\n",
       "Hostage Taking (Barricade Incident)      53\n",
       "Hijacking                                34\n",
       "Unarmed Assault                           4\n",
       "Name: count, dtype: int64"
      ]
     },
     "execution_count": 17,
     "metadata": {},
     "output_type": "execute_result"
    }
   ],
   "source": [
    "Philippines['attacktype1_txt'].value_counts()"
   ]
  },
  {
   "cell_type": "code",
   "execution_count": 18,
   "id": "5ebde783-7e50-40b5-9b99-dea4b37ab047",
   "metadata": {},
   "outputs": [],
   "source": [
    "Philippines2 = Philippines[Philippines['iyear'] > 2015]\n",
    "Philippines3 = Philippines[Philippines['attacktype1_txt'] == 'Armed Assault']"
   ]
  },
  {
   "cell_type": "code",
   "execution_count": 19,
   "id": "8ddb3ca7-882f-4c4a-8a4c-21e9bc2992ff",
   "metadata": {},
   "outputs": [],
   "source": [
    "final_Philippines = Philippines3.groupby(['latitude', 'longitude']).size().reset_index(name = 'incident_count')"
   ]
  },
  {
   "cell_type": "code",
   "execution_count": 20,
   "id": "a9588c52-e4e1-4e5a-a50b-2c486301a6e5",
   "metadata": {},
   "outputs": [],
   "source": [
    "heatmap_data = final_Philippines[['latitude', 'longitude', 'incident_count']].values.tolist()"
   ]
  },
  {
   "cell_type": "code",
   "execution_count": 21,
   "id": "9f081d9f-39aa-40e9-acb9-8350b276b73b",
   "metadata": {},
   "outputs": [],
   "source": [
    "my_mapPhilippines = folium.Map(location = [30,40], zoom_start = 4)"
   ]
  },
  {
   "cell_type": "code",
   "execution_count": 22,
   "id": "8dc33c77-6159-4a01-b098-b02ed618f62b",
   "metadata": {},
   "outputs": [
    {
     "data": {
      "text/plain": [
       "<folium.plugins.heat_map.HeatMap at 0x1982e6de490>"
      ]
     },
     "execution_count": 22,
     "metadata": {},
     "output_type": "execute_result"
    }
   ],
   "source": [
    "HeatMap(heatmap_data).add_to(my_mapPhilippines)"
   ]
  },
  {
   "cell_type": "code",
   "execution_count": 23,
   "id": "bb608497-63a2-478b-9e64-26ed5daf2e9c",
   "metadata": {},
   "outputs": [
    {
     "name": "stdout",
     "output_type": "stream",
     "text": [
      "data save to Armed Assault.html\n"
     ]
    }
   ],
   "source": [
    "my_mapPhilippines.save('Armed Assault.html')\n",
    "print(\"data save to Armed Assault.html\")"
   ]
  },
  {
   "cell_type": "code",
   "execution_count": 24,
   "id": "e07a96a9-f8bc-4e85-9b04-ee8c3ca17938",
   "metadata": {},
   "outputs": [
    {
     "data": {
      "text/html": [
       "<div style=\"width:100%;\"><div style=\"position:relative;width:100%;height:0;padding-bottom:60%;\"><span style=\"color:#565656\">Make this Notebook Trusted to load map: File -> Trust Notebook</span><iframe srcdoc=\"&lt;!DOCTYPE html&gt;\n",
       "&lt;html&gt;\n",
       "&lt;head&gt;\n",
       "    \n",
       "    &lt;meta http-equiv=&quot;content-type&quot; content=&quot;text/html; charset=UTF-8&quot; /&gt;\n",
       "    \n",
       "        &lt;script&gt;\n",
       "            L_NO_TOUCH = false;\n",
       "            L_DISABLE_3D = false;\n",
       "        &lt;/script&gt;\n",
       "    \n",
       "    &lt;style&gt;html, body {width: 100%;height: 100%;margin: 0;padding: 0;}&lt;/style&gt;\n",
       "    &lt;style&gt;#map {position:absolute;top:0;bottom:0;right:0;left:0;}&lt;/style&gt;\n",
       "    &lt;script src=&quot;https://cdn.jsdelivr.net/npm/leaflet@1.9.3/dist/leaflet.js&quot;&gt;&lt;/script&gt;\n",
       "    &lt;script src=&quot;https://code.jquery.com/jquery-3.7.1.min.js&quot;&gt;&lt;/script&gt;\n",
       "    &lt;script src=&quot;https://cdn.jsdelivr.net/npm/bootstrap@5.2.2/dist/js/bootstrap.bundle.min.js&quot;&gt;&lt;/script&gt;\n",
       "    &lt;script src=&quot;https://cdnjs.cloudflare.com/ajax/libs/Leaflet.awesome-markers/2.0.2/leaflet.awesome-markers.js&quot;&gt;&lt;/script&gt;\n",
       "    &lt;link rel=&quot;stylesheet&quot; href=&quot;https://cdn.jsdelivr.net/npm/leaflet@1.9.3/dist/leaflet.css&quot;/&gt;\n",
       "    &lt;link rel=&quot;stylesheet&quot; href=&quot;https://cdn.jsdelivr.net/npm/bootstrap@5.2.2/dist/css/bootstrap.min.css&quot;/&gt;\n",
       "    &lt;link rel=&quot;stylesheet&quot; href=&quot;https://netdna.bootstrapcdn.com/bootstrap/3.0.0/css/bootstrap-glyphicons.css&quot;/&gt;\n",
       "    &lt;link rel=&quot;stylesheet&quot; href=&quot;https://cdn.jsdelivr.net/npm/@fortawesome/fontawesome-free@6.2.0/css/all.min.css&quot;/&gt;\n",
       "    &lt;link rel=&quot;stylesheet&quot; href=&quot;https://cdnjs.cloudflare.com/ajax/libs/Leaflet.awesome-markers/2.0.2/leaflet.awesome-markers.css&quot;/&gt;\n",
       "    &lt;link rel=&quot;stylesheet&quot; href=&quot;https://cdn.jsdelivr.net/gh/python-visualization/folium/folium/templates/leaflet.awesome.rotate.min.css&quot;/&gt;\n",
       "    \n",
       "            &lt;meta name=&quot;viewport&quot; content=&quot;width=device-width,\n",
       "                initial-scale=1.0, maximum-scale=1.0, user-scalable=no&quot; /&gt;\n",
       "            &lt;style&gt;\n",
       "                #map_006db7faae293582f926705323bf5e2a {\n",
       "                    position: relative;\n",
       "                    width: 100.0%;\n",
       "                    height: 100.0%;\n",
       "                    left: 0.0%;\n",
       "                    top: 0.0%;\n",
       "                }\n",
       "                .leaflet-container { font-size: 1rem; }\n",
       "            &lt;/style&gt;\n",
       "        \n",
       "    &lt;script src=&quot;https://cdn.jsdelivr.net/gh/python-visualization/folium@main/folium/templates/leaflet_heat.min.js&quot;&gt;&lt;/script&gt;\n",
       "&lt;/head&gt;\n",
       "&lt;body&gt;\n",
       "    \n",
       "    \n",
       "            &lt;div class=&quot;folium-map&quot; id=&quot;map_006db7faae293582f926705323bf5e2a&quot; &gt;&lt;/div&gt;\n",
       "        \n",
       "&lt;/body&gt;\n",
       "&lt;script&gt;\n",
       "    \n",
       "    \n",
       "            var map_006db7faae293582f926705323bf5e2a = L.map(\n",
       "                &quot;map_006db7faae293582f926705323bf5e2a&quot;,\n",
       "                {\n",
       "                    center: [30.0, 40.0],\n",
       "                    crs: L.CRS.EPSG3857,\n",
       "                    ...{\n",
       "  &quot;zoom&quot;: 4,\n",
       "  &quot;zoomControl&quot;: true,\n",
       "  &quot;preferCanvas&quot;: false,\n",
       "}\n",
       "\n",
       "                }\n",
       "            );\n",
       "\n",
       "            \n",
       "\n",
       "        \n",
       "    \n",
       "            var tile_layer_ed658777ab82494ae20c6ddac2a1c1a3 = L.tileLayer(\n",
       "                &quot;https://tile.openstreetmap.org/{z}/{x}/{y}.png&quot;,\n",
       "                {\n",
       "  &quot;minZoom&quot;: 0,\n",
       "  &quot;maxZoom&quot;: 19,\n",
       "  &quot;maxNativeZoom&quot;: 19,\n",
       "  &quot;noWrap&quot;: false,\n",
       "  &quot;attribution&quot;: &quot;\\u0026copy; \\u003ca href=\\&quot;https://www.openstreetmap.org/copyright\\&quot;\\u003eOpenStreetMap\\u003c/a\\u003e contributors&quot;,\n",
       "  &quot;subdomains&quot;: &quot;abc&quot;,\n",
       "  &quot;detectRetina&quot;: false,\n",
       "  &quot;tms&quot;: false,\n",
       "  &quot;opacity&quot;: 1,\n",
       "}\n",
       "\n",
       "            );\n",
       "        \n",
       "    \n",
       "            tile_layer_ed658777ab82494ae20c6ddac2a1c1a3.addTo(map_006db7faae293582f926705323bf5e2a);\n",
       "        \n",
       "    \n",
       "            var heat_map_fe718ce4d6cbc01fceeb0c541f0f85aa = L.heatLayer(\n",
       "                [[5.269061, 120.079876, 2.0], [5.546116, 120.818433, 2.0], [5.77602, 125.354517, 1.0], [5.822439, 125.203366, 1.0], [5.885282, 124.849465, 1.0], [5.904939, 125.567551, 1.0], [5.912487, 120.906376, 1.0], [5.913349, 120.907287, 1.0], [5.917619, 125.646401, 1.0], [5.917951, 125.647755, 1.0], [5.927787, 121.028412, 1.0], [5.933025, 121.100058, 1.0], [5.933101, 121.025107, 1.0], [5.965263, 120.983076, 1.0], [5.966542, 125.285565, 1.0], [5.968027, 121.035239, 1.0], [5.97314, 120.950344, 1.0], [5.973409, 120.969826, 1.0], [5.9735, 120.9698, 2.0], [5.974901, 121.03351, 1.0], [5.975142, 121.114526, 1.0], [5.975499, 121.144835, 1.0], [5.977477, 121.115016, 1.0], [5.980768, 121.215723, 1.0], [5.983339, 121.173449, 1.0], [5.986263, 121.041354, 1.0], [6.004444, 121.388611, 1.0], [6.005255, 121.308525, 1.0], [6.02326, 121.091117, 1.0], [6.027457, 121.046, 1.0], [6.030845, 121.046407, 1.0], [6.030861, 121.010221, 1.0], [6.034726, 124.605189, 1.0], [6.05, 124.916667, 1.0], [6.050458, 121.012245, 11.0], [6.052979, 121.002479, 1.0], [6.053166, 121.042788, 1.0], [6.054022, 120.999705, 2.0], [6.05519, 121.001323, 5.0], [6.060563, 124.495675, 1.0], [6.063022, 121.102294, 1.0], [6.063023, 121.102294, 1.0], [6.064029, 121.159058, 2.0], [6.066398, 121.099947, 1.0], [6.066531, 121.100068, 1.0], [6.066797, 121.09839, 1.0], [6.068085, 121.059917, 1.0], [6.068398, 121.099529, 1.0], [6.068588, 121.034669, 1.0], [6.072413, 121.784209, 1.0], [6.077377, 121.082137, 1.0], [6.08525, 125.272616, 1.0], [6.088059, 121.099223, 1.0], [6.088221, 121.109329, 5.0], [6.089515, 121.105521, 1.0], [6.089647, 121.10537, 1.0], [6.103948, 125.291403, 1.0], [6.11622, 125.169395, 6.0], [6.117505, 124.462395, 1.0], [6.125349, 125.07131, 1.0], [6.154806, 125.29006, 1.0], [6.185032, 125.346625, 1.0], [6.2, 124.7333, 1.0], [6.213233, 124.697909, 1.0], [6.216519, 124.20007, 1.0], [6.218717, 124.823228, 1.0], [6.228593, 125.065201, 1.0], [6.300549, 125.586062, 1.0], [6.309924, 120.565896, 1.0], [6.312904, 125.551787, 1.0], [6.314022, 125.295122, 1.0], [6.333312, 124.950048, 1.0], [6.333333, 124.95, 1.0], [6.334767, 124.953153, 3.0], [6.335757, 124.774079, 1.0], [6.378722, 125.573044, 1.0], [6.413029, 125.420269, 2.0], [6.417717, 125.423121, 1.0], [6.41871, 121.972443, 7.0], [6.424257, 125.4248, 1.0], [6.440039, 122.080475, 1.0], [6.440693, 121.958729, 1.0], [6.441898, 121.963071, 1.0], [6.443793, 124.927748, 1.0], [6.448534, 121.968092, 1.0], [6.451931, 121.947789, 1.0], [6.453157, 125.038749, 1.0], [6.453607, 124.039766, 1.0], [6.455771, 124.981569, 1.0], [6.459349, 124.321754, 1.0], [6.465728, 124.335947, 1.0], [6.473055, 125.007076, 1.0], [6.47313, 125.007456, 1.0], [6.478327, 122.068188, 1.0], [6.482905, 122.015549, 1.0], [6.483333, 125.066667, 1.0], [6.483545, 125.066665, 2.0], [6.484444, 122.140556, 1.0], [6.487222, 121.978333, 3.0], [6.489581, 122.069922, 1.0], [6.489666, 125.086816, 1.0], [6.491515, 122.141717, 1.0], [6.4951, 121.978397, 1.0], [6.495387, 122.068013, 1.0], [6.497216, 122.105141, 2.0], [6.497656, 124.849655, 2.0], [6.500721, 124.84887, 1.0], [6.501935, 122.123761, 1.0], [6.50694, 124.419824, 1.0], [6.508416, 124.855245, 1.0], [6.509646, 124.108599, 1.0], [6.516151, 121.910015, 2.0], [6.51944, 125.04444, 1.0], [6.5225, 122.19194, 1.0], [6.524553, 122.011764, 1.0], [6.532281, 121.998024, 1.0], [6.533565, 122.083748, 1.0], [6.533878, 122.167001, 1.0], [6.534351, 122.083873, 1.0], [6.537162, 122.163252, 2.0], [6.537222, 122.008611, 1.0], [6.538583, 121.880355, 1.0], [6.538692, 124.567288, 1.0], [6.540328, 121.881716, 1.0], [6.545399, 121.873756, 1.0], [6.546997, 121.880423, 1.0], [6.549955, 121.883153, 1.0], [6.550086, 122.106468, 1.0], [6.550444, 122.106467, 2.0], [6.550446, 122.106467, 1.0], [6.550538, 122.115988, 1.0], [6.553544, 124.051706, 1.0], [6.553941, 122.154736, 1.0], [6.556389, 122.186389, 1.0], [6.556828, 121.883449, 1.0], [6.581675, 122.179507, 1.0], [6.583669, 124.98903, 1.0], [6.599405, 121.904057, 2.0], [6.600566, 124.849749, 1.0], [6.601844, 121.906967, 1.0], [6.615473, 125.217184, 1.0], [6.616667, 125.216667, 1.0], [6.62734, 125.235645, 1.0], [6.629781, 126.077557, 1.0], [6.633477, 124.600515, 2.0], [6.633826, 124.067887, 1.0], [6.642188, 122.135695, 1.0], [6.644421, 122.273133, 3.0], [6.645308, 122.10184, 1.0], [6.645556, 122.101944, 5.0], [6.64982, 122.133453, 1.0], [6.65197, 121.963683, 1.0], [6.652801, 121.925547, 1.0], [6.656667, 121.966667, 1.0], [6.660501, 122.138992, 5.0], [6.665631, 121.983547, 1.0], [6.672538, 121.851487, 1.0], [6.680243, 125.257566, 1.0], [6.681959, 121.985477, 4.0], [6.686417, 124.693267, 1.0], [6.690401, 122.136519, 1.0], [6.694056, 124.661564, 1.0], [6.69651, 122.078771, 1.0], [6.7, 124.78333, 1.0], [6.7001, 124.73288, 1.0], [6.700414, 121.972557, 9.0], [6.702104, 124.741539, 1.0], [6.702776, 124.683416, 1.0], [6.703352, 121.968689, 1.0], [6.705778, 121.972109, 2.0], [6.706409, 121.970784, 1.0], [6.719995, 124.795165, 1.0], [6.723, 124.519997, 1.0], [6.724792, 124.723148, 1.0], [6.74806, 125.345666, 1.0], [6.748065, 125.262741, 2.0], [6.750046, 125.35626, 3.0], [6.75235, 125.351378, 1.0], [6.754633, 125.353094, 1.0], [6.757509, 125.352398, 1.0], [6.767153, 125.183237, 1.0], [6.767168, 125.182716, 1.0], [6.767451, 124.389997, 1.0], [6.771603, 125.355757, 1.0], [6.778447, 124.476339, 1.0], [6.784057, 125.217967, 1.0], [6.785833, 124.964722, 1.0], [6.786284, 125.212718, 2.0], [6.792552, 124.683752, 2.0], [6.796989, 124.702591, 1.0], [6.802292, 124.677007, 1.0], [6.804105, 124.634045, 1.0], [6.805967, 124.530684, 1.0], [6.813381, 124.413498, 1.0], [6.813901, 124.947252, 1.0], [6.82306, 124.62222, 1.0], [6.825492, 124.753969, 1.0], [6.828261, 124.884285, 1.0], [6.828688, 124.8773, 1.0], [6.828821, 124.893574, 2.0], [6.829826, 124.876845, 1.0], [6.830651, 124.877383, 1.0], [6.831221, 124.50716, 1.0], [6.831623, 124.883498, 1.0], [6.831959, 124.878863, 1.0], [6.832955, 124.884192, 1.0], [6.832987, 124.458858, 1.0], [6.833612, 124.456934, 1.0], [6.85243, 124.39858, 1.0], [6.85308, 124.397636, 1.0], [6.854844, 124.144303, 1.0], [6.854873, 124.144303, 1.0], [6.854959, 124.143995, 1.0], [6.862806, 124.443649, 8.0], [6.862833, 124.445136, 5.0], [6.866804, 124.466689, 1.0], [6.867985, 124.476389, 1.0], [6.868645, 124.441079, 2.0], [6.876083, 124.478043, 1.0], [6.882128, 124.500791, 1.0], [6.8877, 124.49574, 1.0], [6.892857, 124.6218, 1.0], [6.895545, 126.013997, 1.0], [6.89638, 126.010585, 1.0], [6.898558, 124.476696, 1.0], [6.899544, 124.896226, 1.0], [6.905182, 124.446115, 1.0], [6.908198, 124.549209, 1.0], [6.910664, 124.483509, 1.0], [6.910833, 124.550833, 1.0], [6.912223, 124.453097, 2.0], [6.915043, 125.156799, 1.0], [6.915517, 124.458557, 1.0], [6.918611, 124.451944, 1.0], [6.920833, 124.453333, 2.0], [6.921009, 124.550281, 1.0], [6.9235, 124.512213, 1.0], [6.923761, 125.190422, 1.0], [6.924377, 124.466085, 1.0], [6.925951, 124.41541, 1.0], [6.926251, 124.414984, 1.0], [6.926258, 124.415014, 1.0], [6.926896, 124.415746, 1.0], [6.927408, 124.498084, 1.0], [6.928043, 124.506165, 1.0], [6.929089, 122.07885, 14.0], [6.929306, 124.455527, 1.0], [6.930363, 124.501736, 1.0], [6.93111, 124.505, 1.0], [6.931459, 124.455658, 1.0], [6.933333, 124.333333, 1.0], [6.934777, 124.424028, 1.0], [6.935, 124.373056, 1.0], [6.935331, 124.405274, 1.0], [6.93569, 124.427242, 1.0], [6.935982, 124.450421, 1.0], [6.936604, 124.470583, 1.0], [6.936669, 124.425797, 2.0], [6.937129, 124.429512, 1.0], [6.937622, 124.43042, 1.0], [6.939993, 125.133485, 1.0], [6.941653, 126.058523, 1.0], [6.942258, 124.419823, 1.0], [6.942258, 124.419824, 9.0], [6.943763, 126.246748, 1.0], [6.943859, 124.419666, 3.0], [6.945065, 124.41887, 1.0], [6.945512, 124.406004, 1.0], [6.945555, 124.404073, 1.0], [6.946206, 124.878099, 1.0], [6.949318, 125.160178, 1.0], [6.94985, 124.427234, 1.0], [6.95, 125.05, 1.0], [6.950012, 124.883333, 1.0], [6.950278, 121.981389, 1.0], [6.950745, 125.09852, 1.0], [6.951779, 125.097475, 1.0], [6.952762, 124.448538, 1.0], [6.952775, 125.096241, 1.0], [6.952799, 126.221104, 2.0], [6.95288, 124.385927, 1.0], [6.954823, 125.093991, 1.0], [6.956781, 124.445956, 1.0], [6.957127, 124.474408, 1.0], [6.957244, 124.444612, 1.0], [6.960019, 124.361388, 1.0], [6.96212, 125.475492, 1.0], [6.965833, 124.348056, 1.0], [6.966054, 124.348177, 1.0], [6.966198, 124.498103, 1.0], [6.966983, 124.444409, 1.0], [6.969241, 124.75207, 1.0], [6.969337, 122.248777, 1.0], [6.976311, 124.386043, 1.0], [6.978049, 124.424422, 1.0], [6.978356, 124.48324, 1.0], [6.978437, 125.420377, 1.0], [6.980493, 124.383001, 1.0], [6.980848, 124.482925, 1.0], [6.982138, 124.368282, 2.0], [6.984251, 124.452176, 1.0], [6.986272, 124.445894, 1.0], [6.989019, 125.321966, 1.0], [6.994835, 124.454996, 1.0], [6.996481, 124.463562, 1.0], [6.996567, 124.705334, 1.0], [6.996749, 124.458611, 1.0], [6.997222, 124.583889, 1.0], [6.998059, 124.458639, 1.0], [6.999754, 124.471625, 1.0], [7.003271, 124.453097, 1.0], [7.004425, 124.577129, 1.0], [7.009571, 124.488464, 1.0], [7.010241, 125.092208, 1.0], [7.010856, 125.089923, 2.0], [7.012979, 125.098343, 1.0], [7.013493, 124.468822, 1.0], [7.01461, 125.990824, 1.0], [7.015484, 124.50523, 1.0], [7.017022, 124.893526, 1.0], [7.017736, 124.545629, 1.0], [7.017805, 124.497441, 2.0], [7.017999, 124.500099, 3.0], [7.018008, 124.493965, 1.0], [7.018174, 124.562562, 1.0], [7.018486, 124.473881, 1.0], [7.020898, 125.091469, 6.0], [7.02449, 122.189302, 1.0], [7.024942, 124.498444, 3.0], [7.025226, 124.894579, 1.0], [7.025482, 124.562781, 1.0], [7.02556, 124.315, 1.0], [7.026532, 122.188904, 1.0], [7.030248, 124.715122, 1.0], [7.036882, 126.099999, 1.0], [7.037414, 125.722009, 1.0], [7.038127, 124.488622, 1.0], [7.043889, 124.500833, 1.0], [7.044589, 124.469979, 1.0], [7.05, 124.67, 1.0], [7.054, 124.671997, 2.0], [7.054, 124.672, 3.0], [7.054216, 124.673096, 1.0], [7.054776, 124.676036, 1.0], [7.054867, 124.67262, 1.0], [7.054995, 124.672274, 1.0], [7.055286, 124.673972, 1.0], [7.055568, 124.671887, 1.0], [7.056056, 124.697846, 1.0], [7.056318, 124.680812, 1.0], [7.059023, 124.503084, 1.0], [7.059926, 124.509575, 1.0], [7.062095, 124.968796, 1.0], [7.062429, 124.510817, 1.0], [7.065119, 124.519043, 1.0], [7.065261, 124.961053, 1.0], [7.067619, 124.737647, 1.0], [7.069538, 122.207161, 1.0], [7.075335, 124.574201, 1.0], [7.075816, 124.849573, 1.0], [7.079003, 124.886312, 2.0], [7.08083, 124.56639, 1.0], [7.080833, 126.202946, 1.0], [7.082431, 125.624401, 1.0], [7.083241, 125.600998, 26.0], [7.083333, 124.9, 1.0], [7.086205, 124.899047, 1.0], [7.086243, 125.932717, 1.0], [7.087719, 124.900522, 1.0], [7.090009, 124.92002, 1.0], [7.090853, 124.657999, 1.0], [7.093063, 124.224102, 1.0], [7.099262, 122.237204, 1.0], [7.1, 124.766667, 1.0], [7.100113, 125.117035, 1.0], [7.100287, 125.125998, 1.0], [7.104429, 125.126675, 1.0], [7.104604, 125.412635, 1.0], [7.104687, 125.124449, 1.0], [7.106, 126.176643, 1.0], [7.106881, 124.829812, 1.0], [7.107355, 124.827773, 1.0], [7.107481, 125.123356, 1.0], [7.1075, 125.9095, 1.0], [7.108335, 125.038816, 1.0], [7.108643, 124.826303, 1.0], [7.109088, 125.48529, 1.0], [7.110633, 124.825607, 1.0], [7.111828, 124.824596, 1.0], [7.114018, 125.932122, 1.0], [7.114136, 124.233883, 1.0], [7.114167, 125.045278, 1.0], [7.116167, 124.234647, 1.0], [7.116667, 124.383333, 1.0], [7.116667, 124.816667, 1.0], [7.116668, 125.116667, 1.0], [7.117876, 124.38499, 1.0], [7.118334, 124.817434, 1.0], [7.119097, 124.597462, 1.0], [7.121334, 124.594231, 1.0], [7.124623, 124.396595, 1.0], [7.125031, 125.625952, 1.0], [7.125393, 125.619439, 1.0], [7.125629, 125.963396, 1.0], [7.1295, 124.563172, 1.0], [7.130275, 125.948967, 1.0], [7.131649, 124.524919, 1.0], [7.132235, 124.813499, 1.0], [7.133768, 125.948811, 1.0], [7.134066, 125.894222, 1.0], [7.134753, 125.893916, 2.0], [7.137387, 125.893873, 1.0], [7.139815, 124.553118, 1.0], [7.149184, 125.945636, 1.0], [7.149403, 125.376114, 1.0], [7.1525, 124.923637, 1.0], [7.152682, 125.054177, 1.0], [7.153227, 124.498696, 1.0], [7.15389, 124.27139, 1.0], [7.154816, 125.453954, 1.0], [7.155758, 125.054344, 1.0], [7.159092, 124.576538, 2.0], [7.160606, 125.09423, 1.0], [7.16202, 124.832426, 1.0], [7.163122, 125.574229, 1.0], [7.165741, 124.517508, 1.0], [7.169182, 125.893045, 1.0], [7.170699, 125.400308, 1.0], [7.178492, 124.219625, 1.0], [7.18109, 124.21273, 2.0], [7.185168, 125.516468, 1.0], [7.18599, 125.54937, 1.0], [7.186399, 124.496541, 1.0], [7.188107, 124.185708, 1.0], [7.188889, 124.183889, 1.0], [7.188889, 124.189389, 1.0], [7.188938, 124.630337, 2.0], [7.18929, 124.631554, 1.0], [7.190952, 125.461578, 5.0], [7.191667, 124.533333, 2.0], [7.192233, 124.533888, 1.0], [7.196172, 124.535708, 1.0], [7.199509, 124.796982, 10.0], [7.209594, 124.241966, 21.0], [7.213886, 125.117251, 1.0], [7.215265, 124.668725, 1.0], [7.21611, 124.248135, 1.0], [7.216207, 126.013254, 1.0], [7.233333, 124.25, 1.0], [7.234865, 125.456246, 1.0], [7.234974, 125.45628, 1.0], [7.23706, 124.695394, 1.0], [7.237076, 122.254793, 1.0], [7.238969, 125.142004, 1.0], [7.242166, 124.31981, 1.0], [7.242311, 124.412419, 1.0], [7.242361, 124.51887, 1.0], [7.244821, 125.159197, 1.0], [7.245085, 124.390393, 1.0], [7.246699, 125.383535, 1.0], [7.250403, 125.055797, 1.0], [7.254915, 126.156516, 1.0], [7.254917, 126.154399, 1.0], [7.257228, 126.156092, 1.0], [7.261581, 126.466013, 1.0], [7.270079, 124.238884, 1.0], [7.271248, 124.480119, 1.0], [7.27413, 124.259182, 1.0], [7.27733, 125.489147, 1.0], [7.279201, 124.426993, 1.0], [7.281952, 125.857755, 1.0], [7.282129, 125.857401, 2.0], [7.2823, 124.46388, 1.0], [7.283512, 125.859656, 1.0], [7.283611, 125.993889, 1.0], [7.287739, 122.072082, 1.0], [7.288356, 125.110374, 1.0], [7.288472, 124.269943, 1.0], [7.288572, 124.232076, 1.0], [7.288771, 124.269832, 2.0], [7.289499, 124.258849, 1.0], [7.291386, 122.064633, 1.0], [7.294492, 124.265504, 1.0], [7.295544, 126.000108, 1.0], [7.296944, 124.028056, 1.0], [7.297769, 124.260221, 1.0], [7.301009, 124.683706, 1.0], [7.301408, 122.258091, 1.0], [7.302962, 122.066131, 1.0], [7.30796, 125.683451, 1.0], [7.309839, 125.683963, 1.0], [7.310695, 124.780982, 1.0], [7.313689, 125.480694, 1.0], [7.318034, 125.6773, 1.0], [7.321781, 125.462678, 1.0], [7.323202, 125.0574, 2.0], [7.332321, 124.565053, 2.0], [7.332382, 124.567276, 2.0], [7.333046, 124.566959, 1.0], [7.333211, 124.56839, 1.0], [7.333482, 125.625189, 1.0], [7.333566, 124.316776, 1.0], [7.335014, 126.096139, 1.0], [7.335841, 125.167236, 1.0], [7.339388, 125.1106, 1.0], [7.344444, 125.574167, 1.0], [7.345892, 125.53295, 1.0], [7.34876, 125.088955, 1.0], [7.349438, 125.468659, 1.0], [7.351838, 125.467237, 2.0], [7.352189, 126.15454, 1.0], [7.353467, 125.147793, 1.0], [7.353603, 125.124847, 1.0], [7.358751, 125.871174, 1.0], [7.364962, 125.853401, 1.0], [7.369717, 125.495898, 1.0], [7.37, 125.953889, 1.0], [7.370974, 125.036121, 1.0], [7.371111, 122.288611, 1.0], [7.371303, 122.288987, 1.0], [7.371695, 122.289104, 1.0], [7.37339, 124.951905, 1.0], [7.374294, 124.266625, 1.0], [7.384258, 124.84497, 1.0], [7.404661, 126.057973, 1.0], [7.411944, 126.008889, 1.0], [7.416346, 126.00097, 1.0], [7.42784, 122.80969, 1.0], [7.443109, 125.143407, 1.0], [7.447973, 125.810009, 5.0], [7.448093, 125.459536, 1.0], [7.449316, 125.805371, 1.0], [7.450833, 123.313529, 1.0], [7.451959, 125.807589, 1.0], [7.452627, 122.328205, 1.0], [7.46374, 122.691051, 1.0], [7.464961, 124.187111, 1.0], [7.465034, 125.779625, 1.0], [7.466367, 124.258823, 1.0], [7.467845, 124.259956, 1.0], [7.46916, 124.259215, 1.0], [7.485713, 125.044323, 1.0], [7.48722, 124.29917, 2.0], [7.491, 124.724, 1.0], [7.492389, 124.724974, 1.0], [7.49255, 124.725614, 1.0], [7.492933, 124.724999, 1.0], [7.494722, 126.101078, 1.0], [7.5, 125.933333, 2.0], [7.501135, 122.348805, 1.0], [7.508549, 122.371604, 3.0], [7.51008, 124.371416, 1.0], [7.510518, 124.371347, 1.0], [7.51237, 122.362581, 2.0], [7.512515, 126.176262, 1.0], [7.512998, 125.931549, 1.0], [7.514827, 124.371049, 1.0], [7.514969, 124.372309, 1.0], [7.515731, 123.172442, 1.0], [7.51611, 124.25639, 2.0], [7.519438, 125.237089, 1.0], [7.52247, 122.288745, 1.0], [7.529957, 123.365951, 1.0], [7.53, 124.11, 1.0], [7.531931, 124.120164, 1.0], [7.53223, 123.374498, 1.0], [7.543444, 126.221477, 1.0], [7.548571, 126.137057, 1.0], [7.558632, 124.680233, 1.0], [7.558684, 122.408186, 1.0], [7.56885, 124.985708, 1.0], [7.571322, 123.180131, 1.0], [7.574132, 126.560107, 1.0], [7.574934, 122.145858, 1.0], [7.58495, 125.027643, 1.0], [7.586326, 122.140766, 1.0], [7.5866, 125.8237, 1.0], [7.587697, 125.822682, 1.0], [7.592439, 122.154825, 1.0], [7.6, 125.966667, 1.0], [7.601144, 122.428098, 1.0], [7.601194, 125.966781, 2.0], [7.602895, 125.966166, 1.0], [7.602987, 125.96642, 2.0], [7.603284, 125.96934, 1.0], [7.608056, 124.883056, 1.0], [7.608812, 122.4079, 1.0], [7.615086, 123.33845, 1.0], [7.616944, 125.884167, 1.0], [7.624903, 122.127887, 1.0], [7.633333, 125.016667, 1.0], [7.637138, 123.303773, 1.0], [7.638382, 125.009946, 1.0], [7.638945, 123.394452, 1.0], [7.638963, 123.394482, 1.0], [7.640024, 125.008438, 1.0], [7.642085, 125.629359, 1.0], [7.648541, 125.617272, 1.0], [7.65, 125.616669, 1.0], [7.654444, 122.473889, 1.0], [7.656709, 123.462709, 1.0], [7.658946, 125.587669, 1.0], [7.661141, 125.55897, 1.0], [7.668926, 125.713201, 1.0], [7.670266, 125.38367, 1.0], [7.675606, 124.867847, 1.0], [7.682231, 125.43889, 1.0], [7.685, 122.543056, 1.0], [7.686803, 123.942946, 1.0], [7.686849, 124.732571, 1.0], [7.687185, 126.190054, 1.0], [7.694013, 125.989145, 1.0], [7.696292, 123.41283, 1.0], [7.704608, 125.988292, 1.0], [7.708474, 122.140274, 1.0], [7.719538, 126.05605, 1.0], [7.72046, 123.006254, 1.0], [7.720472, 123.263289, 1.0], [7.729694, 125.099019, 1.0], [7.730071, 125.099395, 1.0], [7.731239, 125.992616, 1.0], [7.731359, 125.102887, 1.0], [7.733333, 123.066667, 1.0], [7.734803, 125.512622, 2.0], [7.734925, 123.323692, 1.0], [7.734964, 123.342124, 1.0], [7.742853, 124.70475, 1.0], [7.744567, 126.397443, 1.0], [7.751209, 123.148704, 1.0], [7.755217, 124.253274, 1.0], [7.766389, 123.275833, 1.0], [7.772775, 123.272096, 1.0], [7.778349, 125.640828, 1.0], [7.793, 124.192, 1.0], [7.799354, 122.756503, 1.0], [7.799757, 122.586738, 1.0], [7.80063, 123.139057, 1.0], [7.801863, 123.140817, 1.0], [7.803985, 122.6223, 1.0], [7.806848, 122.700934, 1.0], [7.806878, 122.701145, 1.0], [7.817506, 123.283548, 1.0], [7.81936, 125.792864, 1.0], [7.819451, 122.817335, 1.0], [7.820747, 124.326546, 1.0], [7.821437, 126.051514, 1.0], [7.821667, 125.390278, 1.0], [7.822238, 123.230397, 1.0], [7.822408, 123.391038, 1.0], [7.823071, 126.055367, 2.0], [7.825203, 123.437378, 9.0], [7.828461, 123.436612, 2.0], [7.833333, 125.816667, 1.0], [7.83385, 125.817084, 1.0], [7.836243, 124.830833, 1.0], [7.836667, 123.373056, 1.0], [7.839723, 123.503795, 1.0], [7.842032, 125.992996, 2.0], [7.844059, 123.461189, 1.0], [7.849859, 124.339668, 1.0], [7.849948, 123.432727, 1.0], [7.852238, 123.260136, 1.0], [7.85297, 123.574822, 1.0], [7.853618, 124.342574, 1.0], [7.85402, 124.119002, 1.0], [7.857551, 123.234228, 1.0], [7.860251, 124.130054, 1.0], [7.86374, 123.514438, 1.0], [7.866111, 123.034444, 1.0], [7.868191, 124.334943, 1.0], [7.869039, 126.374112, 1.0], [7.872181, 123.885775, 1.0], [7.873661, 126.342487, 1.0], [7.885051, 124.166209, 1.0], [7.887379, 124.388887, 1.0], [7.888144, 124.173392, 2.0], [7.893834, 125.358831, 1.0], [7.904543, 123.84223, 1.0], [7.91, 123.396944, 1.0], [7.910734, 124.197423, 1.0], [7.917764, 124.199804, 1.0], [7.921048, 123.449564, 1.0], [7.921958, 125.746148, 1.0], [7.92211, 125.846823, 1.0], [7.926149, 126.077785, 1.0], [7.94989, 124.233141, 1.0], [7.950052, 124.232804, 1.0], [7.956111, 123.283611, 1.0], [7.970034, 124.374432, 1.0], [7.984128, 125.012826, 1.0], [7.984209, 122.408223, 1.0], [7.998755, 124.292085, 1.0], [7.999676, 124.299806, 1.0], [7.999799, 124.300068, 1.0], [7.999904, 125.000243, 1.0], [8.000088, 124.292555, 1.0], [8.000721, 124.293111, 1.0], [8.001027, 124.291958, 1.0], [8.001171, 124.284462, 1.0], [8.001327, 124.290291, 1.0], [8.001676, 124.299898, 1.0], [8.002304, 124.291896, 3.0], [8.002366, 124.291779, 2.0], [8.002581, 124.292973, 1.0], [8.002882, 124.286359, 1.0], [8.003105, 124.289666, 1.0], [8.003485, 124.294995, 1.0], [8.004016, 124.287184, 1.0], [8.004021, 124.288434, 2.0], [8.004674, 124.2913, 2.0], [8.00493, 124.287561, 1.0], [8.019781, 124.789918, 1.0], [8.020031, 124.056593, 1.0], [8.034153, 124.915111, 1.0], [8.035083, 125.849808, 1.0], [8.040928, 122.983363, 1.0], [8.044898, 126.061471, 1.0], [8.050528, 125.872222, 1.0], [8.052686, 125.731745, 1.0], [8.057028, 123.791362, 1.0], [8.065973, 124.260404, 1.0], [8.066667, 123.75, 1.0], [8.067144, 125.891313, 1.0], [8.06729, 125.893414, 1.0], [8.068792, 125.488951, 1.0], [8.070107, 123.412342, 1.0], [8.072572, 125.95542, 1.0], [8.07595, 124.251438, 1.0], [8.086114, 123.888289, 1.0], [8.098851, 122.918687, 1.0], [8.09998, 126.366641, 1.0], [8.10833, 124.22889, 1.0], [8.111787, 125.128183, 1.0], [8.112765, 123.895483, 2.0], [8.113273, 125.607828, 2.0], [8.113786, 123.897734, 1.0], [8.123469, 123.053577, 1.0], [8.123819, 123.434066, 1.0], [8.130604, 125.127654, 1.0], [8.130926, 125.12709, 1.0], [8.132887, 123.101174, 1.0], [8.140556, 124.853333, 1.0], [8.147402, 125.021736, 1.0], [8.151341, 124.25962, 1.0], [8.154547, 125.133301, 1.0], [8.15632, 123.346316, 1.0], [8.159272, 122.929573, 1.0], [8.161256, 123.958794, 2.0], [8.163357, 125.129957, 2.0], [8.166853, 125.999676, 1.0], [8.169768, 124.15985, 1.0], [8.182602, 124.114554, 1.0], [8.187272, 125.852816, 1.0], [8.190899, 124.087955, 1.0], [8.192226, 124.084918, 1.0], [8.209682, 124.23956, 1.0], [8.213136, 126.315939, 1.0], [8.217759, 126.314871, 1.0], [8.220924, 124.247191, 1.0], [8.225147, 123.429944, 1.0], [8.225311, 125.182447, 1.0], [8.227855, 124.337843, 1.0], [8.229316, 124.611832, 1.0], [8.239274, 124.456908, 1.0], [8.240043, 124.244766, 2.0], [8.258316, 123.60576, 1.0], [8.261139, 125.609547, 1.0], [8.266954, 123.101039, 1.0], [8.272934, 125.799743, 1.0], [8.280488, 126.255202, 1.0], [8.310013, 125.999741, 1.0], [8.312616, 126.003616, 1.0], [8.340676, 126.010043, 1.0], [8.34111, 124.25917, 1.0], [8.342063, 124.259395, 1.0], [8.383211, 124.698822, 1.0], [8.417402, 125.529355, 1.0], [8.421558, 124.502702, 1.0], [8.421877, 125.839596, 4.0], [8.447594, 124.645326, 1.0], [8.45, 126.166667, 1.0], [8.455393, 125.159241, 1.0], [8.458153, 126.157312, 1.0], [8.466397, 125.137879, 1.0], [8.474003, 126.118471, 1.0], [8.478, 125.744, 1.0], [8.478217, 125.745846, 1.0], [8.478533, 125.744797, 1.0], [8.482536, 124.647404, 1.0], [8.48333, 123.8, 1.0], [8.486747, 123.807434, 1.0], [8.53528, 126.12139, 1.0], [8.540491, 126.114476, 1.0], [8.544784, 125.444062, 1.0], [8.565139, 125.522394, 1.0], [8.573098, 123.345604, 1.0], [8.578892, 125.897509, 1.0], [8.581552, 123.344275, 2.0], [8.582888, 125.899696, 1.0], [8.584974, 123.342845, 3.0], [8.586613, 123.340899, 1.0], [8.587025, 123.342026, 1.0], [8.588406, 123.33978, 1.0], [8.589609, 123.404769, 1.0], [8.591197, 125.886192, 1.0], [8.598901, 125.917096, 1.0], [8.618699, 125.492421, 1.0], [8.632983, 126.094322, 1.0], [8.633052, 126.095835, 1.0], [8.633418, 126.094467, 1.0], [8.633831, 126.094476, 1.0], [8.649767, 123.419008, 1.0], [8.67694, 125.64694, 1.0], [8.677388, 117.341767, 1.0], [8.715891, 125.751038, 2.0], [8.744462, 124.781605, 1.0], [8.744872, 124.782494, 1.0], [8.745044, 124.776818, 1.0], [8.777671, 125.569341, 1.0], [8.777752, 125.569716, 1.0], [8.777991, 125.569465, 1.0], [8.783365, 124.820655, 1.0], [8.793432, 125.579464, 1.0], [8.8, 124.783333, 2.0], [8.801867, 126.30035, 1.0], [8.802795, 124.797429, 1.0], [8.816027, 125.70002, 1.0], [8.816667, 125.7, 1.0], [8.818475, 125.69826, 1.0], [8.822198, 125.100987, 1.0], [8.822983, 125.699921, 1.0], [8.823231, 125.694214, 1.0], [8.823889, 124.805, 1.0], [8.827214, 125.100586, 1.0], [8.827689, 125.099855, 1.0], [8.834771, 117.878516, 1.0], [8.850162, 124.836494, 1.0], [8.857933, 125.731428, 1.0], [8.865817, 125.55835, 1.0], [8.869808, 125.42743, 1.0], [8.879722, 125.341111, 1.0], [8.880206, 124.868101, 1.0], [8.883274, 126.000161, 1.0], [8.884054, 126.001038, 1.0], [8.895, 125.775278, 1.0], [8.914457, 124.784563, 1.0], [8.91861, 126.30111, 1.0], [8.919581, 124.783746, 1.0], [8.929135, 125.398729, 1.0], [8.93887, 125.247812, 1.0], [8.939052, 125.247994, 1.0], [8.946017, 125.540396, 1.0], [8.946774, 125.54125, 1.0], [8.947538, 125.540623, 3.0], [8.948247, 125.541107, 3.0], [8.948336, 125.54269, 1.0], [8.9487, 125.539282, 1.0], [8.949207, 125.539325, 1.0], [8.961028, 125.759476, 1.0], [8.96667, 126.26667, 1.0], [8.972236, 125.408678, 1.0], [8.972516, 125.351846, 1.0], [8.990476, 125.295138, 1.0], [9.000299, 124.88091, 1.0], [9.000313, 125.269224, 1.0], [9.004195, 125.647026, 1.0], [9.004444, 125.645278, 1.0], [9.02025, 126.23322, 1.0], [9.021072, 125.686072, 1.0], [9.05, 125.9, 1.0], [9.053611, 125.586667, 1.0], [9.062643, 125.211945, 1.0], [9.064333, 125.667296, 1.0], [9.073155, 125.89024, 1.0], [9.077235, 126.197832, 1.0], [9.163372, 117.825916, 1.0], [9.209105, 126.176575, 1.0], [9.228554, 126.016603, 1.0], [9.228859, 126.016544, 1.0], [9.230375, 125.565639, 1.0], [9.232036, 125.975095, 1.0], [9.234649, 126.167054, 1.0], [9.241662, 125.631419, 1.0], [9.267399, 118.404231, 1.0], [9.282823, 125.942188, 1.0], [9.307081, 123.30521, 2.0], [9.307278, 123.308201, 1.0], [9.316689, 125.556297, 1.0], [9.329405, 125.971421, 1.0], [9.342032, 125.515895, 1.0], [9.344678, 122.924243, 1.0], [9.422818, 125.677489, 1.0], [9.445284, 125.584089, 1.0], [9.448709, 125.57143, 3.0], [9.449891, 122.853576, 1.0], [9.452212, 125.574816, 1.0], [9.452928, 125.574473, 1.0], [9.455622, 125.574249, 1.0], [9.469599, 125.5972, 1.0], [9.470269, 123.204934, 1.0], [9.515858, 123.157792, 1.0], [9.524783, 123.305678, 1.0], [9.546316, 122.519442, 1.0], [9.5725, 125.73306, 1.0], [9.5882, 125.6537, 2.0], [9.591546, 123.121182, 1.0], [9.595312, 125.698534, 1.0], [9.608011, 125.638885, 1.0], [9.617466, 125.40209, 1.0], [9.649723, 123.857008, 1.0], [9.680242, 125.503993, 1.0], [9.6864, 123.0122, 1.0], [9.71623, 125.504322, 1.0], [9.717225, 125.47665, 1.0], [9.733738, 122.928037, 1.0], [9.737313, 118.734398, 1.0], [9.75192, 122.490336, 1.0], [9.77026, 122.467818, 1.0], [9.78472, 125.489693, 1.0], [9.801285, 123.794438, 1.0], [9.826864, 122.642296, 1.0], [9.834949, 118.738362, 1.0], [9.860086, 124.007877, 1.0], [9.883333, 123.6, 1.0], [9.899154, 123.840475, 1.0], [9.899322, 124.282239, 1.0], [9.942985, 122.58252, 1.0], [9.942986, 122.58252, 1.0], [9.963276, 124.211676, 1.0], [9.971008, 122.624128, 1.0], [9.971311, 122.623506, 1.0], [9.979697, 122.482514, 1.0], [10.026105, 123.230825, 1.0], [10.028978, 122.847903, 1.0], [10.030048, 123.231727, 1.0], [10.033708, 123.219223, 1.0], [10.076885, 124.447058, 1.0], [10.080622, 122.884023, 1.0], [10.089791, 122.868499, 1.0], [10.090127, 122.868547, 1.0], [10.090245, 122.868323, 1.0], [10.116667, 123.26667, 1.0], [10.116899, 123.267249, 1.0], [10.118769, 123.2704, 1.0], [10.119626, 123.270972, 1.0], [10.119955, 123.272218, 1.0], [10.120328, 123.271863, 1.0], [10.120571, 123.272642, 1.0], [10.13832, 123.247024, 1.0], [10.1675, 123.040833, 1.0], [10.185557, 123.11749, 1.0], [10.18668, 123.131017, 1.0], [10.190674, 122.852482, 1.0], [10.199695, 122.866307, 1.0], [10.202233, 122.987772, 1.0], [10.206949, 122.944672, 1.0], [10.220368, 123.185752, 1.0], [10.239637, 123.261226, 1.0], [10.246463, 119.214643, 1.0], [10.24875, 123.842083, 1.0], [10.257972, 123.848826, 1.0], [10.2813, 123.1429, 1.0], [10.294671, 123.899858, 1.0], [10.295334, 123.87825, 5.0], [10.295953, 125.050021, 1.0], [10.299222, 123.114941, 1.0], [10.306418, 119.255836, 1.0], [10.31232, 123.951422, 1.0], [10.3125, 123.0252, 1.0], [10.319474, 123.019802, 1.0], [10.323132, 124.034902, 1.0], [10.338213, 123.942398, 1.0], [10.366356, 123.17902, 1.0], [10.36674, 123.1, 1.0], [10.38, 123.2, 1.0], [10.388039, 123.220664, 1.0], [10.392308, 123.662925, 1.0], [10.412469, 123.225753, 1.0], [10.520803, 122.801878, 1.0], [10.53333, 122.83333, 1.0], [10.55056, 123.23639, 1.0], [10.562839, 119.302007, 1.0], [10.580451, 122.065048, 1.0], [10.595497, 122.110036, 1.0], [10.631532, 124.951606, 1.0], [10.646989, 122.595525, 1.0], [10.649982, 122.233303, 1.0], [10.66925, 122.949054, 1.0], [10.686589, 122.511157, 2.0], [10.694875, 122.542728, 1.0], [10.69649, 122.564451, 2.0], [10.69885, 123.349, 1.0], [10.714321, 123.516045, 1.0], [10.715796, 122.266237, 1.0], [10.716471, 123.516044, 1.0], [10.716627, 123.51653, 1.0], [10.716667, 122.266667, 1.0], [10.722177, 122.268599, 1.0], [10.723333, 123.510632, 1.0], [10.72703, 123.826289, 1.0], [10.727466, 122.557525, 1.0], [10.728829, 123.82764, 2.0], [10.73291, 122.53176, 1.0], [10.747932, 122.103989, 1.0], [10.751114, 122.223519, 1.0], [10.756452, 123.089593, 1.0], [10.76228, 123.369251, 1.0], [10.780315, 122.387872, 1.0], [10.780442, 122.383039, 1.0], [10.783333, 122.3, 1.0], [10.7836, 122.300054, 1.0], [10.788004, 122.233983, 1.0], [10.799732, 122.976272, 1.0], [10.801934, 123.488506, 1.0], [10.820629, 123.557071, 1.0], [10.824449, 122.267812, 1.0], [10.840176, 123.499873, 1.0], [10.840278, 123.499167, 1.0], [10.84309, 123.499671, 1.0], [10.89234, 123.353798, 1.0], [10.916619, 124.699994, 1.0], [10.92993, 122.387862, 1.0], [10.935539, 123.421971, 1.0], [10.950626, 123.336393, 1.0], [10.95684, 123.308547, 1.0], [10.974698, 124.893489, 1.0], [11.016887, 124.600609, 1.0], [11.042822, 124.61751, 1.0], [11.100556, 124.685833, 1.0], [11.119894, 122.570625, 1.0], [11.122297, 122.51087, 1.0], [11.134689, 122.500626, 1.0], [11.14579, 122.514644, 1.0], [11.150919, 122.651762, 1.0], [11.166562, 123.017078, 1.0], [11.187278, 124.782207, 1.0], [11.188, 124.782, 1.0], [11.214282, 125.002141, 1.0], [11.216977, 122.434284, 1.0], [11.227, 122.925, 1.0], [11.242199, 122.695547, 1.0], [11.245132, 125.000279, 1.0], [11.248282, 124.99458, 1.0], [11.261504, 122.536964, 1.0], [11.261925, 122.538903, 1.0], [11.263506, 122.53376, 1.0], [11.26477, 125.535923, 1.0], [11.264832, 123.714728, 1.0], [11.266046, 122.683063, 1.0], [11.266667, 122.533333, 2.0], [11.282051, 125.069369, 1.0], [11.3, 124.68, 1.0], [11.390865, 122.648119, 1.0], [11.433122, 122.106467, 1.0], [11.43327, 122.597702, 1.0], [11.447249, 124.428682, 1.0], [11.447279, 125.491158, 1.0], [11.448985, 122.77756, 1.0], [11.471417, 123.088256, 1.0], [11.501347, 123.023357, 1.0], [11.50681, 122.794325, 1.0], [11.528889, 123.109444, 1.0], [11.561161, 124.394396, 1.0], [11.583412, 122.752139, 1.0], [11.594645, 124.574937, 1.0], [11.607991, 125.43285, 2.0], [11.613123, 124.986496, 1.0], [11.833624, 122.083797, 1.0], [11.846274, 125.126754, 2.0], [11.85022, 125.11531, 1.0], [11.882344, 124.046159, 1.0], [11.884444, 123.881389, 1.0], [11.900089, 124.033088, 1.0], [11.935426, 123.951802, 1.0], [11.939668, 125.023589, 1.0], [11.979516, 124.825369, 1.0], [11.980769, 124.824215, 1.0], [12.004208, 123.998959, 1.0], [12.012346, 123.887593, 1.0], [12.023278, 125.03354, 1.0], [12.025238, 123.278449, 1.0], [12.029167, 123.942778, 1.0], [12.029528, 124.812417, 1.0], [12.03279, 123.68289, 1.0], [12.035627, 123.246346, 1.0], [12.038, 125.481, 1.0], [12.040721, 123.775566, 1.0], [12.05, 125.067, 1.0], [12.067318, 124.595898, 1.0], [12.068103, 123.722371, 1.0], [12.1, 125.166667, 1.0], [12.102778, 123.941389, 1.0], [12.1165, 123.883321, 1.0], [12.116667, 123.883333, 1.0], [12.1406, 125.4397, 1.0], [12.143935, 124.893136, 1.0], [12.14432, 124.885109, 1.0], [12.154889, 124.886672, 1.0], [12.159882, 124.865646, 1.0], [12.170076, 123.36171, 1.0], [12.175646, 123.730202, 1.0], [12.179017, 123.874841, 1.0], [12.183333, 123.866669, 1.0], [12.193629, 123.788345, 1.0], [12.21814, 123.50951, 3.0], [12.23686, 124.37529, 2.0], [12.256057, 123.742061, 1.0], [12.267, 125.371, 2.0], [12.290946, 123.703737, 1.0], [12.29156, 124.616358, 1.0], [12.292754, 125.13779, 1.0], [12.3, 124.83333, 1.0], [12.30004, 124.833415, 1.0], [12.315098, 123.424616, 1.0], [12.327349, 125.153096, 1.0], [12.339263, 125.031507, 1.0], [12.339499, 125.033855, 1.0], [12.34, 125.032005, 1.0], [12.348722, 121.065795, 1.0], [12.352465, 125.019541, 1.0], [12.357435, 123.550408, 1.0], [12.367627, 123.621646, 1.0], [12.367922, 123.620761, 1.0], [12.382934, 125.29949, 1.0], [12.396116, 123.588644, 2.0], [12.401442, 121.327466, 1.0], [12.407778, 123.405833, 1.0], [12.408876, 125.052883, 1.0], [12.409557, 125.054484, 1.0], [12.41667, 124.61667, 1.0], [12.454722, 123.771389, 1.0], [12.458056, 125.045556, 1.0], [12.462716, 124.64334, 1.0], [12.466744, 124.647889, 1.0], [12.480833, 124.422222, 1.0], [12.481643, 123.487862, 1.0], [12.484005, 123.382507, 1.0], [12.49646, 123.717095, 1.0], [12.506405, 123.380874, 1.0], [12.510833, 123.3975, 1.0], [12.511444, 123.397648, 1.0], [12.51599, 123.666215, 1.0], [12.517106, 124.752246, 1.0], [12.53232, 125.120518, 1.0], [12.535607, 125.129215, 1.0], [12.539776, 123.665371, 1.0], [12.540585, 123.638902, 1.0], [12.566123, 123.730269, 1.0], [12.566641, 123.733356, 1.0], [12.5677, 123.7337, 1.0], [12.583333, 124.083333, 1.0], [12.588993, 124.069382, 1.0], [12.589877, 124.09236, 1.0], [12.60775, 124.057775, 1.0], [12.608056, 123.606667, 1.0], [12.615547, 124.05756, 1.0], [12.622839, 123.668206, 1.0], [12.627043, 124.069382, 1.0], [12.63597, 123.659062, 1.0], [12.637598, 121.440857, 1.0], [12.637797, 123.685452, 1.0], [12.664751, 123.887642, 1.0], [12.666227, 123.876248, 1.0], [12.666918, 123.876024, 1.0], [12.67139, 123.875, 1.0], [12.681875, 123.888588, 1.0], [12.702727, 124.034119, 1.0], [12.703025, 124.032991, 1.0], [12.715326, 124.056716, 1.0], [12.750193, 124.13716, 1.0], [12.750256, 124.136099, 1.0], [12.750697, 123.926582, 1.0], [12.759986, 123.930399, 1.0], [12.776606, 123.952547, 1.0], [12.785296, 123.861547, 1.0], [12.833054, 123.839743, 1.0], [12.833855, 124.146046, 1.0], [12.834209, 124.104303, 1.0], [12.850547, 124.071311, 1.0], [12.862616, 124.142576, 1.0], [12.86674, 124.016722, 1.0], [12.867368, 124.143448, 2.0], [12.869112, 124.142276, 1.0], [12.872289, 124.009018, 1.0], [12.874015, 124.009082, 1.0], [12.874442, 124.010727, 1.0], [12.901781, 123.246284, 1.0], [12.903, 123.247, 1.0], [12.903506, 123.245997, 1.0], [12.910538, 124.042478, 1.0], [12.91182, 123.602699, 1.0], [12.915211, 123.629903, 1.0], [12.91851, 124.120324, 1.0], [12.919579, 124.123607, 1.0], [12.920064, 124.123, 1.0], [12.920182, 124.122775, 3.0], [12.920444, 124.122866, 1.0], [12.923379, 123.675023, 1.0], [12.933598, 123.683153, 1.0], [12.934551, 123.781102, 1.0], [12.950056, 123.880422, 1.0], [12.951401, 123.880837, 1.0], [12.970187, 124.004177, 1.0], [12.974122, 123.989566, 1.0], [12.980138, 123.650937, 1.0], [12.990552, 124.010798, 10.0], [13.013408, 120.761778, 1.0], [13.014076, 124.071008, 1.0], [13.029954, 123.665146, 1.0], [13.033117, 123.449759, 1.0], [13.033224, 123.642734, 1.0], [13.034587, 122.988681, 1.0], [13.035417, 123.447825, 1.0], [13.037584, 124.122482, 1.0], [13.040437, 124.042512, 1.0], [13.041355, 124.194025, 1.0], [13.046774, 123.687589, 1.0], [13.058242, 124.015178, 1.0], [13.058511, 124.014776, 1.0], [13.067108, 123.695149, 1.0], [13.071, 123.598, 1.0], [13.076936, 123.701406, 1.0], [13.102427, 123.700122, 1.0], [13.105475, 123.698382, 1.0], [13.107071, 123.768533, 1.0], [13.108465, 123.566352, 1.0], [13.111536, 123.676382, 1.0], [13.125264, 122.984521, 1.0], [13.132009, 123.89089, 1.0], [13.139062, 123.7438, 1.0], [13.144459, 121.440609, 1.0], [13.146993, 123.754556, 1.0], [13.147154, 123.748632, 1.0], [13.14953, 123.712601, 1.0], [13.161795, 123.69399, 1.0], [13.161956, 123.693955, 2.0], [13.165868, 123.638614, 1.0], [13.170204, 123.527633, 1.0], [13.173328, 121.277093, 2.0], [13.177483, 123.528007, 1.0], [13.18385, 123.413771, 1.0], [13.189, 123.599, 1.0], [13.190662, 123.598439, 1.0], [13.196728, 123.592163, 1.0], [13.20547, 123.582193, 1.0], [13.215948, 123.516667, 1.0], [13.21738, 123.51655, 1.0], [13.220899, 120.599179, 1.0], [13.227022, 123.596058, 1.0], [13.240874, 123.537612, 3.0], [13.251747, 123.571169, 1.0], [13.268326, 120.621182, 1.0], [13.291837, 123.491577, 1.0], [13.301, 123.438, 1.0], [13.329722, 122.53, 1.0], [13.358975, 123.291464, 1.0], [13.371, 123.4202, 1.0], [13.373712, 123.240692, 1.0], [13.409486, 121.176028, 1.0], [13.413213, 121.175236, 1.0], [13.417375, 120.470731, 1.0], [13.420537, 123.418047, 1.0], [13.489285, 123.618496, 1.0], [13.509638, 123.043699, 1.0], [13.515076, 123.049149, 1.0], [13.518961, 123.049852, 1.0], [13.521982, 122.405953, 1.0], [13.529941, 123.45445, 1.0], [13.571118, 123.186766, 1.0], [13.580829, 123.44216, 1.0], [13.584489, 124.211161, 1.0], [13.5926, 122.3215, 1.0], [13.594771, 122.878054, 1.0], [13.626208, 123.198491, 1.0], [13.629346, 124.301548, 1.0], [13.654084, 123.167483, 1.0], [13.65625, 122.985452, 1.0], [13.663063, 123.318058, 1.0], [13.670775, 123.008377, 1.0], [13.673167, 121.397073, 1.0], [13.677829, 122.932497, 1.0], [13.693382, 123.059132, 1.0], [13.69346, 123.061736, 1.0], [13.693546, 123.060366, 2.0], [13.6978, 123.4892, 1.0], [13.698027, 123.48998, 1.0], [13.7, 123.066666, 1.0], [13.700002, 123.066383, 1.0], [13.708611, 124.361944, 1.0], [13.71262, 123.212485, 1.0], [13.726178, 123.117581, 1.0], [13.733903, 123.521401, 1.0], [13.735085, 123.416094, 1.0], [13.736638, 123.869033, 1.0], [13.742011, 122.491765, 1.0], [13.747556, 122.456188, 1.0], [13.757368, 121.043512, 1.0], [13.7576, 121.058325, 1.0], [13.762966, 122.963632, 1.0], [13.7707, 123.8631, 1.0], [13.781568, 121.005253, 1.0], [13.781879, 121.068611, 1.0], [13.786537, 121.0278, 1.0], [13.791947, 121.007495, 1.0], [13.795153, 122.251963, 1.0], [13.807022, 122.910116, 1.0], [13.807211, 121.042647, 1.0], [13.816872, 122.783772, 1.0], [13.81816, 121.133391, 1.0], [13.818918, 122.791649, 1.0], [13.819335, 124.175444, 1.0], [13.821384, 122.792685, 1.0], [13.823889, 124.194167, 1.0], [13.827547, 124.267638, 1.0], [13.831945, 122.878003, 1.0], [13.831948, 122.298891, 1.0], [13.832023, 122.877813, 2.0], [13.841945, 121.164999, 1.0], [13.849081, 120.990672, 1.0], [13.876619, 121.104947, 1.0], [13.878069, 122.662987, 1.0], [13.893994, 120.907266, 1.0], [13.895964, 120.929059, 1.0], [13.917247, 122.688482, 1.0], [13.917682, 121.082236, 1.0], [13.91913, 121.605908, 1.0], [13.920492, 122.100999, 1.0], [13.92167, 122.595829, 1.0], [13.922197, 122.595477, 2.0], [13.923505, 122.596847, 1.0], [13.927986, 121.424675, 1.0], [13.931052, 121.617683, 1.0], [13.931667, 120.823889, 1.0], [13.932812, 120.933446, 1.0], [13.934268, 121.426903, 1.0], [13.93585, 121.951654, 1.0], [13.938569, 121.612011, 1.0], [13.938805, 121.620829, 4.0], [13.940875, 121.160339, 1.0], [13.941876, 121.16442, 1.0], [13.943898, 120.881303, 1.0], [13.948936, 121.134464, 2.0], [13.962909, 121.526711, 1.0], [13.964917, 121.526156, 2.0], [13.9664, 122.5383, 1.0], [13.968324, 121.10434, 1.0], [13.968784, 120.793169, 1.0], [13.970441, 120.795359, 1.0], [13.971381, 121.686889, 1.0], [13.971401, 121.083827, 1.0], [13.978595, 121.087967, 1.0], [13.980519, 121.96262, 1.0], [13.983335, 121.791523, 1.0], [14.01344, 122.522142, 1.0], [14.018624, 120.728946, 1.0], [14.031391, 122.113091, 1.0], [14.033845, 124.151688, 1.0], [14.035219, 121.325442, 1.0], [14.046328, 121.874954, 1.0], [14.064211, 121.323337, 1.0], [14.064285, 121.327505, 1.0], [14.064876, 121.123603, 1.0], [14.066109, 122.964542, 1.0], [14.066123, 122.963889, 1.0], [14.070873, 120.633322, 1.0], [14.071155, 120.761948, 1.0], [14.07357, 120.635002, 1.0], [14.07463, 121.324524, 1.0], [14.078639, 122.963676, 1.0], [14.083779, 121.069898, 1.0], [14.092487, 121.02462, 1.0], [14.094652, 121.036403, 1.0], [14.098286, 120.941706, 1.0], [14.114121, 121.554863, 1.0], [14.152848, 122.672946, 1.0], [14.153689, 120.609202, 1.0], [14.15551, 121.566027, 1.0], [14.16014, 122.829903, 1.0], [14.163709, 120.629633, 1.0], [14.179627, 121.121545, 1.0], [14.184076, 122.701195, 1.0], [14.196162, 121.124554, 1.0], [14.216667, 121.75, 1.0], [14.219264, 120.977473, 2.0], [14.239926, 121.137486, 1.0], [14.265138, 121.445472, 1.0], [14.273975, 122.597398, 1.0], [14.275742, 122.643585, 1.0], [14.276771, 122.705349, 2.0], [14.278025, 120.867591, 1.0], [14.278332, 121.124742, 1.0], [14.282421, 122.794776, 1.0], [14.285594, 122.469369, 1.0], [14.297493, 121.498002, 1.0], [14.298889, 122.650278, 1.0], [14.29937, 120.957359, 1.0], [14.301147, 121.111935, 1.0], [14.3083, 121.106758, 1.0], [14.3124, 122.7192, 1.0], [14.316306, 121.083523, 1.0], [14.33007, 121.076779, 1.0], [14.330389, 122.493885, 2.0], [14.34251, 121.576957, 1.0], [14.34479, 121.08238, 1.0], [14.346111, 120.980556, 1.0], [14.346627, 121.05041, 1.0], [14.349671, 121.061366, 1.0], [14.386447, 121.478155, 1.0], [14.407962, 120.849076, 1.0], [14.429899, 120.936606, 1.0], [14.448977, 120.950519, 1.0], [14.460945, 120.965867, 1.0], [14.473766, 120.60273, 1.0], [14.476902, 120.597181, 1.0], [14.49833, 121.287083, 1.0], [14.514697, 121.066055, 1.0], [14.530948, 121.004257, 3.0], [14.549431, 121.033592, 6.0], [14.5559, 120.589431, 1.0], [14.558857, 121.134937, 1.0], [14.58251, 121.084236, 2.0], [14.584232, 121.03904, 3.0], [14.585414, 121.207789, 1.0], [14.586325, 121.128569, 1.0], [14.596051, 120.978666, 33.0], [14.599352, 120.984772, 9.0], [14.602955, 121.033813, 1.0], [14.616869, 120.567613, 1.0], [14.624406, 121.116598, 1.0], [14.626186, 121.125073, 2.0], [14.634451, 121.124485, 1.0], [14.663473, 120.943977, 1.0], [14.672042, 120.957726, 2.0], [14.67428, 121.057495, 10.0], [14.680798, 120.540428, 1.0], [14.724493, 121.03331, 3.0], [14.733546, 120.960947, 1.0], [14.740025, 121.149719, 2.0], [14.749886, 120.973929, 1.0], [14.782931, 120.926157, 1.0], [14.800875, 120.536954, 1.0], [14.810284, 121.047709, 1.0], [14.812377, 121.046346, 1.0], [14.831529, 120.787805, 1.0], [14.83834, 120.285139, 2.0], [14.838794, 120.285018, 3.0], [14.853023, 120.817043, 1.0], [14.87394, 120.79533, 1.0], [14.879998, 120.708386, 1.0], [14.9, 120.716667, 1.0], [14.910937, 121.049495, 1.0], [14.915333, 120.765872, 1.0], [14.956971, 120.926613, 1.0], [14.975632, 121.068392, 1.0], [14.998681, 120.652371, 1.0], [15.000822, 121.176401, 1.0], [15.06349, 120.725752, 1.0], [15.126774, 120.658121, 1.0], [15.13799, 120.370473, 1.0], [15.149722, 120.769828, 1.0], [15.153002, 120.591942, 6.0], [15.185916, 120.54187, 2.0], [15.2151, 120.6596, 1.0], [15.221386, 121.408239, 1.0], [15.242713, 120.888271, 1.0], [15.28, 120.02, 1.0], [15.296107, 120.965538, 1.0], [15.3047, 120.0417, 1.0], [15.32016, 120.83574, 1.0], [15.35045, 120.976716, 1.0], [15.369943, 120.962162, 1.0], [15.40347, 120.60084, 1.0], [15.436275, 121.046086, 1.0], [15.45662, 119.957276, 1.0], [15.476183, 120.960686, 6.0], [15.478598, 120.599741, 1.0], [15.487553, 120.823427, 1.0], [15.543534, 121.085281, 2.0], [15.544809, 120.763556, 1.0], [15.548184, 120.764867, 1.0], [15.594984, 119.952367, 1.0], [15.60212, 120.908126, 1.0], [15.602634, 121.051438, 1.0], [15.648598, 120.779557, 1.0], [15.658991, 121.222136, 1.0], [15.710002, 119.952729, 1.0], [15.75936, 121.563335, 1.0], [15.774301, 120.439158, 1.0], [15.781416, 120.664528, 1.0], [15.800767, 120.412716, 1.0], [15.807151, 121.000686, 1.0], [15.814056, 120.320635, 1.0], [15.815098, 120.339908, 1.0], [15.892278, 120.593024, 1.0], [15.92001, 120.415197, 1.0], [15.934444, 120.3725, 1.0], [15.984035, 121.045297, 1.0], [15.984434, 120.813475, 1.0], [16.030344, 120.229921, 3.0], [16.0325, 120.153056, 1.0], [16.034761, 120.95895, 1.0], [16.0433, 120.333312, 1.0], [16.044137, 120.339032, 1.0], [16.049006, 120.352198, 1.0], [16.0503, 120.5926, 1.0], [16.063522, 121.147886, 1.0], [16.109591, 120.028956, 1.0], [16.116214, 119.800036, 1.0], [16.227832, 122.064291, 1.0], [16.31764, 121.294795, 1.0], [16.325, 120.368611, 1.0], [16.35, 120.416667, 1.0], [16.35, 121.7, 1.0], [16.368395, 121.355567, 1.0], [16.41639, 120.59306, 2.0], [16.451727, 120.5752, 1.0], [16.485635, 121.152656, 2.0], [16.533027, 120.398035, 1.0], [16.557191, 121.705837, 1.0], [16.582011, 121.787498, 1.0], [16.637222, 120.445556, 1.0], [16.663036, 121.056387, 1.0], [16.670038, 121.71723, 1.0], [16.6715, 121.5318, 1.0], [16.674007, 121.466297, 1.0], [16.686373, 121.548415, 1.0], [16.701617, 120.974655, 1.0], [16.710031, 120.347567, 1.0], [16.714502, 121.555002, 1.0], [16.715581, 121.553653, 1.0], [16.726386, 120.393512, 1.0], [16.751296, 122.028561, 1.0], [16.753657, 121.03983, 1.0], [16.77664, 121.08651, 1.0], [16.778958, 121.698267, 1.0], [16.780833, 122.024444, 1.0], [16.784167, 121.535, 2.0], [16.799036, 121.122622, 3.0], [16.878563, 122.129079, 1.0], [16.883475, 120.97472, 2.0], [16.983038, 120.855017, 1.0], [16.983333, 122.016667, 2.0], [16.983334, 122.01667, 1.0], [16.985834, 121.960378, 1.0], [16.990875, 120.73286, 1.0], [16.992113, 120.733804, 1.0], [16.9925, 120.734228, 1.0], [17.083333, 120.9, 1.0], [17.084296, 120.900532, 1.0], [17.084393, 120.900526, 1.0], [17.086235, 120.974179, 1.0], [17.087511, 120.975462, 1.0], [17.08915, 120.977552, 1.0], [17.092014, 121.965256, 4.0], [17.102177, 120.684266, 1.0], [17.117115, 120.449532, 1.0], [17.120258, 120.501681, 1.0], [17.126104, 122.008131, 1.0], [17.156221, 121.491318, 1.0], [17.158856, 120.890182, 1.0], [17.17063, 121.026376, 1.0], [17.178292, 120.713223, 1.0], [17.197277, 121.61091, 1.0], [17.203246, 121.63212, 1.0], [17.274909, 121.809813, 1.0], [17.300071, 120.449896, 1.0], [17.301755, 121.234782, 1.0], [17.3548, 121.1747, 1.0], [17.399743, 120.799866, 1.0], [17.411735, 121.43845, 1.0], [17.412622, 121.444182, 3.0], [17.427304, 121.435204, 1.0], [17.441367, 120.763147, 1.0], [17.443824, 120.825051, 1.0], [17.450867, 121.149987, 1.0], [17.496438, 121.159995, 1.0], [17.504723, 121.102896, 1.0], [17.531613, 121.323522, 1.0], [17.555726, 120.838718, 1.0], [17.559851, 121.697338, 1.0], [17.599649, 120.616913, 4.0], [17.6, 121.366667, 1.0], [17.609307, 120.905694, 1.0], [17.611375, 121.726748, 1.0], [17.613878, 121.726719, 2.0], [17.615, 120.755833, 1.0], [17.615512, 121.406074, 1.0], [17.633959, 121.780851, 1.0], [17.647387, 120.709324, 1.0], [17.647509, 120.860108, 1.0], [17.650072, 121.689084, 2.0], [17.654287, 120.71816, 1.0], [17.65627, 121.72581, 1.0], [17.667488, 120.949648, 1.0], [17.67258, 120.936674, 1.0], [17.684253, 120.425601, 1.0], [17.698842, 121.504966, 1.0], [17.749692, 121.478416, 1.0], [17.795745, 121.322798, 4.0], [17.803075, 120.485657, 1.0], [17.847186, 121.345264, 1.0], [17.856944, 121.4925, 1.0], [17.88994, 121.870264, 1.0], [17.927142, 120.476019, 1.0], [17.952659, 120.52828, 1.0], [17.97566, 120.483914, 1.0], [17.996614, 120.501916, 1.0], [18.03649, 121.84163, 1.0], [18.05, 120.683333, 1.0], [18.066689, 121.65, 1.0], [18.067695, 121.631648, 1.0], [18.089075, 120.788069, 1.0], [18.092425, 120.77062, 1.0], [18.157995, 120.647306, 1.0], [18.164728, 120.711559, 1.0], [18.195807, 120.592272, 1.0], [18.197401, 120.590682, 1.0], [18.199715, 120.632887, 1.0], [18.216236, 120.605867, 1.0], [18.225667, 121.559271, 1.0], [18.256382, 121.034984, 1.0], [18.259177, 121.997309, 1.0], [18.266174, 121.851626, 1.0], [18.296732, 121.575965, 1.0], [18.332319, 120.618432, 1.0], [18.33244, 120.617974, 1.0], [18.454481, 121.439064, 1.0], [18.56163, 121.23189, 1.0], [18.561633, 120.787087, 1.0]],\n",
       "                {\n",
       "  &quot;minOpacity&quot;: 0.5,\n",
       "  &quot;maxZoom&quot;: 18,\n",
       "  &quot;radius&quot;: 25,\n",
       "  &quot;blur&quot;: 15,\n",
       "}\n",
       "            );\n",
       "        \n",
       "    \n",
       "            heat_map_fe718ce4d6cbc01fceeb0c541f0f85aa.addTo(map_006db7faae293582f926705323bf5e2a);\n",
       "        \n",
       "    \n",
       "            tile_layer_ed658777ab82494ae20c6ddac2a1c1a3.addTo(map_006db7faae293582f926705323bf5e2a);\n",
       "        \n",
       "    \n",
       "            heat_map_fe718ce4d6cbc01fceeb0c541f0f85aa.addTo(map_006db7faae293582f926705323bf5e2a);\n",
       "        \n",
       "&lt;/script&gt;\n",
       "&lt;/html&gt;\" style=\"position:absolute;width:100%;height:100%;left:0;top:0;border:none !important;\" allowfullscreen webkitallowfullscreen mozallowfullscreen></iframe></div></div>"
      ],
      "text/plain": [
       "<folium.folium.Map at 0x1982e6df890>"
      ]
     },
     "execution_count": 24,
     "metadata": {},
     "output_type": "execute_result"
    }
   ],
   "source": [
    "my_mapPhilippines"
   ]
  },
  {
   "cell_type": "markdown",
   "id": "300393c6-e7a8-4a32-9895-e99923b2b239",
   "metadata": {},
   "source": [
    "<h1>Insight no.1</h1>\n",
    "<h2>From 2015 to 2017, there were 1,324 Armed Assault incidents in the Philippines. This shows a significant number of attacks over the years.The heatmap above shows where these occurred and provides a visual representation of the locations most affected.</h2>"
   ]
  },
  {
   "cell_type": "markdown",
   "id": "552c6db6-9b1a-4363-9cb6-9d27ac86bb16",
   "metadata": {},
   "source": [
    "<h1>Attack Type analysis on Iraq</h1>"
   ]
  },
  {
   "cell_type": "code",
   "execution_count": 25,
   "id": "ab5ec51b-5bdb-4b42-9408-ce3497d33f8e",
   "metadata": {},
   "outputs": [],
   "source": [
    "Iraq = df[df['country_txt'] == \"Iraq\"]"
   ]
  },
  {
   "cell_type": "code",
   "execution_count": 26,
   "id": "dcede691-7672-4e1c-b80c-38dad888262c",
   "metadata": {},
   "outputs": [
    {
     "data": {
      "text/plain": [
       "attacktype1_txt\n",
       "Bombing/Explosion                      18286\n",
       "Armed Assault                           3155\n",
       "Assassination                           1287\n",
       "Hostage Taking (Kidnapping)              946\n",
       "Unknown                                  765\n",
       "Facility/Infrastructure Attack           154\n",
       "Hostage Taking (Barricade Incident)       24\n",
       "Hijacking                                 13\n",
       "Unarmed Assault                            6\n",
       "Name: count, dtype: int64"
      ]
     },
     "execution_count": 26,
     "metadata": {},
     "output_type": "execute_result"
    }
   ],
   "source": [
    "Iraq['attacktype1_txt'].value_counts()"
   ]
  },
  {
   "cell_type": "code",
   "execution_count": 27,
   "id": "a677cffe-4e9e-46e2-9794-1b011199bad4",
   "metadata": {},
   "outputs": [],
   "source": [
    "Iraq2 = Iraq[Iraq['attacktype1_txt'] == 'Assassination']"
   ]
  },
  {
   "cell_type": "code",
   "execution_count": 28,
   "id": "19cae458-54b5-4c95-96d7-d60a519ce5b4",
   "metadata": {},
   "outputs": [],
   "source": [
    "final_Iraq = Iraq2.groupby(['latitude', 'longitude']).size().reset_index(name = 'incident_count')"
   ]
  },
  {
   "cell_type": "code",
   "execution_count": 29,
   "id": "643d61bb-b57d-47a8-b5fe-8f2c0171c647",
   "metadata": {},
   "outputs": [],
   "source": [
    "heatmap_data = final_Iraq[['latitude', 'longitude', 'incident_count']].values.tolist()"
   ]
  },
  {
   "cell_type": "code",
   "execution_count": 30,
   "id": "d56bf5cd-bfaa-4f23-a96a-24da0a0d3239",
   "metadata": {},
   "outputs": [],
   "source": [
    "my_mapIraq = folium.Map(location = [30,40], zoom_start = 4)"
   ]
  },
  {
   "cell_type": "code",
   "execution_count": 31,
   "id": "0ba39205-9479-4547-aac0-4c6c8eeca7ba",
   "metadata": {},
   "outputs": [
    {
     "data": {
      "text/plain": [
       "<folium.plugins.heat_map.HeatMap at 0x1983fc51f90>"
      ]
     },
     "execution_count": 31,
     "metadata": {},
     "output_type": "execute_result"
    }
   ],
   "source": [
    "HeatMap(heatmap_data).add_to(my_mapIraq)"
   ]
  },
  {
   "cell_type": "code",
   "execution_count": 32,
   "id": "7290a9e8-2bfc-424b-9481-9f17cc7dbc32",
   "metadata": {},
   "outputs": [
    {
     "name": "stdout",
     "output_type": "stream",
     "text": [
      "data save to IraqAssassination.html\n"
     ]
    }
   ],
   "source": [
    "my_mapIraq.save('IraqAssassination.html')\n",
    "print(\"data save to IraqAssassination.html\")"
   ]
  },
  {
   "cell_type": "code",
   "execution_count": 33,
   "id": "06a2af19-8580-4a75-9ffc-7fc15c5dd41e",
   "metadata": {},
   "outputs": [
    {
     "data": {
      "text/html": [
       "<div style=\"width:100%;\"><div style=\"position:relative;width:100%;height:0;padding-bottom:60%;\"><span style=\"color:#565656\">Make this Notebook Trusted to load map: File -> Trust Notebook</span><iframe srcdoc=\"&lt;!DOCTYPE html&gt;\n",
       "&lt;html&gt;\n",
       "&lt;head&gt;\n",
       "    \n",
       "    &lt;meta http-equiv=&quot;content-type&quot; content=&quot;text/html; charset=UTF-8&quot; /&gt;\n",
       "    \n",
       "        &lt;script&gt;\n",
       "            L_NO_TOUCH = false;\n",
       "            L_DISABLE_3D = false;\n",
       "        &lt;/script&gt;\n",
       "    \n",
       "    &lt;style&gt;html, body {width: 100%;height: 100%;margin: 0;padding: 0;}&lt;/style&gt;\n",
       "    &lt;style&gt;#map {position:absolute;top:0;bottom:0;right:0;left:0;}&lt;/style&gt;\n",
       "    &lt;script src=&quot;https://cdn.jsdelivr.net/npm/leaflet@1.9.3/dist/leaflet.js&quot;&gt;&lt;/script&gt;\n",
       "    &lt;script src=&quot;https://code.jquery.com/jquery-3.7.1.min.js&quot;&gt;&lt;/script&gt;\n",
       "    &lt;script src=&quot;https://cdn.jsdelivr.net/npm/bootstrap@5.2.2/dist/js/bootstrap.bundle.min.js&quot;&gt;&lt;/script&gt;\n",
       "    &lt;script src=&quot;https://cdnjs.cloudflare.com/ajax/libs/Leaflet.awesome-markers/2.0.2/leaflet.awesome-markers.js&quot;&gt;&lt;/script&gt;\n",
       "    &lt;link rel=&quot;stylesheet&quot; href=&quot;https://cdn.jsdelivr.net/npm/leaflet@1.9.3/dist/leaflet.css&quot;/&gt;\n",
       "    &lt;link rel=&quot;stylesheet&quot; href=&quot;https://cdn.jsdelivr.net/npm/bootstrap@5.2.2/dist/css/bootstrap.min.css&quot;/&gt;\n",
       "    &lt;link rel=&quot;stylesheet&quot; href=&quot;https://netdna.bootstrapcdn.com/bootstrap/3.0.0/css/bootstrap-glyphicons.css&quot;/&gt;\n",
       "    &lt;link rel=&quot;stylesheet&quot; href=&quot;https://cdn.jsdelivr.net/npm/@fortawesome/fontawesome-free@6.2.0/css/all.min.css&quot;/&gt;\n",
       "    &lt;link rel=&quot;stylesheet&quot; href=&quot;https://cdnjs.cloudflare.com/ajax/libs/Leaflet.awesome-markers/2.0.2/leaflet.awesome-markers.css&quot;/&gt;\n",
       "    &lt;link rel=&quot;stylesheet&quot; href=&quot;https://cdn.jsdelivr.net/gh/python-visualization/folium/folium/templates/leaflet.awesome.rotate.min.css&quot;/&gt;\n",
       "    \n",
       "            &lt;meta name=&quot;viewport&quot; content=&quot;width=device-width,\n",
       "                initial-scale=1.0, maximum-scale=1.0, user-scalable=no&quot; /&gt;\n",
       "            &lt;style&gt;\n",
       "                #map_8920141c23600a35b9ce03e955ed9d64 {\n",
       "                    position: relative;\n",
       "                    width: 100.0%;\n",
       "                    height: 100.0%;\n",
       "                    left: 0.0%;\n",
       "                    top: 0.0%;\n",
       "                }\n",
       "                .leaflet-container { font-size: 1rem; }\n",
       "            &lt;/style&gt;\n",
       "        \n",
       "    &lt;script src=&quot;https://cdn.jsdelivr.net/gh/python-visualization/folium@main/folium/templates/leaflet_heat.min.js&quot;&gt;&lt;/script&gt;\n",
       "&lt;/head&gt;\n",
       "&lt;body&gt;\n",
       "    \n",
       "    \n",
       "            &lt;div class=&quot;folium-map&quot; id=&quot;map_8920141c23600a35b9ce03e955ed9d64&quot; &gt;&lt;/div&gt;\n",
       "        \n",
       "&lt;/body&gt;\n",
       "&lt;script&gt;\n",
       "    \n",
       "    \n",
       "            var map_8920141c23600a35b9ce03e955ed9d64 = L.map(\n",
       "                &quot;map_8920141c23600a35b9ce03e955ed9d64&quot;,\n",
       "                {\n",
       "                    center: [30.0, 40.0],\n",
       "                    crs: L.CRS.EPSG3857,\n",
       "                    ...{\n",
       "  &quot;zoom&quot;: 4,\n",
       "  &quot;zoomControl&quot;: true,\n",
       "  &quot;preferCanvas&quot;: false,\n",
       "}\n",
       "\n",
       "                }\n",
       "            );\n",
       "\n",
       "            \n",
       "\n",
       "        \n",
       "    \n",
       "            var tile_layer_a20de5a29cf07afc0316bd31acd56b70 = L.tileLayer(\n",
       "                &quot;https://tile.openstreetmap.org/{z}/{x}/{y}.png&quot;,\n",
       "                {\n",
       "  &quot;minZoom&quot;: 0,\n",
       "  &quot;maxZoom&quot;: 19,\n",
       "  &quot;maxNativeZoom&quot;: 19,\n",
       "  &quot;noWrap&quot;: false,\n",
       "  &quot;attribution&quot;: &quot;\\u0026copy; \\u003ca href=\\&quot;https://www.openstreetmap.org/copyright\\&quot;\\u003eOpenStreetMap\\u003c/a\\u003e contributors&quot;,\n",
       "  &quot;subdomains&quot;: &quot;abc&quot;,\n",
       "  &quot;detectRetina&quot;: false,\n",
       "  &quot;tms&quot;: false,\n",
       "  &quot;opacity&quot;: 1,\n",
       "}\n",
       "\n",
       "            );\n",
       "        \n",
       "    \n",
       "            tile_layer_a20de5a29cf07afc0316bd31acd56b70.addTo(map_8920141c23600a35b9ce03e955ed9d64);\n",
       "        \n",
       "    \n",
       "            var heat_map_5254a43539e6828df35ac9bcfe7281d8 = L.heatLayer(\n",
       "                [[30.163319, 48.379703, 1.0], [30.374143, 47.262768, 1.0], [30.383333, 47.7, 1.0], [30.388007, 47.713127, 1.0], [30.510054, 47.778095, 31.0], [30.580143, 47.781882, 1.0], [30.885363, 46.467974, 1.0], [31.044371, 46.261452, 4.0], [31.198561, 45.539242, 1.0], [31.202345, 46.216352, 1.0], [31.848217, 47.145203, 3.0], [31.98958, 44.923775, 4.0], [31.990204, 44.924595, 1.0], [32.000596, 44.330818, 2.0], [32.02856, 44.334134, 1.0], [32.032916, 44.399648, 1.0], [32.04298, 42.254261, 1.0], [32.280556, 44.664444, 1.0], [32.30301, 44.686532, 1.0], [32.450542, 43.857985, 1.0], [32.468191, 44.550194, 3.0], [32.469238, 44.416637, 2.0], [32.509489, 41.644865, 1.0], [32.533287, 45.829453, 2.0], [32.559761, 41.919647, 3.0], [32.604393, 44.007145, 7.0], [32.686047, 41.081328, 1.0], [32.74815, 39.027969, 1.0], [32.749005, 44.612996, 1.0], [32.769378, 44.300598, 1.0], [32.777344, 44.289352, 2.0], [32.867008, 44.220455, 5.0], [32.867294, 44.215806, 1.0], [32.887157, 44.341637, 2.0], [32.907827, 45.086073, 1.0], [32.982933, 44.361595, 5.0], [33.036022, 40.288158, 1.0], [33.043201, 44.641945, 1.0], [33.057991, 44.354839, 3.0], [33.07835, 44.254719, 2.0], [33.099908, 44.583245, 1.0], [33.1, 44.583333, 1.0], [33.100529, 44.584492, 3.0], [33.163559, 43.863106, 2.0], [33.170231, 44.558002, 1.0], [33.172411, 43.878825, 1.0], [33.242447, 44.562172, 1.0], [33.247181, 44.025452, 1.0], [33.28, 44.51958, 1.0], [33.291251, 44.065372, 1.0], [33.291944, 44.065556, 1.0], [33.291969, 44.065328, 1.0], [33.30356, 43.971984, 1.0], [33.303566, 44.371773, 362.0], [33.31065, 44.038208, 18.0], [33.332394, 43.712822, 1.0], [33.349159, 43.784199, 25.0], [33.350259, 43.937214, 1.0], [33.375759, 44.702866, 1.0], [33.384232, 43.901028, 1.0], [33.388054, 43.5317, 2.0], [33.401699, 44.357658, 1.0], [33.403057, 43.911865, 9.0], [33.410797, 43.561432, 1.0], [33.420948, 43.295662, 28.0], [33.431496, 43.384418, 1.0], [33.433487, 43.367092, 1.0], [33.433811, 38.922878, 1.0], [33.439376, 44.01832, 1.0], [33.447155, 43.340736, 1.0], [33.448437, 43.26757, 1.0], [33.454317, 44.373095, 1.0], [33.456025, 44.092024, 1.0], [33.456459, 43.392872, 1.0], [33.457222, 44.086389, 1.0], [33.530734, 44.274292, 3.0], [33.540672, 44.251266, 2.0], [33.542351, 44.365334, 1.0], [33.583333, 43.933333, 1.0], [33.592064, 42.618965, 1.0], [33.62235, 44.59332, 1.0], [33.633896, 42.832081, 7.0], [33.649971, 44.261543, 1.0], [33.669689, 44.381317, 6.0], [33.67263, 44.85395, 1.0], [33.674359, 44.238418, 1.0], [33.678926, 44.853001, 1.0], [33.693409, 44.796085, 3.0], [33.693947, 45.067425, 1.0], [33.716995, 44.679516, 2.0], [33.74324, 44.623825, 61.0], [33.744999, 45.545616, 2.0], [33.74521, 45.545674, 1.0], [33.759641, 44.606658, 1.0], [33.764472, 45.137779, 1.0], [33.764671, 44.49743, 1.0], [33.765449, 45.15295, 1.0], [33.773349, 45.14945, 4.0], [33.773598, 45.14945, 1.0], [33.775055, 44.580349, 1.0], [33.77631, 44.555672, 2.0], [33.779541, 44.592678, 1.0], [33.784248, 44.50972, 2.0], [33.787247, 44.667145, 1.0], [33.787562, 44.665761, 1.0], [33.835629, 44.247406, 2.0], [33.848618, 44.522125, 4.0], [33.852382, 44.524371, 1.0], [33.862531, 45.287155, 1.0], [33.864799, 42.536385, 2.0], [33.871944, 44.813333, 1.0], [33.879803, 44.854084, 2.0], [33.888016, 45.087186, 1.0], [33.904087, 44.852064, 1.0], [33.908605, 44.550827, 1.0], [33.926586, 44.772064, 3.0], [33.942375, 42.489763, 1.0], [33.94644, 44.916069, 1.0], [33.953167, 44.921906, 6.0], [33.970698, 44.043274, 1.0], [33.971279, 44.926682, 1.0], [33.994591, 44.357273, 5.0], [34.010097, 44.062745, 1.0], [34.010471, 44.148235, 5.0], [34.016219, 44.914895, 1.0], [34.016389, 44.145278, 1.0], [34.023571, 44.031361, 2.0], [34.036461, 44.971806, 1.0], [34.057114, 44.218292, 2.0], [34.072718, 44.287723, 1.0], [34.077841, 44.06334, 1.0], [34.078571, 44.959305, 1.0], [34.085258, 42.360344, 1.0], [34.100723, 45.05196, 1.0], [34.125561, 42.373707, 1.0], [34.125729, 45.003342, 7.0], [34.140955, 42.375292, 1.0], [34.160587, 42.37254, 7.0], [34.16512, 43.905386, 1.0], [34.186703, 43.854462, 1.0], [34.206111, 44.006667, 1.0], [34.208416, 43.890713, 16.0], [34.239952, 44.510111, 2.0], [34.240012, 44.503003, 1.0], [34.271034, 45.163567, 4.0], [34.273704, 45.165826, 1.0], [34.343436, 45.27719, 1.0], [34.347343, 45.383274, 3.0], [34.363503, 41.115997, 4.0], [34.377976, 44.935498, 1.0], [34.378387, 41.035515, 1.0], [34.410422, 43.825001, 1.0], [34.430824, 44.0191, 1.0], [34.432587, 41.229725, 1.0], [34.437114, 43.800526, 1.0], [34.458889, 43.791004, 6.0], [34.483333, 44.633333, 1.0], [34.50203, 43.532467, 1.0], [34.526913, 43.708546, 1.0], [34.533753, 43.483738, 3.0], [34.60436, 43.719039, 1.0], [34.604447, 43.685789, 1.0], [34.621521, 43.668377, 30.0], [34.624168, 43.477478, 1.0], [34.629818, 45.309994, 1.0], [34.683358, 44.966637, 1.0], [34.705948, 43.697075, 1.0], [34.711769, 44.22908, 1.0], [34.738251, 44.439114, 1.0], [34.762748, 43.596413, 1.0], [34.763144, 44.570659, 1.0], [34.790665, 44.662151, 3.0], [34.803309, 43.191128, 1.0], [34.880964, 44.620763, 1.0], [34.881348, 44.62513, 15.0], [34.922668, 43.456279, 1.0], [34.923742, 43.808691, 1.0], [34.92485, 43.491413, 14.0], [34.928864, 43.492923, 2.0], [34.928947, 43.493056, 1.0], [34.929553, 43.492264, 1.0], [35.03415, 43.632833, 1.0], [35.046007, 45.732851, 1.0], [35.10208, 44.37134, 1.0], [35.11431, 44.222439, 1.0], [35.134994, 44.089039, 1.0], [35.135849, 44.087712, 1.0], [35.137009, 44.44664, 1.0], [35.142168, 44.447382, 1.0], [35.159893, 44.30555, 1.0], [35.161325, 44.391842, 1.0], [35.184164, 44.350036, 1.0], [35.252529, 43.906586, 2.0], [35.267746, 44.169822, 1.0], [35.271023, 43.458084, 6.0], [35.272076, 43.915043, 1.0], [35.27615, 43.59217, 1.0], [35.3, 43.916667, 1.0], [35.30254, 43.521938, 1.0], [35.303047, 44.329933, 5.0], [35.316667, 43.766667, 1.0], [35.326122, 43.780811, 7.0], [35.329198, 43.943725, 1.0], [35.329201, 43.943679, 1.0], [35.331372, 44.285781, 1.0], [35.337487, 44.285178, 1.0], [35.348876, 44.078411, 1.0], [35.368895, 43.933868, 1.0], [35.37157, 44.340825, 1.0], [35.381884, 43.941902, 1.0], [35.406588, 44.677203, 1.0], [35.415855, 43.114769, 1.0], [35.421111, 44.022778, 1.0], [35.45211, 44.375465, 91.0], [35.470616, 44.395746, 1.0], [35.485833, 43.240556, 1.0], [35.492997, 43.242478, 1.0], [35.493176, 44.639066, 1.0], [35.494721, 43.097213, 1.0], [35.499439, 43.234894, 10.0], [35.503611, 43.2325, 1.0], [35.567009, 45.385494, 8.0], [35.569427, 42.723026, 1.0], [35.669381, 44.081777, 1.0], [35.686121, 43.897924, 1.0], [35.752293, 44.147743, 1.0], [35.772012, 43.121196, 1.0], [35.791619, 43.271951, 1.0], [35.79813, 43.294178, 13.0], [35.815556, 43.443889, 1.0], [35.870968, 43.296768, 1.0], [35.928637, 44.964221, 2.0], [35.99353, 43.21973, 2.0], [35.99588, 42.829136, 1.0], [36.007364, 42.352469, 1.0], [36.045059, 41.716717, 1.0], [36.117653, 42.93469, 1.0], [36.1534, 43.016567, 1.0], [36.158179, 43.253263, 1.0], [36.192589, 44.004623, 1.0], [36.201965, 42.298298, 1.0], [36.203317, 43.207849, 1.0], [36.229574, 42.236244, 3.0], [36.279934, 42.945995, 1.0], [36.280699, 43.147488, 1.0], [36.319386, 41.861473, 1.0], [36.325846, 43.145785, 1.0], [36.338334, 43.088312, 1.0], [36.34, 43.13, 2.0], [36.347263, 43.129181, 1.0], [36.352145, 43.379663, 1.0], [36.354145, 43.14357, 152.0], [36.376823, 42.448875, 4.0], [36.425703, 43.221359, 1.0], [36.447495, 43.351059, 1.0], [36.460619, 43.204437, 1.0], [36.471466, 42.102936, 1.0], [36.478172, 43.218727, 1.0], [36.762798, 42.064972, 1.0], [36.77499, 42.645939, 1.0], [36.860813, 42.97646, 2.0], [36.867905, 42.948857, 1.0], [36.905833, 44.138611, 1.0], [37.102255, 43.202923, 1.0], [37.1075, 43.361111, 1.0]],\n",
       "                {\n",
       "  &quot;minOpacity&quot;: 0.5,\n",
       "  &quot;maxZoom&quot;: 18,\n",
       "  &quot;radius&quot;: 25,\n",
       "  &quot;blur&quot;: 15,\n",
       "}\n",
       "            );\n",
       "        \n",
       "    \n",
       "            heat_map_5254a43539e6828df35ac9bcfe7281d8.addTo(map_8920141c23600a35b9ce03e955ed9d64);\n",
       "        \n",
       "    \n",
       "            tile_layer_a20de5a29cf07afc0316bd31acd56b70.addTo(map_8920141c23600a35b9ce03e955ed9d64);\n",
       "        \n",
       "    \n",
       "            heat_map_5254a43539e6828df35ac9bcfe7281d8.addTo(map_8920141c23600a35b9ce03e955ed9d64);\n",
       "        \n",
       "&lt;/script&gt;\n",
       "&lt;/html&gt;\" style=\"position:absolute;width:100%;height:100%;left:0;top:0;border:none !important;\" allowfullscreen webkitallowfullscreen mozallowfullscreen></iframe></div></div>"
      ],
      "text/plain": [
       "<folium.folium.Map at 0x19819e69f90>"
      ]
     },
     "execution_count": 33,
     "metadata": {},
     "output_type": "execute_result"
    }
   ],
   "source": [
    "my_mapIraq"
   ]
  },
  {
   "cell_type": "markdown",
   "id": "bdb75bed-0493-42e9-94a9-2f2641d1510c",
   "metadata": {},
   "source": [
    "<h1>Insight no.2</h1>\n",
    "<h2>From 1970 to 2017, there were 1,287 Bombing/Explosion incidents in the Iraq. This shows a significant number of attacks over the years.The heatmap above shows where these occurred and provides a visual representation of the locations most affected.</h2>"
   ]
  },
  {
   "cell_type": "code",
   "execution_count": 41,
   "id": "4f8228b7-9984-4b5b-a565-613af05f9b73",
   "metadata": {},
   "outputs": [
    {
     "name": "stdout",
     "output_type": "stream",
     "text": [
      "data saved to USterroristAttack.html\n"
     ]
    },
    {
     "data": {
      "text/html": [
       "<div style=\"width:100%;\"><div style=\"position:relative;width:100%;height:0;padding-bottom:60%;\"><span style=\"color:#565656\">Make this Notebook Trusted to load map: File -> Trust Notebook</span><iframe srcdoc=\"&lt;!DOCTYPE html&gt;\n",
       "&lt;html&gt;\n",
       "&lt;head&gt;\n",
       "    \n",
       "    &lt;meta http-equiv=&quot;content-type&quot; content=&quot;text/html; charset=UTF-8&quot; /&gt;\n",
       "    \n",
       "        &lt;script&gt;\n",
       "            L_NO_TOUCH = false;\n",
       "            L_DISABLE_3D = false;\n",
       "        &lt;/script&gt;\n",
       "    \n",
       "    &lt;style&gt;html, body {width: 100%;height: 100%;margin: 0;padding: 0;}&lt;/style&gt;\n",
       "    &lt;style&gt;#map {position:absolute;top:0;bottom:0;right:0;left:0;}&lt;/style&gt;\n",
       "    &lt;script src=&quot;https://cdn.jsdelivr.net/npm/leaflet@1.9.3/dist/leaflet.js&quot;&gt;&lt;/script&gt;\n",
       "    &lt;script src=&quot;https://code.jquery.com/jquery-3.7.1.min.js&quot;&gt;&lt;/script&gt;\n",
       "    &lt;script src=&quot;https://cdn.jsdelivr.net/npm/bootstrap@5.2.2/dist/js/bootstrap.bundle.min.js&quot;&gt;&lt;/script&gt;\n",
       "    &lt;script src=&quot;https://cdnjs.cloudflare.com/ajax/libs/Leaflet.awesome-markers/2.0.2/leaflet.awesome-markers.js&quot;&gt;&lt;/script&gt;\n",
       "    &lt;link rel=&quot;stylesheet&quot; href=&quot;https://cdn.jsdelivr.net/npm/leaflet@1.9.3/dist/leaflet.css&quot;/&gt;\n",
       "    &lt;link rel=&quot;stylesheet&quot; href=&quot;https://cdn.jsdelivr.net/npm/bootstrap@5.2.2/dist/css/bootstrap.min.css&quot;/&gt;\n",
       "    &lt;link rel=&quot;stylesheet&quot; href=&quot;https://netdna.bootstrapcdn.com/bootstrap/3.0.0/css/bootstrap-glyphicons.css&quot;/&gt;\n",
       "    &lt;link rel=&quot;stylesheet&quot; href=&quot;https://cdn.jsdelivr.net/npm/@fortawesome/fontawesome-free@6.2.0/css/all.min.css&quot;/&gt;\n",
       "    &lt;link rel=&quot;stylesheet&quot; href=&quot;https://cdnjs.cloudflare.com/ajax/libs/Leaflet.awesome-markers/2.0.2/leaflet.awesome-markers.css&quot;/&gt;\n",
       "    &lt;link rel=&quot;stylesheet&quot; href=&quot;https://cdn.jsdelivr.net/gh/python-visualization/folium/folium/templates/leaflet.awesome.rotate.min.css&quot;/&gt;\n",
       "    \n",
       "            &lt;meta name=&quot;viewport&quot; content=&quot;width=device-width,\n",
       "                initial-scale=1.0, maximum-scale=1.0, user-scalable=no&quot; /&gt;\n",
       "            &lt;style&gt;\n",
       "                #map_72f256a2890e9388e3832789331f2963 {\n",
       "                    position: relative;\n",
       "                    width: 100.0%;\n",
       "                    height: 100.0%;\n",
       "                    left: 0.0%;\n",
       "                    top: 0.0%;\n",
       "                }\n",
       "                .leaflet-container { font-size: 1rem; }\n",
       "            &lt;/style&gt;\n",
       "        \n",
       "    &lt;script src=&quot;https://cdn.jsdelivr.net/gh/python-visualization/folium@main/folium/templates/leaflet_heat.min.js&quot;&gt;&lt;/script&gt;\n",
       "&lt;/head&gt;\n",
       "&lt;body&gt;\n",
       "    \n",
       "    \n",
       "            &lt;div class=&quot;folium-map&quot; id=&quot;map_72f256a2890e9388e3832789331f2963&quot; &gt;&lt;/div&gt;\n",
       "        \n",
       "&lt;/body&gt;\n",
       "&lt;script&gt;\n",
       "    \n",
       "    \n",
       "            var map_72f256a2890e9388e3832789331f2963 = L.map(\n",
       "                &quot;map_72f256a2890e9388e3832789331f2963&quot;,\n",
       "                {\n",
       "                    center: [30.0, 40.0],\n",
       "                    crs: L.CRS.EPSG3857,\n",
       "                    ...{\n",
       "  &quot;zoom&quot;: 4,\n",
       "  &quot;zoomControl&quot;: true,\n",
       "  &quot;preferCanvas&quot;: false,\n",
       "}\n",
       "\n",
       "                }\n",
       "            );\n",
       "\n",
       "            \n",
       "\n",
       "        \n",
       "    \n",
       "            var tile_layer_d764558ef7ffc8d9bc38039cdbc63bc2 = L.tileLayer(\n",
       "                &quot;https://tile.openstreetmap.org/{z}/{x}/{y}.png&quot;,\n",
       "                {\n",
       "  &quot;minZoom&quot;: 0,\n",
       "  &quot;maxZoom&quot;: 19,\n",
       "  &quot;maxNativeZoom&quot;: 19,\n",
       "  &quot;noWrap&quot;: false,\n",
       "  &quot;attribution&quot;: &quot;\\u0026copy; \\u003ca href=\\&quot;https://www.openstreetmap.org/copyright\\&quot;\\u003eOpenStreetMap\\u003c/a\\u003e contributors&quot;,\n",
       "  &quot;subdomains&quot;: &quot;abc&quot;,\n",
       "  &quot;detectRetina&quot;: false,\n",
       "  &quot;tms&quot;: false,\n",
       "  &quot;opacity&quot;: 1,\n",
       "}\n",
       "\n",
       "            );\n",
       "        \n",
       "    \n",
       "            tile_layer_d764558ef7ffc8d9bc38039cdbc63bc2.addTo(map_72f256a2890e9388e3832789331f2963);\n",
       "        \n",
       "    \n",
       "            var heat_map_1fd61e79fb8f9ce06c49cd8b27b44d82 = L.heatLayer(\n",
       "                [[34.07577, -117.277924, 1.0], [35.472015, -97.520354, 1.0], [40.697132, -73.931351, 1.0]],\n",
       "                {\n",
       "  &quot;minOpacity&quot;: 0.5,\n",
       "  &quot;maxZoom&quot;: 18,\n",
       "  &quot;radius&quot;: 25,\n",
       "  &quot;blur&quot;: 15,\n",
       "}\n",
       "            );\n",
       "        \n",
       "    \n",
       "            heat_map_1fd61e79fb8f9ce06c49cd8b27b44d82.addTo(map_72f256a2890e9388e3832789331f2963);\n",
       "        \n",
       "    \n",
       "            tile_layer_d764558ef7ffc8d9bc38039cdbc63bc2.addTo(map_72f256a2890e9388e3832789331f2963);\n",
       "        \n",
       "    \n",
       "            heat_map_1fd61e79fb8f9ce06c49cd8b27b44d82.addTo(map_72f256a2890e9388e3832789331f2963);\n",
       "        \n",
       "&lt;/script&gt;\n",
       "&lt;/html&gt;\" style=\"position:absolute;width:100%;height:100%;left:0;top:0;border:none !important;\" allowfullscreen webkitallowfullscreen mozallowfullscreen></iframe></div></div>"
      ],
      "text/plain": [
       "<folium.folium.Map at 0x19848cfec40>"
      ]
     },
     "execution_count": 41,
     "metadata": {},
     "output_type": "execute_result"
    }
   ],
   "source": [
    "US = df[df['country_txt'] == \"United States\"]\n",
    "US2 = US[US['attacktype1_txt'] == 'Bombing/Explosion']\n",
    "US2 = US2[US2['nkill'] >= 10]\n",
    "US3 = US2.groupby(['latitude', 'longitude']).size().reset_index(name='incident_count')\n",
    "heatmap_data = US3[['latitude', 'longitude', 'incident_count']].values.tolist()\n",
    "my_mapUS = folium.Map(location=[30, 40], zoom_start=4)\n",
    "HeatMap(heatmap_data).add_to(my_mapUS)\n",
    "my_mapUS.save('USterroristAttack.html')\n",
    "print(\"data saved to USterroristAttack.html\")\n",
    "my_mapUS"
   ]
  },
  {
   "cell_type": "markdown",
   "id": "3b836dab-2656-43e6-bacd-e37e1e79d34f",
   "metadata": {},
   "source": [
    "<h1>Insight no.3</h1>\n",
    "<h2>From 1970 to 2017 in the United States, the most common type of attack was Bombing/Explosion, with 1,383 incidents, indicating a frequent use of explosives as a method of violence during this period. Facility/Infrastructure Attacks followed closely with 864 cases, showing a significant focus on disrupting key structures or services. The heatmap of where it happened helps visualize the geographic distribution of these events, highlighting regional hotspots and areas most affected by such violence.</h2>"
   ]
  },
  {
   "cell_type": "markdown",
   "id": "0e989573-48b0-42b0-97ef-72ccf32b83af",
   "metadata": {},
   "source": [
    "<h1>Regional Analysis of South Asia<h1>"
   ]
  },
  {
   "cell_type": "code",
   "execution_count": null,
   "id": "c2a3b335-7d0a-43bc-9cc6-6e24ae0c4c32",
   "metadata": {},
   "outputs": [],
   "source": [
    "South_Asia_df = df[df['region_txt'] == \"South Asia\"]"
   ]
  },
  {
   "cell_type": "code",
   "execution_count": null,
   "id": "acee63d9-2359-4c50-bde5-0052f3e123c3",
   "metadata": {},
   "outputs": [],
   "source": [
    "South_Asia_df['nkill'].value_counts()"
   ]
  },
  {
   "cell_type": "code",
   "execution_count": null,
   "id": "854920bf-0138-4c1a-8559-f4a83b0c453f",
   "metadata": {},
   "outputs": [],
   "source": [
    "South_Asia_df2 = South_Asia_df[South_Asia_df['attacktype1_txt'] == 'Assassination']"
   ]
  },
  {
   "cell_type": "code",
   "execution_count": null,
   "id": "0e7f6b30-efdc-4251-b107-b86c332e5ead",
   "metadata": {},
   "outputs": [],
   "source": [
    "final_South_Asia = South_Asia_df2.groupby(['latitude', 'longitude']).size().reset_index(name = 'incident_count')"
   ]
  },
  {
   "cell_type": "code",
   "execution_count": null,
   "id": "378f7afb-3643-49e5-b262-bc0f5967cb43",
   "metadata": {},
   "outputs": [],
   "source": [
    "heatmap_data = final_South_Asia[['latitude', 'longitude', 'incident_count']].values.tolist()"
   ]
  },
  {
   "cell_type": "code",
   "execution_count": null,
   "id": "5a2a9a0b-d500-4516-95d5-0c8313533406",
   "metadata": {},
   "outputs": [],
   "source": [
    "my_mapSouth_Asia = folium.Map(location = [30,40], zoom_start = 4)"
   ]
  },
  {
   "cell_type": "code",
   "execution_count": null,
   "id": "e69d6f86-8111-4aaa-afe9-5128d6e3b27e",
   "metadata": {},
   "outputs": [],
   "source": [
    "HeatMap(heatmap_data).add_to(my_mapSouth_Asia)"
   ]
  },
  {
   "cell_type": "code",
   "execution_count": null,
   "id": "398259d0-8dc2-4b4a-ae74-f9ed3eaf3753",
   "metadata": {},
   "outputs": [],
   "source": [
    "my_mapSouth_Asia.save('SouthAsiaterroristAttack.html')\n",
    "print(\"data save to SouthAsiaterroristAttack.html\")"
   ]
  },
  {
   "cell_type": "code",
   "execution_count": null,
   "id": "66517b99-09a7-4606-b141-64f1eb74bccc",
   "metadata": {},
   "outputs": [],
   "source": [
    "my_mapSouth_Asia"
   ]
  },
  {
   "cell_type": "markdown",
   "id": "f99fdb11-c3d2-48cb-8ba8-1c83dbdc9ef2",
   "metadata": {},
   "source": [
    "<h1>Insight no.4</h1>\n",
    "<h2>Between 1970 and 2017, South Asia experienced 4,301 assassination incidents across various countries. This reflects a substantial number of attacks over the years. The heatmap above visually highlights the regions most impacted by these incidents.</h2>"
   ]
  },
  {
   "cell_type": "markdown",
   "id": "4c1f531e-09a3-49ae-8af2-e2be40eb6e6d",
   "metadata": {},
   "source": [
    "<h1>Village/City/Town/Suburb target Analysis on Sub-Sarahan Africa </h1>"
   ]
  },
  {
   "cell_type": "code",
   "execution_count": null,
   "id": "002b1bb9-6da3-4523-bc32-ccf973e9bb16",
   "metadata": {},
   "outputs": [],
   "source": [
    "SS_Africa_df = df[df['region_txt'] == \"Sub-Saharan Africa\"]"
   ]
  },
  {
   "cell_type": "code",
   "execution_count": null,
   "id": "4ae2fc55-c7d1-4678-9d0a-b6cfea203196",
   "metadata": {},
   "outputs": [],
   "source": [
    "SS_Africa_df['targsubtype1_txt'].value_counts()"
   ]
  },
  {
   "cell_type": "code",
   "execution_count": null,
   "id": "35ac2469-d9b7-44a8-a26f-f4ff80b22569",
   "metadata": {},
   "outputs": [],
   "source": [
    "SS_Africa_df2 = SS_Africa_df[SS_Africa_df['targsubtype1_txt'] == 'Village/City/Town/Suburb']"
   ]
  },
  {
   "cell_type": "code",
   "execution_count": null,
   "id": "3df7596e-bf0b-4e93-bd36-c565cbfdfbc3",
   "metadata": {},
   "outputs": [],
   "source": [
    "final_SS_Africa_df = SS_Africa_df2.groupby(['latitude', 'longitude']).size().reset_index(name = 'incident_count')"
   ]
  },
  {
   "cell_type": "code",
   "execution_count": null,
   "id": "4f5ec54a-12c9-4dd6-8e37-ef04c91c6066",
   "metadata": {},
   "outputs": [],
   "source": [
    "heatmap_data = final_SS_Africa_df[['latitude', 'longitude', 'incident_count']].values.tolist()"
   ]
  },
  {
   "cell_type": "code",
   "execution_count": null,
   "id": "2701aa4d-4316-4cac-9405-9b038d60eb23",
   "metadata": {},
   "outputs": [],
   "source": [
    "my_mapSS_Africa = folium.Map(location = [30,40], zoom_start = 4)"
   ]
  },
  {
   "cell_type": "code",
   "execution_count": null,
   "id": "ca4e7110-37b0-49fd-a609-4c44fe184fd4",
   "metadata": {},
   "outputs": [],
   "source": [
    "HeatMap(heatmap_data).add_to(my_mapSS_Africa)"
   ]
  },
  {
   "cell_type": "code",
   "execution_count": null,
   "id": "be64ec09-9e77-4ec8-bd05-34fb85733812",
   "metadata": {},
   "outputs": [],
   "source": [
    "my_mapSS_Africa.save('SS_AfricaterroristAttack.html')\n",
    "print(\"data save to SS_AfricaterroristAttack.html\")"
   ]
  },
  {
   "cell_type": "code",
   "execution_count": null,
   "id": "7fe34e8a-988c-4e0a-8c73-e58bcb03c067",
   "metadata": {},
   "outputs": [],
   "source": [
    "my_mapSS_Africa"
   ]
  },
  {
   "cell_type": "markdown",
   "id": "54268b71-4269-4a37-868c-b3770780bc92",
   "metadata": {},
   "source": [
    "<h1>Insight no.5</h1>\n",
    "<h2>Based on the data provided, there were 1,846 incidents that Village/City/Town/Suburb is targeted in Sub-Saharan Africa region between 1970 and 2017. This indicates that the region experienced a consistent threat of such attacks over nearly five decades. The heatmap above shows where these incidents occurred, highlighting areas most affected by this type of violence.</h2>"
   ]
  },
  {
   "cell_type": "code",
   "execution_count": null,
   "id": "23940262-94df-44c8-be1a-c0405d668c7a",
   "metadata": {},
   "outputs": [],
   "source": []
  }
 ],
 "metadata": {
  "kernelspec": {
   "display_name": "Python 3 (ipykernel)",
   "language": "python",
   "name": "python3"
  },
  "language_info": {
   "codemirror_mode": {
    "name": "ipython",
    "version": 3
   },
   "file_extension": ".py",
   "mimetype": "text/x-python",
   "name": "python",
   "nbconvert_exporter": "python",
   "pygments_lexer": "ipython3",
   "version": "3.13.2"
  }
 },
 "nbformat": 4,
 "nbformat_minor": 5
}
