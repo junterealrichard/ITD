{
 "cells": [
  {
   "cell_type": "markdown",
   "id": "4ffbdb0f-a3cb-4ca2-92c3-1d7aaff7d1bd",
   "metadata": {},
   "source": [
    "<h1>UK ROAD ACCIDENTS DATA ANALYSIS</h1>\n",
    "<H2>INCLUSIVE YEAR 2019 - 2022</H2>\n",
    "<H3> ANALYST: JUNTEREAL,RUSS</H3>"
   ]
  },
  {
   "cell_type": "code",
   "execution_count": 5,
   "id": "64ecba31-878c-426f-a816-de823ccc2351",
   "metadata": {},
   "outputs": [],
   "source": [
    "import numpy as np\n",
    "import pandas as pd\n",
    "import matplotlib.pyplot as plt\n",
    "import seaborn as sns\n",
    "import warnings\n",
    "warnings.filterwarnings('ignore')"
   ]
  },
  {
   "cell_type": "code",
   "execution_count": 6,
   "id": "cb161bb5-846f-40e5-a5bd-f8791e1abcbf",
   "metadata": {},
   "outputs": [],
   "source": [
    "accident = pd.read_csv('accident_data.csv')"
   ]
  },
  {
   "cell_type": "code",
   "execution_count": 7,
   "id": "b017c38d-9adc-4d0d-aa36-c2f5aab352a3",
   "metadata": {},
   "outputs": [
    {
     "data": {
      "text/html": [
       "<div>\n",
       "<style scoped>\n",
       "    .dataframe tbody tr th:only-of-type {\n",
       "        vertical-align: middle;\n",
       "    }\n",
       "\n",
       "    .dataframe tbody tr th {\n",
       "        vertical-align: top;\n",
       "    }\n",
       "\n",
       "    .dataframe thead th {\n",
       "        text-align: right;\n",
       "    }\n",
       "</style>\n",
       "<table border=\"1\" class=\"dataframe\">\n",
       "  <thead>\n",
       "    <tr style=\"text-align: right;\">\n",
       "      <th></th>\n",
       "      <th>Index</th>\n",
       "      <th>Accident_Severity</th>\n",
       "      <th>Accident Date</th>\n",
       "      <th>Latitude</th>\n",
       "      <th>Light_Conditions</th>\n",
       "      <th>District Area</th>\n",
       "      <th>Longitude</th>\n",
       "      <th>Number_of_Casualties</th>\n",
       "      <th>Number_of_Vehicles</th>\n",
       "      <th>Road_Surface_Conditions</th>\n",
       "      <th>Road_Type</th>\n",
       "      <th>Urban_or_Rural_Area</th>\n",
       "      <th>Weather_Conditions</th>\n",
       "      <th>Vehicle_Type</th>\n",
       "    </tr>\n",
       "  </thead>\n",
       "  <tbody>\n",
       "    <tr>\n",
       "      <th>0</th>\n",
       "      <td>200701BS64157</td>\n",
       "      <td>Serious</td>\n",
       "      <td>5/6/2019</td>\n",
       "      <td>51.506187</td>\n",
       "      <td>Darkness - lights lit</td>\n",
       "      <td>Kensington and Chelsea</td>\n",
       "      <td>-0.209082</td>\n",
       "      <td>1</td>\n",
       "      <td>2</td>\n",
       "      <td>Dry</td>\n",
       "      <td>Single carriageway</td>\n",
       "      <td>Urban</td>\n",
       "      <td>Fine no high winds</td>\n",
       "      <td>Car</td>\n",
       "    </tr>\n",
       "    <tr>\n",
       "      <th>1</th>\n",
       "      <td>200701BS65737</td>\n",
       "      <td>Serious</td>\n",
       "      <td>2/7/2019</td>\n",
       "      <td>51.495029</td>\n",
       "      <td>Daylight</td>\n",
       "      <td>Kensington and Chelsea</td>\n",
       "      <td>-0.173647</td>\n",
       "      <td>1</td>\n",
       "      <td>2</td>\n",
       "      <td>Wet or damp</td>\n",
       "      <td>Single carriageway</td>\n",
       "      <td>Urban</td>\n",
       "      <td>Raining no high winds</td>\n",
       "      <td>Car</td>\n",
       "    </tr>\n",
       "    <tr>\n",
       "      <th>2</th>\n",
       "      <td>200701BS66127</td>\n",
       "      <td>Serious</td>\n",
       "      <td>26-08-2019</td>\n",
       "      <td>51.517715</td>\n",
       "      <td>Darkness - lighting unknown</td>\n",
       "      <td>Kensington and Chelsea</td>\n",
       "      <td>-0.210215</td>\n",
       "      <td>1</td>\n",
       "      <td>3</td>\n",
       "      <td>Dry</td>\n",
       "      <td>NaN</td>\n",
       "      <td>Urban</td>\n",
       "      <td>NaN</td>\n",
       "      <td>Taxi/Private hire car</td>\n",
       "    </tr>\n",
       "    <tr>\n",
       "      <th>3</th>\n",
       "      <td>200701BS66128</td>\n",
       "      <td>Serious</td>\n",
       "      <td>16-08-2019</td>\n",
       "      <td>51.495478</td>\n",
       "      <td>Daylight</td>\n",
       "      <td>Kensington and Chelsea</td>\n",
       "      <td>-0.202731</td>\n",
       "      <td>1</td>\n",
       "      <td>4</td>\n",
       "      <td>Dry</td>\n",
       "      <td>Single carriageway</td>\n",
       "      <td>Urban</td>\n",
       "      <td>Fine no high winds</td>\n",
       "      <td>Bus or coach (17 or more pass seats)</td>\n",
       "    </tr>\n",
       "    <tr>\n",
       "      <th>4</th>\n",
       "      <td>200701BS66837</td>\n",
       "      <td>Slight</td>\n",
       "      <td>3/9/2019</td>\n",
       "      <td>51.488576</td>\n",
       "      <td>Darkness - lights lit</td>\n",
       "      <td>Kensington and Chelsea</td>\n",
       "      <td>-0.192487</td>\n",
       "      <td>1</td>\n",
       "      <td>2</td>\n",
       "      <td>Dry</td>\n",
       "      <td>NaN</td>\n",
       "      <td>Urban</td>\n",
       "      <td>NaN</td>\n",
       "      <td>Other vehicle</td>\n",
       "    </tr>\n",
       "    <tr>\n",
       "      <th>...</th>\n",
       "      <td>...</td>\n",
       "      <td>...</td>\n",
       "      <td>...</td>\n",
       "      <td>...</td>\n",
       "      <td>...</td>\n",
       "      <td>...</td>\n",
       "      <td>...</td>\n",
       "      <td>...</td>\n",
       "      <td>...</td>\n",
       "      <td>...</td>\n",
       "      <td>...</td>\n",
       "      <td>...</td>\n",
       "      <td>...</td>\n",
       "      <td>...</td>\n",
       "    </tr>\n",
       "    <tr>\n",
       "      <th>660674</th>\n",
       "      <td>201091NM01760</td>\n",
       "      <td>Slight</td>\n",
       "      <td>18-02-2022</td>\n",
       "      <td>57.374005</td>\n",
       "      <td>Daylight</td>\n",
       "      <td>Highland</td>\n",
       "      <td>-3.467828</td>\n",
       "      <td>2</td>\n",
       "      <td>1</td>\n",
       "      <td>Dry</td>\n",
       "      <td>Single carriageway</td>\n",
       "      <td>Rural</td>\n",
       "      <td>Fine no high winds</td>\n",
       "      <td>Car</td>\n",
       "    </tr>\n",
       "    <tr>\n",
       "      <th>660675</th>\n",
       "      <td>201091NM01881</td>\n",
       "      <td>Slight</td>\n",
       "      <td>21-02-2022</td>\n",
       "      <td>57.232273</td>\n",
       "      <td>Darkness - no lighting</td>\n",
       "      <td>Highland</td>\n",
       "      <td>-3.809281</td>\n",
       "      <td>1</td>\n",
       "      <td>1</td>\n",
       "      <td>Frost or ice</td>\n",
       "      <td>Single carriageway</td>\n",
       "      <td>Rural</td>\n",
       "      <td>Fine no high winds</td>\n",
       "      <td>Car</td>\n",
       "    </tr>\n",
       "    <tr>\n",
       "      <th>660676</th>\n",
       "      <td>201091NM01935</td>\n",
       "      <td>Slight</td>\n",
       "      <td>23-02-2022</td>\n",
       "      <td>57.585044</td>\n",
       "      <td>Daylight</td>\n",
       "      <td>Highland</td>\n",
       "      <td>-3.862727</td>\n",
       "      <td>1</td>\n",
       "      <td>3</td>\n",
       "      <td>Frost or ice</td>\n",
       "      <td>Single carriageway</td>\n",
       "      <td>Rural</td>\n",
       "      <td>Fine no high winds</td>\n",
       "      <td>Car</td>\n",
       "    </tr>\n",
       "    <tr>\n",
       "      <th>660677</th>\n",
       "      <td>201091NM01964</td>\n",
       "      <td>Serious</td>\n",
       "      <td>23-02-2022</td>\n",
       "      <td>57.214898</td>\n",
       "      <td>Darkness - no lighting</td>\n",
       "      <td>Highland</td>\n",
       "      <td>-3.823997</td>\n",
       "      <td>1</td>\n",
       "      <td>2</td>\n",
       "      <td>Wet or damp</td>\n",
       "      <td>Single carriageway</td>\n",
       "      <td>Rural</td>\n",
       "      <td>Fine no high winds</td>\n",
       "      <td>Motorcycle over 500cc</td>\n",
       "    </tr>\n",
       "    <tr>\n",
       "      <th>660678</th>\n",
       "      <td>201091NM02142</td>\n",
       "      <td>Serious</td>\n",
       "      <td>28-02-2022</td>\n",
       "      <td>57.575210</td>\n",
       "      <td>Daylight</td>\n",
       "      <td>Highland</td>\n",
       "      <td>-3.895673</td>\n",
       "      <td>1</td>\n",
       "      <td>1</td>\n",
       "      <td>Wet or damp</td>\n",
       "      <td>Dual carriageway</td>\n",
       "      <td>Rural</td>\n",
       "      <td>Snowing no high winds</td>\n",
       "      <td>Car</td>\n",
       "    </tr>\n",
       "  </tbody>\n",
       "</table>\n",
       "<p>660679 rows × 14 columns</p>\n",
       "</div>"
      ],
      "text/plain": [
       "                Index Accident_Severity Accident Date   Latitude  \\\n",
       "0       200701BS64157           Serious      5/6/2019  51.506187   \n",
       "1       200701BS65737           Serious      2/7/2019  51.495029   \n",
       "2       200701BS66127           Serious    26-08-2019  51.517715   \n",
       "3       200701BS66128           Serious    16-08-2019  51.495478   \n",
       "4       200701BS66837            Slight      3/9/2019  51.488576   \n",
       "...               ...               ...           ...        ...   \n",
       "660674  201091NM01760            Slight    18-02-2022  57.374005   \n",
       "660675  201091NM01881            Slight    21-02-2022  57.232273   \n",
       "660676  201091NM01935            Slight    23-02-2022  57.585044   \n",
       "660677  201091NM01964           Serious    23-02-2022  57.214898   \n",
       "660678  201091NM02142           Serious    28-02-2022  57.575210   \n",
       "\n",
       "                   Light_Conditions           District Area  Longitude  \\\n",
       "0             Darkness - lights lit  Kensington and Chelsea  -0.209082   \n",
       "1                          Daylight  Kensington and Chelsea  -0.173647   \n",
       "2       Darkness - lighting unknown  Kensington and Chelsea  -0.210215   \n",
       "3                          Daylight  Kensington and Chelsea  -0.202731   \n",
       "4             Darkness - lights lit  Kensington and Chelsea  -0.192487   \n",
       "...                             ...                     ...        ...   \n",
       "660674                     Daylight                Highland  -3.467828   \n",
       "660675       Darkness - no lighting                Highland  -3.809281   \n",
       "660676                     Daylight                Highland  -3.862727   \n",
       "660677       Darkness - no lighting                Highland  -3.823997   \n",
       "660678                     Daylight                Highland  -3.895673   \n",
       "\n",
       "        Number_of_Casualties  Number_of_Vehicles Road_Surface_Conditions  \\\n",
       "0                          1                   2                     Dry   \n",
       "1                          1                   2             Wet or damp   \n",
       "2                          1                   3                     Dry   \n",
       "3                          1                   4                     Dry   \n",
       "4                          1                   2                     Dry   \n",
       "...                      ...                 ...                     ...   \n",
       "660674                     2                   1                     Dry   \n",
       "660675                     1                   1            Frost or ice   \n",
       "660676                     1                   3            Frost or ice   \n",
       "660677                     1                   2             Wet or damp   \n",
       "660678                     1                   1             Wet or damp   \n",
       "\n",
       "                 Road_Type Urban_or_Rural_Area     Weather_Conditions  \\\n",
       "0       Single carriageway               Urban     Fine no high winds   \n",
       "1       Single carriageway               Urban  Raining no high winds   \n",
       "2                      NaN               Urban                    NaN   \n",
       "3       Single carriageway               Urban     Fine no high winds   \n",
       "4                      NaN               Urban                    NaN   \n",
       "...                    ...                 ...                    ...   \n",
       "660674  Single carriageway               Rural     Fine no high winds   \n",
       "660675  Single carriageway               Rural     Fine no high winds   \n",
       "660676  Single carriageway               Rural     Fine no high winds   \n",
       "660677  Single carriageway               Rural     Fine no high winds   \n",
       "660678    Dual carriageway               Rural  Snowing no high winds   \n",
       "\n",
       "                                Vehicle_Type  \n",
       "0                                        Car  \n",
       "1                                        Car  \n",
       "2                      Taxi/Private hire car  \n",
       "3       Bus or coach (17 or more pass seats)  \n",
       "4                              Other vehicle  \n",
       "...                                      ...  \n",
       "660674                                   Car  \n",
       "660675                                   Car  \n",
       "660676                                   Car  \n",
       "660677                 Motorcycle over 500cc  \n",
       "660678                                   Car  \n",
       "\n",
       "[660679 rows x 14 columns]"
      ]
     },
     "execution_count": 7,
     "metadata": {},
     "output_type": "execute_result"
    }
   ],
   "source": [
    "accident"
   ]
  },
  {
   "cell_type": "code",
   "execution_count": 8,
   "id": "44531ac6-e998-4e65-ab1e-54e794b8e255",
   "metadata": {},
   "outputs": [
    {
     "name": "stdout",
     "output_type": "stream",
     "text": [
      "<class 'pandas.core.frame.DataFrame'>\n",
      "RangeIndex: 660679 entries, 0 to 660678\n",
      "Data columns (total 14 columns):\n",
      " #   Column                   Non-Null Count   Dtype  \n",
      "---  ------                   --------------   -----  \n",
      " 0   Index                    660679 non-null  object \n",
      " 1   Accident_Severity        660679 non-null  object \n",
      " 2   Accident Date            660679 non-null  object \n",
      " 3   Latitude                 660654 non-null  float64\n",
      " 4   Light_Conditions         660679 non-null  object \n",
      " 5   District Area            660679 non-null  object \n",
      " 6   Longitude                660653 non-null  float64\n",
      " 7   Number_of_Casualties     660679 non-null  int64  \n",
      " 8   Number_of_Vehicles       660679 non-null  int64  \n",
      " 9   Road_Surface_Conditions  659953 non-null  object \n",
      " 10  Road_Type                656159 non-null  object \n",
      " 11  Urban_or_Rural_Area      660664 non-null  object \n",
      " 12  Weather_Conditions       646551 non-null  object \n",
      " 13  Vehicle_Type             660679 non-null  object \n",
      "dtypes: float64(2), int64(2), object(10)\n",
      "memory usage: 70.6+ MB\n"
     ]
    }
   ],
   "source": [
    "accident.info()"
   ]
  },
  {
   "cell_type": "code",
   "execution_count": 9,
   "id": "ab4e2e3f-02af-41d9-b390-47e8e001dcfe",
   "metadata": {},
   "outputs": [],
   "source": [
    "accident['Index'] = accident['Index'].astype('category')\n",
    "accident['Accident_Severity'] = accident['Accident_Severity'].astype('category')\n",
    "accident['Accident Date'] = pd.to_datetime(accident['Accident Date'], dayfirst = True, errors = 'coerce')\n",
    "accident['Light_Conditions'] = accident['Light_Conditions'].astype('category')\n",
    "accident['District Area '] = accident['District Area'].astype('category')\n",
    "accident['Road_Surface_Conditions'] = accident['Road_Surface_Conditions'].astype('category')\n",
    "accident['Road_Type'] = accident['Road_Type'].astype('category')\n",
    "accident['Urban_or_Rural_Area'] = accident['Urban_or_Rural_Area'].astype('category')\n",
    "accident['Weather_Conditions'] = accident['Weather_Conditions'].astype('category')\n",
    "accident['Vehicle_Type'] = accident['Vehicle_Type'].astype('category')\n",
    "accident['Year'] = accident['Accident Date'].dt.year\n",
    "accident['Month'] = accident['Accident Date'].dt.month\n",
    "accident['Day'] = accident['Accident Date'].dt.day\n",
    "accident['DayOfWeek'] = accident['Accident Date'].dt.dayofweek"
   ]
  },
  {
   "cell_type": "code",
   "execution_count": 10,
   "id": "c1a7ffa3-c8bb-43ef-a01d-bbbdbc2e54a1",
   "metadata": {},
   "outputs": [
    {
     "name": "stdout",
     "output_type": "stream",
     "text": [
      "<class 'pandas.core.frame.DataFrame'>\n",
      "RangeIndex: 660679 entries, 0 to 660678\n",
      "Data columns (total 19 columns):\n",
      " #   Column                   Non-Null Count   Dtype         \n",
      "---  ------                   --------------   -----         \n",
      " 0   Index                    660679 non-null  category      \n",
      " 1   Accident_Severity        660679 non-null  category      \n",
      " 2   Accident Date            265007 non-null  datetime64[ns]\n",
      " 3   Latitude                 660654 non-null  float64       \n",
      " 4   Light_Conditions         660679 non-null  category      \n",
      " 5   District Area            660679 non-null  object        \n",
      " 6   Longitude                660653 non-null  float64       \n",
      " 7   Number_of_Casualties     660679 non-null  int64         \n",
      " 8   Number_of_Vehicles       660679 non-null  int64         \n",
      " 9   Road_Surface_Conditions  659953 non-null  category      \n",
      " 10  Road_Type                656159 non-null  category      \n",
      " 11  Urban_or_Rural_Area      660664 non-null  category      \n",
      " 12  Weather_Conditions       646551 non-null  category      \n",
      " 13  Vehicle_Type             660679 non-null  category      \n",
      " 14  District Area            660679 non-null  category      \n",
      " 15  Year                     265007 non-null  float64       \n",
      " 16  Month                    265007 non-null  float64       \n",
      " 17  Day                      265007 non-null  float64       \n",
      " 18  DayOfWeek                265007 non-null  float64       \n",
      "dtypes: category(9), datetime64[ns](1), float64(6), int64(2), object(1)\n",
      "memory usage: 78.0+ MB\n"
     ]
    }
   ],
   "source": [
    "accident.info()"
   ]
  },
  {
   "cell_type": "code",
   "execution_count": 11,
   "id": "fa42b39c-9409-405d-878f-9cfcd7bf39fc",
   "metadata": {},
   "outputs": [
    {
     "data": {
      "text/plain": [
       "Index                           0\n",
       "Accident_Severity               0\n",
       "Accident Date              395672\n",
       "Latitude                       25\n",
       "Light_Conditions                0\n",
       "District Area                   0\n",
       "Longitude                      26\n",
       "Number_of_Casualties            0\n",
       "Number_of_Vehicles              0\n",
       "Road_Surface_Conditions       726\n",
       "Road_Type                    4520\n",
       "Urban_or_Rural_Area            15\n",
       "Weather_Conditions          14128\n",
       "Vehicle_Type                    0\n",
       "District Area                   0\n",
       "Year                       395672\n",
       "Month                      395672\n",
       "Day                        395672\n",
       "DayOfWeek                  395672\n",
       "dtype: int64"
      ]
     },
     "execution_count": 11,
     "metadata": {},
     "output_type": "execute_result"
    }
   ],
   "source": [
    "accident.isnull().sum()"
   ]
  },
  {
   "cell_type": "code",
   "execution_count": 12,
   "id": "7b6cdee2-0e56-4e42-a1b9-2fbc2612cf6c",
   "metadata": {},
   "outputs": [],
   "source": [
    "accident['Latitude'].mode()\n",
    "accident['Latitude'] = accident['Latitude'].fillna(accident['Latitude'].mode()[0])\n",
    "accident['Longitude'].mode()\n",
    "accident['Longitude'] = accident['Longitude'].fillna(accident['Longitude'].mode()[0])\n",
    "accident['Road_Surface_Conditions'].mode()\n",
    "accident['Road_Surface_Conditions'] = accident['Road_Surface_Conditions'].fillna(accident['Road_Surface_Conditions'].mode()[0])\n",
    "accident['Road_Type'].mode()\n",
    "accident['Road_Type'] = accident['Road_Type'].fillna(accident['Road_Type'].mode()[0])\n",
    "accident['Urban_or_Rural_Area'].mode()\n",
    "accident['Urban_or_Rural_Area'] = accident['Urban_or_Rural_Area'].fillna(accident['Urban_or_Rural_Area'].mode()[0])\n",
    "accident['Weather_Conditions'].mode()\n",
    "accident['Weather_Conditions'] = accident['Weather_Conditions'].fillna(accident['Weather_Conditions'].mode()[0])"
   ]
  },
  {
   "cell_type": "code",
   "execution_count": 13,
   "id": "bd8272d4-ba7a-4f10-96e6-66e121f655ff",
   "metadata": {},
   "outputs": [
    {
     "data": {
      "text/plain": [
       "Index                           0\n",
       "Accident_Severity               0\n",
       "Accident Date              395672\n",
       "Latitude                        0\n",
       "Light_Conditions                0\n",
       "District Area                   0\n",
       "Longitude                       0\n",
       "Number_of_Casualties            0\n",
       "Number_of_Vehicles              0\n",
       "Road_Surface_Conditions         0\n",
       "Road_Type                       0\n",
       "Urban_or_Rural_Area             0\n",
       "Weather_Conditions              0\n",
       "Vehicle_Type                    0\n",
       "District Area                   0\n",
       "Year                       395672\n",
       "Month                      395672\n",
       "Day                        395672\n",
       "DayOfWeek                  395672\n",
       "dtype: int64"
      ]
     },
     "execution_count": 13,
     "metadata": {},
     "output_type": "execute_result"
    }
   ],
   "source": [
    "accident.isnull().sum()"
   ]
  },
  {
   "cell_type": "code",
   "execution_count": null,
   "id": "03834e78-b157-4e7f-bd20-9dd95a1cc6d5",
   "metadata": {},
   "outputs": [],
   "source": []
  },
  {
   "cell_type": "markdown",
   "id": "5b3501e5-ae21-467e-bf62-082f44f25136",
   "metadata": {},
   "source": [
    "<h1>What is the percentage distribution of accident severity?</h1>"
   ]
  },
  {
   "cell_type": "code",
   "execution_count": 14,
   "id": "d1d921d0-07a1-44c5-8452-336c8f0f05cf",
   "metadata": {},
   "outputs": [
    {
     "data": {
      "text/plain": [
       "Accident_Severity\n",
       "Slight     85.336601\n",
       "Serious    13.352475\n",
       "Fatal       1.310924\n",
       "Name: proportion, dtype: float64"
      ]
     },
     "execution_count": 14,
     "metadata": {},
     "output_type": "execute_result"
    }
   ],
   "source": [
    "accident['Accident_Severity'].value_counts(normalize=True) * 100"
   ]
  },
  {
   "cell_type": "markdown",
   "id": "1aa962c2-0944-4d03-944c-c42458e09b2b",
   "metadata": {},
   "source": [
    "<h1>Insight No.1</h1>\n",
    "<h2>The vast majority of accidents (85.34%) are slight, while serious accidents account for 13.35%, and fatal accidents are rare at just 1.31%, indicating that while accidents are common, most are not life-threatening.</h2>"
   ]
  },
  {
   "cell_type": "code",
   "execution_count": null,
   "id": "3c2ad356-12cd-4ec1-972c-9f27e9a04d8f",
   "metadata": {},
   "outputs": [],
   "source": []
  },
  {
   "cell_type": "markdown",
   "id": "61b61600-619b-481f-a989-2ae9de29f5ca",
   "metadata": {},
   "source": [
    "<h1>How many accidents occurred in each year?</h1>"
   ]
  },
  {
   "cell_type": "code",
   "execution_count": 15,
   "id": "36c4c680-7425-46f1-b3e5-dd859747b9b6",
   "metadata": {},
   "outputs": [],
   "source": [
    "accident_per_year = accident['Year'].value_counts()"
   ]
  },
  {
   "cell_type": "code",
   "execution_count": 16,
   "id": "1b8e4797-8d94-42b6-b064-434745349010",
   "metadata": {},
   "outputs": [
    {
     "data": {
      "text/plain": [
       "Year\n",
       "2019.0    71867\n",
       "2020.0    70163\n",
       "2021.0    66172\n",
       "2022.0    56805\n",
       "Name: count, dtype: int64"
      ]
     },
     "execution_count": 16,
     "metadata": {},
     "output_type": "execute_result"
    }
   ],
   "source": [
    "accident_per_year"
   ]
  },
  {
   "cell_type": "code",
   "execution_count": 18,
   "id": "586a58d3-423f-4e0d-9816-167ad3dec2c7",
   "metadata": {},
   "outputs": [
    {
     "data": {
      "image/png": "[encoded data removed]",
      "text/plain": [
       "<Figure size 640x480 with 1 Axes>"
      ]
     },
     "metadata": {},
     "output_type": "display_data"
    }
   ],
   "source": [
    "accident_per_year.plot(kind='bar')\n",
    "plt.title('Accident per Year')\n",
    "plt.xlabel('Year')\n",
    "plt.ylabel('Number of Accidents')\n",
    "plt.show()"
   ]
  },
  {
   "cell_type": "markdown",
   "id": "3cdabaa5-acfa-4076-8e48-d6da6a5ac396",
   "metadata": {},
   "source": [
    "<h1>Insight No.2</h1>\n",
    "<h2>The total number of accidents over four years is 660,679, with 2019 accounting for the highest share (27.6%) and 2022 the lowest (21.9%), showing a consistent decline in accidents each year.</h2>"
   ]
  },
  {
   "cell_type": "code",
   "execution_count": null,
   "id": "467274f7-18d0-4f2b-993c-f91674740597",
   "metadata": {},
   "outputs": [],
   "source": []
  },
  {
   "cell_type": "markdown",
   "id": "6b930d4b-e1a8-44df-8c50-14f2ad0936f8",
   "metadata": {},
   "source": [
    "<h1>On which day of the week do most accidents occur?</h1>"
   ]
  },
  {
   "cell_type": "code",
   "execution_count": 19,
   "id": "0234ab42-1206-4aea-9bbf-2125f6481dcb",
   "metadata": {},
   "outputs": [
    {
     "data": {
      "text/plain": [
       "DayOfWeek\n",
       "5.0    43164\n",
       "2.0    40037\n",
       "4.0    39822\n",
       "3.0    39641\n",
       "1.0    38714\n",
       "6.0    35065\n",
       "0.0    28564\n",
       "Name: count, dtype: int64"
      ]
     },
     "execution_count": 19,
     "metadata": {},
     "output_type": "execute_result"
    }
   ],
   "source": [
    "accident_per_day = accident['DayOfWeek'].value_counts()\n",
    "accident_per_day"
   ]
  },
  {
   "cell_type": "code",
   "execution_count": 22,
   "id": "2de7f7b4-ccf4-4a0c-aa86-4d1bf108d34f",
   "metadata": {},
   "outputs": [
    {
     "data": {
      "image/png": "[encoded data removed]",
      "text/plain": [
       "<Figure size 640x480 with 1 Axes>"
      ]
     },
     "metadata": {},
     "output_type": "display_data"
    }
   ],
   "source": [
    "accident_per_day.plot(kind='bar')\n",
    "plt.title('Accident per Day')\n",
    "plt.xlabel('Day')\n",
    "plt.ylabel('Number of Accidents')\n",
    "plt.show()"
   ]
  },
  {
   "cell_type": "markdown",
   "id": "27798512-043a-49eb-be30-99b00834a354",
   "metadata": {},
   "source": [
    "<h1>Insight No.3</h1>\n",
    "<h2>Fridays have the highest number of accidents, suggesting increased traffic and possibly fatigued or rushed driving at the end of the workweek, while Sundays have the least.</h2>"
   ]
  },
  {
   "cell_type": "code",
   "execution_count": null,
   "id": "533a9a60-26c0-4621-940e-0e192ebee49b",
   "metadata": {},
   "outputs": [],
   "source": []
  },
  {
   "cell_type": "markdown",
   "id": "ba329782-01f2-4a8b-99b5-380d3f72728c",
   "metadata": {},
   "source": [
    "<h1>Which month has the highest accident severity?</h1>"
   ]
  },
  {
   "cell_type": "code",
   "execution_count": 13,
   "id": "cebcd1bf-cd95-4b8f-a1a1-021d045263e6",
   "metadata": {},
   "outputs": [
    {
     "data": {
      "text/plain": [
       "Month  Accident_Severity\n",
       "1.0    Slight               15761\n",
       "       Serious               2219\n",
       "       Fatal                  272\n",
       "2.0    Slight               19227\n",
       "       Serious               2768\n",
       "       Fatal                  269\n",
       "3.0    Slight               18699\n",
       "       Serious               2833\n",
       "       Fatal                  292\n",
       "4.0    Slight               16659\n",
       "       Serious               2828\n",
       "       Fatal                  300\n",
       "5.0    Slight               18423\n",
       "       Serious               2999\n",
       "       Fatal                  301\n",
       "6.0    Slight               18856\n",
       "       Serious               3079\n",
       "       Fatal                  261\n",
       "7.0    Slight               19562\n",
       "       Serious               3082\n",
       "       Fatal                  295\n",
       "8.0    Slight               17779\n",
       "       Serious               3016\n",
       "       Fatal                  311\n",
       "9.0    Slight               19069\n",
       "       Serious               3190\n",
       "       Fatal                  299\n",
       "10.0   Slight               20401\n",
       "       Serious               3252\n",
       "       Fatal                  309\n",
       "11.0   Slight               20886\n",
       "       Serious               3052\n",
       "       Fatal                  302\n",
       "12.0   Slight               20888\n",
       "       Serious               2975\n",
       "       Fatal                  293\n",
       "Name: count, dtype: int64"
      ]
     },
     "execution_count": 13,
     "metadata": {},
     "output_type": "execute_result"
    }
   ],
   "source": [
    "accident.groupby('Month')['Accident_Severity'].value_counts()"
   ]
  },
  {
   "cell_type": "markdown",
   "id": "cd8d78a6-5361-4e29-8a96-02d54ea92f73",
   "metadata": {},
   "source": [
    "<h1>Insight No.4</h1>\n",
    "<h2>November has the highest number of accidents overall, but August records the highest number of fatal accidents (801).</h2>"
   ]
  },
  {
   "cell_type": "code",
   "execution_count": null,
   "id": "a7357270-fbba-4dc8-a04a-62d1ad7f9e9f",
   "metadata": {},
   "outputs": [],
   "source": []
  },
  {
   "cell_type": "markdown",
   "id": "39e2eea1-b467-427d-a0e2-1c91c7e17e02",
   "metadata": {},
   "source": [
    "<h1>Top 5 districts with the most accidents?</h1>"
   ]
  },
  {
   "cell_type": "code",
   "execution_count": 23,
   "id": "831b8eb8-a653-4c6f-8908-c77685d76fe8",
   "metadata": {},
   "outputs": [
    {
     "data": {
      "text/plain": [
       "District Area\n",
       "Birmingham    13491\n",
       "Leeds          8898\n",
       "Manchester     6720\n",
       "Bradford       6212\n",
       "Sheffield      5710\n",
       "Name: count, dtype: int64"
      ]
     },
     "execution_count": 23,
     "metadata": {},
     "output_type": "execute_result"
    }
   ],
   "source": [
    "top_5_DA = accident['District Area'].value_counts().head(5)\n",
    "top_5_DA"
   ]
  },
  {
   "cell_type": "code",
   "execution_count": 24,
   "id": "18b8a3ba-14b5-48dc-8962-6d2055bee620",
   "metadata": {},
   "outputs": [
    {
     "data": {
      "image/png": "[encoded data removed]",
      "text/plain": [
       "<Figure size 640x480 with 1 Axes>"
      ]
     },
     "metadata": {},
     "output_type": "display_data"
    }
   ],
   "source": [
    "top_5_DA.plot(kind='bar')\n",
    "plt.title('Top 5 District with the most accident')\n",
    "plt.xlabel('District Area')\n",
    "plt.ylabel('Number of Accidents')\n",
    "plt.show()"
   ]
  },
  {
   "cell_type": "markdown",
   "id": "33abb92f-5ad6-415c-adac-b116042708b9",
   "metadata": {},
   "source": [
    "<h1>Insight No.5</h1>\n",
    "<h2>Birmingham accounts for 19.2%, Leeds 12.7%, Manchester 9.6%, Bradford 8.8%, and Sheffield 8.1% of accidents among the top five districts, highlighting Birmingham as the most accident-prone area.</h2>"
   ]
  },
  {
   "cell_type": "code",
   "execution_count": null,
   "id": "e4c56ed0-ab95-4414-9bb5-d3fee734f4cf",
   "metadata": {},
   "outputs": [],
   "source": []
  },
  {
   "cell_type": "markdown",
   "id": "d073f2a5-7f35-4a59-85b4-f9c39a6d32f7",
   "metadata": {},
   "source": [
    "<h1>How many accidents happened in urban vs rural areas??</h1>"
   ]
  },
  {
   "cell_type": "code",
   "execution_count": 25,
   "id": "4aef247f-0b4a-4681-9785-45994a941598",
   "metadata": {},
   "outputs": [
    {
     "data": {
      "text/plain": [
       "Urban_or_Rural_Area\n",
       "Urban          421678\n",
       "Rural          238990\n",
       "Unallocated        11\n",
       "Name: count, dtype: int64"
      ]
     },
     "execution_count": 25,
     "metadata": {},
     "output_type": "execute_result"
    }
   ],
   "source": [
    "urban_vs_rural = accident['Urban_or_Rural_Area'].value_counts()\n",
    "urban_vs_rural"
   ]
  },
  {
   "cell_type": "code",
   "execution_count": 26,
   "id": "89920144-bad9-4f68-9711-1c95b958edae",
   "metadata": {},
   "outputs": [
    {
     "data": {
      "image/png": "[encoded data removed]",
      "text/plain": [
       "<Figure size 640x480 with 1 Axes>"
      ]
     },
     "metadata": {},
     "output_type": "display_data"
    }
   ],
   "source": [
    "urban_vs_rural.plot(kind='bar')\n",
    "plt.title('Urban Vs Rural')\n",
    "plt.xlabel('Area')\n",
    "plt.ylabel('Number of Accidents')\n",
    "plt.show()"
   ]
  },
  {
   "cell_type": "markdown",
   "id": "1b65dd45-84eb-4f4e-a00e-7f270f00fc8e",
   "metadata": {},
   "source": [
    "<h1>Insight No.6</h1>\n",
    "<h2>Urban areas account for 63.8% of accidents, while rural areas make up 36.2%, indicating that accidents are significantly more frequent in urban settings</h2>"
   ]
  },
  {
   "cell_type": "code",
   "execution_count": null,
   "id": "9fe7f505-4074-437d-93bb-8a9ba76846ae",
   "metadata": {},
   "outputs": [],
   "source": []
  },
  {
   "cell_type": "markdown",
   "id": "22302f9a-00d3-4634-b5bc-5fc8abad25c0",
   "metadata": {},
   "source": [
    "<h1>Which vehicle type is most commonly involved in accidents in urban areas?</h1>"
   ]
  },
  {
   "cell_type": "code",
   "execution_count": 16,
   "id": "dcb9cedf-51f0-4b38-81ed-4e42e5b4971b",
   "metadata": {},
   "outputs": [
    {
     "data": {
      "text/plain": [
       "Vehicle_Type\n",
       "Car                                      316062\n",
       "Van / Goods 3.5 tonnes mgw or under       22003\n",
       "Bus or coach (17 or more pass seats)      16851\n",
       "Motorcycle over 500cc                     16700\n",
       "Goods 7.5 tonnes mgw and over             11151\n",
       "Motorcycle 125cc and under                10246\n",
       "Taxi/Private hire car                      8617\n",
       "Motorcycle over 125cc and up to 500cc      4982\n",
       "Motorcycle 50cc and under                  4893\n",
       "Goods over 3.5t. and under 7.5t            3864\n",
       "Other vehicle                              3643\n",
       "Agricultural vehicle                       1272\n",
       "Minibus (8 - 16 passenger seats)           1258\n",
       "Pedal cycle                                 127\n",
       "Data missing or out of range                  6\n",
       "Ridden horse                                  3\n",
       "Name: count, dtype: int64"
      ]
     },
     "execution_count": 16,
     "metadata": {},
     "output_type": "execute_result"
    }
   ],
   "source": [
    "accident[accident['Urban_or_Rural_Area'] == 'Urban']['Vehicle_Type'].value_counts()"
   ]
  },
  {
   "cell_type": "markdown",
   "id": "45b6da92-963f-4014-837c-70b1a3d879e9",
   "metadata": {},
   "source": [
    "<h1>Insight No.7</h1>\n",
    "<h2>Cars dominate urban accidents, making up the vast majority, while motorcycles and taxis also contribute significantly, highlighting the risk for both private and commercial vehicles in urban areas</h2>"
   ]
  },
  {
   "cell_type": "code",
   "execution_count": null,
   "id": "d3b0a37c-ab6b-4114-b13d-d97450686bba",
   "metadata": {},
   "outputs": [],
   "source": []
  },
  {
   "cell_type": "markdown",
   "id": "b498de42-a065-4cab-9b54-fb5f34f5dcf2",
   "metadata": {},
   "source": [
    "<h1>Which vehicle type is most commonly involved in accidents in rural areas??</h1>"
   ]
  },
  {
   "cell_type": "code",
   "execution_count": 17,
   "id": "c774e5f6-985e-4689-9566-5c4a0dcc16bf",
   "metadata": {},
   "outputs": [
    {
     "data": {
      "text/plain": [
       "Vehicle_Type\n",
       "Car                                      181922\n",
       "Van / Goods 3.5 tonnes mgw or under       12156\n",
       "Bus or coach (17 or more pass seats)       9025\n",
       "Motorcycle over 500cc                      8957\n",
       "Goods 7.5 tonnes mgw and over              6156\n",
       "Motorcycle 125cc and under                 5023\n",
       "Taxi/Private hire car                      4677\n",
       "Motorcycle 50cc and under                  2710\n",
       "Motorcycle over 125cc and up to 500cc      2674\n",
       "Goods over 3.5t. and under 7.5t            2232\n",
       "Other vehicle                              1994\n",
       "Minibus (8 - 16 passenger seats)            718\n",
       "Agricultural vehicle                        675\n",
       "Pedal cycle                                  70\n",
       "Ridden horse                                  1\n",
       "Data missing or out of range                  0\n",
       "Name: count, dtype: int64"
      ]
     },
     "execution_count": 17,
     "metadata": {},
     "output_type": "execute_result"
    }
   ],
   "source": [
    "accident[accident['Urban_or_Rural_Area'] == 'Rural']['Vehicle_Type'].value_counts()"
   ]
  },
  {
   "cell_type": "markdown",
   "id": "7d8d7628-51e5-4ae1-bfc0-02bbf0a8b576",
   "metadata": {},
   "source": [
    "<h1>Insight No.8</h1>\n",
    "<h2>Cars are the most involved vehicles in rural accidents, but motorcycles but especially those over 500cc it appears more frequently in rural areas compared to urban areas, suggesting a higher risk for motorcyclists on rural roads.</h2>"
   ]
  },
  {
   "cell_type": "code",
   "execution_count": null,
   "id": "8204fdd9-1c8c-4bcc-af85-d52d816a2184",
   "metadata": {},
   "outputs": [],
   "source": []
  },
  {
   "cell_type": "markdown",
   "id": "4762f4b5-c327-496c-b0ac-55a1c8ccb757",
   "metadata": {},
   "source": [
    "<h1>Do wet road conditions lead to more severe accidents?</h1>"
   ]
  },
  {
   "cell_type": "code",
   "execution_count": 18,
   "id": "58ce6a46-92e5-43ff-97b7-35738aa0c944",
   "metadata": {},
   "outputs": [
    {
     "data": {
      "text/plain": [
       "Road_Surface_Conditions  Accident_Severity\n",
       "Dry                      Slight               381049\n",
       "                         Serious               61708\n",
       "                         Fatal                  5790\n",
       "Flood over 3cm. deep     Slight                  842\n",
       "                         Serious                 152\n",
       "                         Fatal                    23\n",
       "Frost or ice             Slight                16317\n",
       "                         Serious                2007\n",
       "                         Fatal                   193\n",
       "Snow                     Slight                 5290\n",
       "                         Serious                 565\n",
       "                         Fatal                    35\n",
       "Wet or damp              Slight               160303\n",
       "                         Serious               23785\n",
       "                         Fatal                  2620\n",
       "Name: count, dtype: int64"
      ]
     },
     "execution_count": 18,
     "metadata": {},
     "output_type": "execute_result"
    }
   ],
   "source": [
    "accident.groupby('Road_Surface_Conditions')['Accident_Severity'].value_counts()"
   ]
  },
  {
   "cell_type": "markdown",
   "id": "ca0a1b93-3a47-456b-922b-ad7c9b06e703",
   "metadata": {},
   "source": [
    "<h1>Insight No.9</h1>\n",
    "<h2>Wet or damp roads account for a significant proportion of serious (27.7%) and fatal (28.9%) accidents compared to dry roads, indicating that wet conditions increase the risk of severe accidents.</h2>"
   ]
  },
  {
   "cell_type": "code",
   "execution_count": null,
   "id": "c0b8a0db-e2b3-40be-8407-2df7c2a556c2",
   "metadata": {},
   "outputs": [],
   "source": []
  },
  {
   "cell_type": "markdown",
   "id": "24dba48f-aad0-456e-b016-15a574790e79",
   "metadata": {},
   "source": [
    "<h1>Are accidents more severe at night than during the day?</h1>"
   ]
  },
  {
   "cell_type": "code",
   "execution_count": 19,
   "id": "2f72fe02-5cc2-446b-b20b-a0a69870b5c2",
   "metadata": {},
   "outputs": [
    {
     "data": {
      "text/plain": [
       "Light_Conditions             Accident_Severity\n",
       "Darkness - lighting unknown  Slight               86.705737\n",
       "                             Serious              12.245527\n",
       "                             Fatal                 1.048735\n",
       "Darkness - lights lit        Slight               83.770828\n",
       "                             Serious              14.791047\n",
       "                             Fatal                 1.438126\n",
       "Darkness - lights unlit      Slight               84.073928\n",
       "                             Serious              14.156508\n",
       "                             Fatal                 1.769564\n",
       "Darkness - no lighting       Slight               76.531239\n",
       "                             Serious              19.162860\n",
       "                             Fatal                 4.305901\n",
       "Daylight                     Slight               86.422414\n",
       "                             Serious              12.530729\n",
       "                             Fatal                 1.046857\n",
       "Name: proportion, dtype: float64"
      ]
     },
     "execution_count": 19,
     "metadata": {},
     "output_type": "execute_result"
    }
   ],
   "source": [
    "accident.groupby('Light_Conditions')['Accident_Severity'].value_counts(normalize=True) * 100"
   ]
  },
  {
   "cell_type": "markdown",
   "id": "af7540c8-37ef-4f3b-9210-02f2337b99e6",
   "metadata": {},
   "source": [
    "<h1>Insight No.10</h1>\n",
    "<h2>Accidents in complete darkness with no lighting have the highest severity, with 19.16% serious and 4.31% fatal, nearly quadrupling the fatality rate compared to daylight (1.05%), highlighting the dangers of poorly lit roads at night.</h2>"
   ]
  },
  {
   "cell_type": "code",
   "execution_count": null,
   "id": "e12523dc-3684-4633-86c7-4b622f17760b",
   "metadata": {},
   "outputs": [],
   "source": []
  },
  {
   "cell_type": "markdown",
   "id": "d069f5e2-b196-490f-8de3-5b6fc108dc87",
   "metadata": {},
   "source": [
    "<h1>Correlation between accident severity and weather conditions?</h1>"
   ]
  },
  {
   "cell_type": "code",
   "execution_count": 20,
   "id": "d4ddbbe0-af5c-428c-bbf7-3ba72b255d80",
   "metadata": {},
   "outputs": [
    {
     "data": {
      "text/html": [
       "<div>\n",
       "<style scoped>\n",
       "    .dataframe tbody tr th:only-of-type {\n",
       "        vertical-align: middle;\n",
       "    }\n",
       "\n",
       "    .dataframe tbody tr th {\n",
       "        vertical-align: top;\n",
       "    }\n",
       "\n",
       "    .dataframe thead th {\n",
       "        text-align: right;\n",
       "    }\n",
       "</style>\n",
       "<table border=\"1\" class=\"dataframe\">\n",
       "  <thead>\n",
       "    <tr style=\"text-align: right;\">\n",
       "      <th>Accident_Severity</th>\n",
       "      <th>Fatal</th>\n",
       "      <th>Serious</th>\n",
       "      <th>Slight</th>\n",
       "    </tr>\n",
       "    <tr>\n",
       "      <th>Weather_Conditions</th>\n",
       "      <th></th>\n",
       "      <th></th>\n",
       "      <th></th>\n",
       "    </tr>\n",
       "  </thead>\n",
       "  <tbody>\n",
       "    <tr>\n",
       "      <th>Fine + high winds</th>\n",
       "      <td>175</td>\n",
       "      <td>1245</td>\n",
       "      <td>7134</td>\n",
       "    </tr>\n",
       "    <tr>\n",
       "      <th>Fine no high winds</th>\n",
       "      <td>7207</td>\n",
       "      <td>73285</td>\n",
       "      <td>454521</td>\n",
       "    </tr>\n",
       "    <tr>\n",
       "      <th>Fog or mist</th>\n",
       "      <td>82</td>\n",
       "      <td>483</td>\n",
       "      <td>2963</td>\n",
       "    </tr>\n",
       "    <tr>\n",
       "      <th>Other</th>\n",
       "      <td>165</td>\n",
       "      <td>1801</td>\n",
       "      <td>15184</td>\n",
       "    </tr>\n",
       "    <tr>\n",
       "      <th>Raining + high winds</th>\n",
       "      <td>145</td>\n",
       "      <td>1261</td>\n",
       "      <td>8209</td>\n",
       "    </tr>\n",
       "    <tr>\n",
       "      <th>Raining no high winds</th>\n",
       "      <td>848</td>\n",
       "      <td>9468</td>\n",
       "      <td>69380</td>\n",
       "    </tr>\n",
       "    <tr>\n",
       "      <th>Snowing + high winds</th>\n",
       "      <td>3</td>\n",
       "      <td>109</td>\n",
       "      <td>773</td>\n",
       "    </tr>\n",
       "    <tr>\n",
       "      <th>Snowing no high winds</th>\n",
       "      <td>36</td>\n",
       "      <td>565</td>\n",
       "      <td>5637</td>\n",
       "    </tr>\n",
       "  </tbody>\n",
       "</table>\n",
       "</div>"
      ],
      "text/plain": [
       "Accident_Severity      Fatal  Serious  Slight\n",
       "Weather_Conditions                           \n",
       "Fine + high winds        175     1245    7134\n",
       "Fine no high winds      7207    73285  454521\n",
       "Fog or mist               82      483    2963\n",
       "Other                    165     1801   15184\n",
       "Raining + high winds     145     1261    8209\n",
       "Raining no high winds    848     9468   69380\n",
       "Snowing + high winds       3      109     773\n",
       "Snowing no high winds     36      565    5637"
      ]
     },
     "execution_count": 20,
     "metadata": {},
     "output_type": "execute_result"
    }
   ],
   "source": [
    "pd.crosstab(accident['Weather_Conditions'], accident['Accident_Severity'])"
   ]
  },
  {
   "cell_type": "markdown",
   "id": "87245b41-7b15-4a56-9e46-5d8b07f00020",
   "metadata": {},
   "source": [
    "<h1>Insight No.11</h1>\n",
    "<h2>Fatal accidents are highest in \"Fine no high winds\" conditions (7,207), but the proportion of severe accidents is noticeably higher in adverse weather like \"Raining + high winds\" and \"Fog or mist,\" suggesting that while most accidents happen in clear weather due to higher traffic volume, bad weather increases accident severity</h2>"
   ]
  },
  {
   "cell_type": "code",
   "execution_count": null,
   "id": "cdb2c991-158c-44a0-8ec5-25783b68d084",
   "metadata": {},
   "outputs": [],
   "source": []
  },
  {
   "cell_type": "markdown",
   "id": "475b699a-bb70-48fc-a6e6-53a1edaa844e",
   "metadata": {},
   "source": [
    "<h1>Which road type has the highest number of fatal accidents?<h1>"
   ]
  },
  {
   "cell_type": "code",
   "execution_count": 21,
   "id": "51b1efbc-8572-433b-bfd5-a9422066f8f0",
   "metadata": {},
   "outputs": [
    {
     "data": {
      "text/plain": [
       "Road_Type\n",
       "Single carriageway    6560\n",
       "Dual carriageway      1815\n",
       "Roundabout             142\n",
       "One way street          95\n",
       "Slip road               49\n",
       "Name: count, dtype: int64"
      ]
     },
     "execution_count": 21,
     "metadata": {},
     "output_type": "execute_result"
    }
   ],
   "source": [
    "accident[accident['Accident_Severity'] == 'Fatal']['Road_Type'].value_counts()"
   ]
  },
  {
   "cell_type": "markdown",
   "id": "b05df029-7449-4fd4-8bfc-60f8bddce582",
   "metadata": {},
   "source": [
    "<h1>Insight No.12</h1>\n",
    "<h2>Single carriageways account for the highest number of fatal accidents (6,560), making up the majority, while fatalities on roundabouts, one-way streets, and slip roads are significantly low</h2>"
   ]
  },
  {
   "cell_type": "code",
   "execution_count": null,
   "id": "e856d764-bef9-40cd-8747-3076015451be",
   "metadata": {},
   "outputs": [],
   "source": []
  },
  {
   "cell_type": "markdown",
   "id": "fb23c013-0020-4918-a518-ede0781891f6",
   "metadata": {},
   "source": [
    "<h1>Which vehicle type has the highest proportion of fatal accidents?<h1>"
   ]
  },
  {
   "cell_type": "code",
   "execution_count": 22,
   "id": "d18efd7d-25e9-40f2-91d5-79d5da5e15fe",
   "metadata": {},
   "outputs": [
    {
     "data": {
      "text/plain": [
       "Vehicle_Type                           Accident_Severity\n",
       "Agricultural vehicle                   Slight                84.437596\n",
       "                                       Serious               14.483821\n",
       "                                       Fatal                  1.078582\n",
       "Bus or coach (17 or more pass seats)   Slight                85.709869\n",
       "                                       Serious               13.034238\n",
       "                                       Fatal                  1.255893\n",
       "Car                                    Slight                85.333499\n",
       "                                       Serious               13.345797\n",
       "                                       Fatal                  1.320704\n",
       "Data missing or out of range           Slight               100.000000\n",
       "                                       Fatal                  0.000000\n",
       "                                       Serious                0.000000\n",
       "Goods 7.5 tonnes mgw and over          Slight                85.341191\n",
       "                                       Serious               13.410759\n",
       "                                       Fatal                  1.248050\n",
       "Goods over 3.5t. and under 7.5t        Slight                84.842520\n",
       "                                       Serious               14.058399\n",
       "                                       Fatal                  1.099081\n",
       "Minibus (8 - 16 passenger seats)       Slight                84.564777\n",
       "                                       Serious               13.967611\n",
       "                                       Fatal                  1.467611\n",
       "Motorcycle 125cc and under             Slight                85.460737\n",
       "                                       Serious               13.301460\n",
       "                                       Fatal                  1.237802\n",
       "Motorcycle 50cc and under              Slight                85.413653\n",
       "                                       Serious               13.336841\n",
       "                                       Fatal                  1.249507\n",
       "Motorcycle over 125cc and up to 500cc  Slight                85.384013\n",
       "                                       Serious               13.244514\n",
       "                                       Fatal                  1.371473\n",
       "Motorcycle over 500cc                  Slight                85.204817\n",
       "                                       Serious               13.473906\n",
       "                                       Fatal                  1.321277\n",
       "Other vehicle                          Slight                85.151676\n",
       "                                       Serious               13.606528\n",
       "                                       Fatal                  1.241795\n",
       "Pedal cycle                            Slight                77.157360\n",
       "                                       Serious               19.796954\n",
       "                                       Fatal                  3.045685\n",
       "Ridden horse                           Slight               100.000000\n",
       "                                       Fatal                  0.000000\n",
       "                                       Serious                0.000000\n",
       "Taxi/Private hire car                  Slight                85.512261\n",
       "                                       Serious               13.321799\n",
       "                                       Fatal                  1.165940\n",
       "Van / Goods 3.5 tonnes mgw or under    Slight                85.301522\n",
       "                                       Serious               13.331382\n",
       "                                       Fatal                  1.367096\n",
       "Name: proportion, dtype: float64"
      ]
     },
     "execution_count": 22,
     "metadata": {},
     "output_type": "execute_result"
    }
   ],
   "source": [
    "accident.groupby('Vehicle_Type')['Accident_Severity'].value_counts(normalize=True)*100"
   ]
  },
  {
   "cell_type": "markdown",
   "id": "c5be6b7b-167f-4ac4-a720-973c3d250527",
   "metadata": {},
   "source": [
    "<h1>Insight No.13</h1>\n",
    "<h2>Pedal cycles have the highest proportion of fatal accidents at 3.05%, significantly higher than all other vehicle types, highlighting their vulnerability on the roads compared to motor vehicles</h2>"
   ]
  },
  {
   "cell_type": "code",
   "execution_count": null,
   "id": "6d07414b-1dd9-4b60-b360-91f362fbc912",
   "metadata": {},
   "outputs": [],
   "source": []
  },
  {
   "cell_type": "markdown",
   "id": "998bbda9-f4b8-4e5b-ad88-83e0c61b1f4c",
   "metadata": {},
   "source": [
    "<h1>What is the severity distribution for motorcycle accidents?<h1>"
   ]
  },
  {
   "cell_type": "code",
   "execution_count": 23,
   "id": "f2982c50-8acf-4488-9f36-6cce1bb7ca14",
   "metadata": {},
   "outputs": [
    {
     "data": {
      "text/plain": [
       "Accident_Severity\n",
       "Slight     47941\n",
       "Serious     7516\n",
       "Fatal        728\n",
       "Name: count, dtype: int64"
      ]
     },
     "execution_count": 23,
     "metadata": {},
     "output_type": "execute_result"
    }
   ],
   "source": [
    "accident[accident['Vehicle_Type'].str.contains('Motorcycle', na=False)]['Accident_Severity'].value_counts()"
   ]
  },
  {
   "cell_type": "markdown",
   "id": "a30f80d7-d88a-4fa9-b7c9-0b092eb95a46",
   "metadata": {},
   "source": [
    "<h1>Insight No.14</h1>\n",
    "<h2>Motorcycle accidents have a higher severity rate, with 14.7% classified as serious and 1.43% as fatal, making them more dangerous compared to the overall accident severity distribution.</h2>"
   ]
  },
  {
   "cell_type": "code",
   "execution_count": null,
   "id": "5d5857a9-85ed-46ce-9d2d-920ce909612b",
   "metadata": {},
   "outputs": [],
   "source": []
  },
  {
   "cell_type": "markdown",
   "id": "89921222-352a-4bc3-b830-118d42d7e540",
   "metadata": {},
   "source": [
    "<h1>What is the severity distribution for motorcycle accidents?<h1>"
   ]
  },
  {
   "cell_type": "code",
   "execution_count": 24,
   "id": "813e9f4f-462d-4f98-b43e-864cd5d0cd22",
   "metadata": {},
   "outputs": [
    {
     "data": {
      "text/plain": [
       "Weather_Conditions  Road_Surface_Conditions  Light_Conditions\n",
       "Fine no high winds  Dry                      Daylight            3718\n",
       "dtype: int64"
      ]
     },
     "execution_count": 24,
     "metadata": {},
     "output_type": "execute_result"
    }
   ],
   "source": [
    "accident[accident['Accident_Severity'] == 'Fatal'].groupby(['Weather_Conditions', 'Road_Surface_Conditions', 'Light_Conditions']).size().sort_values(ascending=False).head(1)\n"
   ]
  },
  {
   "cell_type": "markdown",
   "id": "3ed3fd33-6e03-48b6-8b62-e954c7900366",
   "metadata": {},
   "source": [
    "<h1>Insight No.15</h1>\n",
    "<h2>The most fatal motorcycle accidents occur in \"Fine no high winds,\" \"Dry roads,\" and \"Daylight\" conditions (3,718 cases).</h2>"
   ]
  },
  {
   "cell_type": "code",
   "execution_count": null,
   "id": "305382b7-81f5-408a-a8f7-63a28b36ce54",
   "metadata": {},
   "outputs": [],
   "source": []
  },
  {
   "cell_type": "markdown",
   "id": "9c1683b8-1447-4d98-8088-547c455be446",
   "metadata": {},
   "source": [
    "<h1>Are accidents more severe on weekends?<h1>"
   ]
  },
  {
   "cell_type": "code",
   "execution_count": 25,
   "id": "b2306bc0-4af3-4814-b275-b7a8ca5f90e7",
   "metadata": {},
   "outputs": [
    {
     "data": {
      "text/plain": [
       "Accident_Severity\n",
       "Slight     84.913523\n",
       "Serious    13.658618\n",
       "Fatal       1.427859\n",
       "Name: proportion, dtype: float64"
      ]
     },
     "execution_count": 25,
     "metadata": {},
     "output_type": "execute_result"
    }
   ],
   "source": [
    "accident[accident['DayOfWeek'].isin([5, 6])]['Accident_Severity'].value_counts(normalize=True)*100"
   ]
  },
  {
   "cell_type": "markdown",
   "id": "04296f0d-4d2f-497f-976c-486094417b99",
   "metadata": {},
   "source": [
    "<h1>Insight No.16</h1>\n",
    "<h2>Weekend accidents have a slightly higher fatality rate (1.45%) compared to the overall average (1.31%)</h2>"
   ]
  },
  {
   "cell_type": "code",
   "execution_count": null,
   "id": "223647c1-2a09-474c-a8e9-a7e80119e929",
   "metadata": {},
   "outputs": [],
   "source": []
  },
  {
   "cell_type": "markdown",
   "id": "2fb32efb-09a6-4298-9ae6-0c04ab123431",
   "metadata": {},
   "source": [
    "<h1>Do accidents in December have a higher severity compared to other months<h1>"
   ]
  },
  {
   "cell_type": "code",
   "execution_count": 26,
   "id": "12f758c1-d43c-49e8-9d7f-744eedbbbdcb",
   "metadata": {},
   "outputs": [
    {
     "data": {
      "text/plain": [
       "Accident_Severity\n",
       "Slight     86.471270\n",
       "Serious    12.315781\n",
       "Fatal       1.212949\n",
       "Name: proportion, dtype: float64"
      ]
     },
     "execution_count": 26,
     "metadata": {},
     "output_type": "execute_result"
    }
   ],
   "source": [
    "accident[accident['Month'] == 12]['Accident_Severity'].value_counts(normalize=True)*100"
   ]
  },
  {
   "cell_type": "markdown",
   "id": "92027bb9-d3eb-4af7-9fcf-8db411e01b17",
   "metadata": {},
   "source": [
    "<h1>Insight No.17</h1>\n",
    "<h2>December accidents have a slightly lower serious accident rate (12.17%) and a nearly identical fatality rate (1.29%) compared to the overall average</h2>"
   ]
  },
  {
   "cell_type": "code",
   "execution_count": null,
   "id": "febc7876-d9e1-4ef2-a4c8-cb287b00a7eb",
   "metadata": {},
   "outputs": [],
   "source": []
  },
  {
   "cell_type": "markdown",
   "id": "06bddfcb-e047-4d38-9dfb-cf378db340f4",
   "metadata": {},
   "source": [
    "<h1>Do accidents tend to happen at specific longitude or latitude ranges?<h1>"
   ]
  },
  {
   "cell_type": "code",
   "execution_count": 27,
   "id": "a51fb0b3-4acd-4db6-886c-24455262ed3a",
   "metadata": {},
   "outputs": [
    {
     "data": {
      "text/html": [
       "<div>\n",
       "<style scoped>\n",
       "    .dataframe tbody tr th:only-of-type {\n",
       "        vertical-align: middle;\n",
       "    }\n",
       "\n",
       "    .dataframe tbody tr th {\n",
       "        vertical-align: top;\n",
       "    }\n",
       "\n",
       "    .dataframe thead th {\n",
       "        text-align: right;\n",
       "    }\n",
       "</style>\n",
       "<table border=\"1\" class=\"dataframe\">\n",
       "  <thead>\n",
       "    <tr style=\"text-align: right;\">\n",
       "      <th></th>\n",
       "      <th>Latitude</th>\n",
       "      <th>Longitude</th>\n",
       "    </tr>\n",
       "  </thead>\n",
       "  <tbody>\n",
       "    <tr>\n",
       "      <th>count</th>\n",
       "      <td>660679.000000</td>\n",
       "      <td>660679.000000</td>\n",
       "    </tr>\n",
       "    <tr>\n",
       "      <th>mean</th>\n",
       "      <td>52.553862</td>\n",
       "      <td>-1.431193</td>\n",
       "    </tr>\n",
       "    <tr>\n",
       "      <th>std</th>\n",
       "      <td>1.406896</td>\n",
       "      <td>1.383305</td>\n",
       "    </tr>\n",
       "    <tr>\n",
       "      <th>min</th>\n",
       "      <td>49.914430</td>\n",
       "      <td>-7.516225</td>\n",
       "    </tr>\n",
       "    <tr>\n",
       "      <th>25%</th>\n",
       "      <td>51.490696</td>\n",
       "      <td>-2.332191</td>\n",
       "    </tr>\n",
       "    <tr>\n",
       "      <th>50%</th>\n",
       "      <td>52.315755</td>\n",
       "      <td>-1.411613</td>\n",
       "    </tr>\n",
       "    <tr>\n",
       "      <th>75%</th>\n",
       "      <td>53.453444</td>\n",
       "      <td>-0.232901</td>\n",
       "    </tr>\n",
       "    <tr>\n",
       "      <th>max</th>\n",
       "      <td>60.757544</td>\n",
       "      <td>1.762010</td>\n",
       "    </tr>\n",
       "  </tbody>\n",
       "</table>\n",
       "</div>"
      ],
      "text/plain": [
       "            Latitude      Longitude\n",
       "count  660679.000000  660679.000000\n",
       "mean       52.553862      -1.431193\n",
       "std         1.406896       1.383305\n",
       "min        49.914430      -7.516225\n",
       "25%        51.490696      -2.332191\n",
       "50%        52.315755      -1.411613\n",
       "75%        53.453444      -0.232901\n",
       "max        60.757544       1.762010"
      ]
     },
     "execution_count": 27,
     "metadata": {},
     "output_type": "execute_result"
    }
   ],
   "source": [
    "accident[['Latitude', 'Longitude']].describe()"
   ]
  },
  {
   "cell_type": "markdown",
   "id": "805dd17a-a47d-4b78-a20f-c6a247eebb5f",
   "metadata": {},
   "source": [
    "<h1>Insight No.18</h1>\n",
    "<h2>Accidents are most concentrated around a mean latitude of 52.55 and longitude of -1.43</h2>"
   ]
  },
  {
   "cell_type": "code",
   "execution_count": null,
   "id": "796a51ae-b487-477e-bf01-29eefe15c98d",
   "metadata": {},
   "outputs": [],
   "source": []
  },
  {
   "cell_type": "markdown",
   "id": "310cc558-4742-4404-b436-6eb6f1e21551",
   "metadata": {},
   "source": [
    "<h1>Which day of the week has the most multi-vehicle accidents?<h1>"
   ]
  },
  {
   "cell_type": "code",
   "execution_count": 28,
   "id": "a45c3afa-4133-4bbc-bc03-457233091c0e",
   "metadata": {},
   "outputs": [
    {
     "data": {
      "text/plain": [
       "DayOfWeek\n",
       "0.0    18471\n",
       "1.0    27162\n",
       "2.0    28542\n",
       "3.0    28305\n",
       "4.0    28540\n",
       "5.0    30435\n",
       "6.0    22939\n",
       "dtype: int64"
      ]
     },
     "execution_count": 28,
     "metadata": {},
     "output_type": "execute_result"
    }
   ],
   "source": [
    "accident[accident['Number_of_Vehicles'] > 1].groupby('DayOfWeek').size()"
   ]
  },
  {
   "cell_type": "markdown",
   "id": "c8f92289-222f-4591-9118-66b3c651e562",
   "metadata": {},
   "source": [
    "<h1>Insight No.19</h1>\n",
    "<h2>Fridays have the highest number of multi-vehicle accidents (75,361), likely due to increased traffic congestion as people commute before the weekend, while Sundays have the least (47,122)</h2>"
   ]
  },
  {
   "cell_type": "markdown",
   "id": "9df6f757-565c-41ed-908d-f94c0c075877",
   "metadata": {},
   "source": [
    "<h1>How many accidents occured per Month?<h1>"
   ]
  },
  {
   "cell_type": "code",
   "execution_count": 37,
   "id": "fe98d5c1-0b8d-4994-818b-4c02c3ea1b41",
   "metadata": {},
   "outputs": [
    {
     "data": {
      "text/plain": [
       "Month\n",
       "1.0     18252\n",
       "2.0     22264\n",
       "3.0     21824\n",
       "4.0     19787\n",
       "5.0     21723\n",
       "6.0     22196\n",
       "7.0     22939\n",
       "8.0     21106\n",
       "9.0     22558\n",
       "10.0    23962\n",
       "11.0    24240\n",
       "12.0    24156\n",
       "Name: count, dtype: int64"
      ]
     },
     "execution_count": 37,
     "metadata": {},
     "output_type": "execute_result"
    }
   ],
   "source": [
    "accidents_per_Month = accident['Month'].value_counts().sort_index()\n",
    "accidents_per_Month"
   ]
  },
  {
   "cell_type": "code",
   "execution_count": 38,
   "id": "4b19fb79-b0b2-43ef-adac-b71855a81f1d",
   "metadata": {},
   "outputs": [
    {
     "data": {
      "image/png": "[encoded data removed]",
      "text/plain": [
       "<Figure size 640x480 with 1 Axes>"
      ]
     },
     "metadata": {},
     "output_type": "display_data"
    }
   ],
   "source": [
    "month_names = {1.0: 'January',\n",
    "            2: 'February',\n",
    "            3: 'March',\n",
    "            4: 'April',\n",
    "            5: 'May',\n",
    "            6: 'June',\n",
    "            7: 'July',\n",
    "            8: 'August',\n",
    "            9: 'September',\n",
    "            10: 'October',\n",
    "            11: 'November',\n",
    "            12: 'December',     \n",
    "           }\n",
    "accidents_per_Month.index = accidents_per_Month.index.map(month_names)\n",
    "accidents_per_Month.plot(kind='bar')\n",
    "plt.title('Accidents per Month')\n",
    "plt.xlabel('Months')\n",
    "plt.ylabel('Number of Accidents')\n",
    "plt.show()"
   ]
  },
  {
   "cell_type": "markdown",
   "id": "3b6dc9c4-e1b7-4780-a3c7-d519c7a653ad",
   "metadata": {},
   "source": [
    "<h1>Insight No.20</h1>\n",
    "<h2>December and November  have the highest number of  accidents and the Lowest is the Month of January</h2>"
   ]
  },
  {
   "cell_type": "code",
   "execution_count": null,
   "id": "35c891d3-f4a9-45c9-a7cf-f6e9aa782b5c",
   "metadata": {},
   "outputs": [],
   "source": []
  },
  {
   "cell_type": "code",
   "execution_count": null,
   "id": "a53f11db-68e7-4549-824b-e6562fc1eb1e",
   "metadata": {},
   "outputs": [],
   "source": []
  }
 ],
 "metadata": {
  "kernelspec": {
   "display_name": "Python 3 (ipykernel)",
   "language": "python",
   "name": "python3"
  },
  "language_info": {
   "codemirror_mode": {
    "name": "ipython",
    "version": 3
   },
   "file_extension": ".py",
   "mimetype": "text/x-python",
   "name": "python",
   "nbconvert_exporter": "python",
   "pygments_lexer": "ipython3",
   "version": "3.10.11"
  }
 },
 "nbformat": 4,
 "nbformat_minor": 5
}
